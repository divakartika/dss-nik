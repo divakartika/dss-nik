{
 "cells": [
  {
   "cell_type": "markdown",
   "metadata": {},
   "source": [
    "## Training Objectives\n",
    "\n",
    "The coursebook focuses on:\n",
    "- Introduction to Python and Jupyter Notebook \n",
    "- Introduction to `pandas` Library\n",
    "- Data Preprocessing and Feature Engineering\n",
    "- Exploratory Data Analysis\n",
    "- Data Wrangling\n",
    "- Interactive Visualization"
   ]
  },
  {
   "cell_type": "markdown",
   "metadata": {},
   "source": [
    "# Environment (cont.)\n",
    "\n",
    "**Cara membuat virtual environment baru:**\n",
    "\n",
    "1. Membuka Anaconda Prompt\n",
    "\n",
    "2. Buat environment dengan nama `ENV_NAME`:\n",
    "    ```\n",
    "    conda create -n <ENV_NAME> python=<PYTHON_VERSION>\n",
    "    ```\n",
    "    Contoh: `conda create -n dss_nik python=3.10`\n",
    "\n",
    "\n",
    "3. Mengaktifkan (pindah) environment:\n",
    "    ```\n",
    "    conda activate <ENV_NAME>\n",
    "    ```\n",
    "    Contoh: `conda activate dss_nik`\n",
    "    \n",
    "\n",
    "4. Memasang kernel di dalam environment:\n",
    "    ```\n",
    "    pip install ipykernel\n",
    "    python -m ipykernel install --user --name=<ENV_NAME>\n",
    "    ```\n",
    "\n",
    "5. Cara instalasi package:\n",
    "    ```\n",
    "    pip install <PACKAGE_NAME>\n",
    "    ```\n",
    "    atau jika butuh versi tertentu\n",
    "    ```\n",
    "    pip install <PACKAGE_NAME>==<VERSION>\n",
    "    ```\n",
    "    Contoh: `pip install pandas==2.0`\n",
    "\n",
    "    atau install dari file `requirements.txt`\n",
    "    ```\n",
    "    cd <TEMPAT_SIMPAN_FILE>\n",
    "    pip install -r requirements.txt\n",
    "    ```"
   ]
  },
  {
   "cell_type": "markdown",
   "metadata": {},
   "source": [
    "**Perintah yang sering digunakan:**\n",
    "\n",
    "- `conda env list`: cek daftar **environment** pada Anaconda\n",
    "- `pip list`: cek daftar **package** di dalam sebuah environment"
   ]
  },
  {
   "cell_type": "markdown",
   "metadata": {},
   "source": [
    "---"
   ]
  },
  {
   "cell_type": "markdown",
   "metadata": {},
   "source": [
    "# Introduction to Jupyter Notebook"
   ]
  },
  {
   "cell_type": "markdown",
   "metadata": {},
   "source": [
    "## Cell Type\n",
    "\n",
    "**1. Markdown**\n",
    "\n",
    "Cell markdown dapat digunakan untuk menuliskan narasi."
   ]
  },
  {
   "cell_type": "markdown",
   "metadata": {},
   "source": []
  },
  {
   "cell_type": "markdown",
   "metadata": {},
   "source": [
    "Pada bagian *markdown* terdapat beberapa hal yang dapat dilakukan, seperti membuat beberapa hal berikut ini:\n",
    "\n",
    "**Heading**\n",
    "\n",
    "Pada bagian ini dapat ditambahkan heading dengan menambahkan hashtag `#`.\n",
    "\n",
    "- `#` -> Heading 1\n",
    "- `##` -> Heading 2\n",
    "- `###` -> Heading 3\n",
    "\n",
    "**Emphasis**\n",
    "\n",
    "Ketika ingin mengatur jenis tulisan dengan memberikan karakter yang lebih tegas kita bisa memanfaatkan `*`.\n",
    "\n",
    "- *kata* -> Untuk mengatur tulisan menjadi Italic\n",
    "- **kata** -> Untuk mengatur tulisan menjadi Bold\n",
    "- ***kata*** -> Untuk mengatur tulisan menjadi Italic & Bold\n",
    "    \n",
    "**Bullets**\n",
    "\n",
    "Untuk membuat beberapa point, terdapat beberapa metode yang bisa digunakan.\n",
    "    \n",
    "- Untuk membuat point dalam bentuk angka, bisa menggunakan angka 1.\n",
    "- Untuk membuat point dalam bentuk bullets, bisa menggunakan - atau *.\n",
    "\n",
    "Contoh:\n",
    "1. Urutan pertama\n",
    "1. Urutan ke-dua\n",
    "\n",
    "- Poin pertama\n",
    "- Poin ke-dua\n",
    "\n",
    "💡 Markdown Cheatsheet: https://www.markdownguide.org/cheat-sheet/"
   ]
  },
  {
   "cell_type": "markdown",
   "metadata": {},
   "source": [
    "**2. Code** \n",
    "\n",
    "Cell code digunakan untuk menuliskan kode."
   ]
  },
  {
   "cell_type": "code",
   "execution_count": 1,
   "metadata": {},
   "outputs": [],
   "source": [
    "# Ini merupakan cell code"
   ]
  },
  {
   "cell_type": "markdown",
   "metadata": {},
   "source": [
    "## Mode cell dalam notebook:\n",
    "\n",
    "**1. Command mode (cell tidak ada border kotak biru)**\n",
    "\n",
    "- B: menambahkan cell baru di Bawah (Below)\n",
    "- A: menambahkan cell baru di Atas (Above)\n",
    "- DD: Delete cell\n",
    "- C: Copy cell\n",
    "- V: Paste cell\n",
    "- Y: Mengubah ke code cell\n",
    "- M: Mengubah ke markdown cell\n",
    "- Enter: Mengubah command mode menjadi edit mode\n",
    "\n",
    "**2. Edit mode (cell ada border kotak biru)**\n",
    "\n",
    "- Ctrl + Enter: eksekusi satu cell\n",
    "- Esc: Mengubah edit mode menjadi command mode"
   ]
  },
  {
   "cell_type": "markdown",
   "metadata": {},
   "source": [
    "---"
   ]
  },
  {
   "cell_type": "markdown",
   "metadata": {},
   "source": [
    "# Basic Python Programming"
   ]
  },
  {
   "cell_type": "markdown",
   "metadata": {},
   "source": [
    "## Variables\n",
    "\n",
    "**Variable** adalah sebuah nama yang dipakai untuk menunjukkan sebuah nilai. Tanda `=` dipakai untuk membuat variable baru. Proses ini sering disebut sebagai **assignment**."
   ]
  },
  {
   "cell_type": "code",
   "execution_count": 2,
   "metadata": {},
   "outputs": [
    {
     "data": {
      "text/plain": [
       "'Algoritma'"
      ]
     },
     "execution_count": 2,
     "metadata": {},
     "output_type": "execute_result"
    }
   ],
   "source": [
    "# melakukan assignment\n",
    "perusahaan = \"Algoritma\"\n",
    "\n",
    "# menampilkan isi variabel\n",
    "perusahaan"
   ]
  },
  {
   "cell_type": "markdown",
   "metadata": {},
   "source": [
    "Mari kita coba buat sebuah objek, yang berisikan nama kita!"
   ]
  },
  {
   "cell_type": "code",
   "execution_count": 3,
   "metadata": {},
   "outputs": [
    {
     "data": {
      "text/plain": [
       "'Diva'"
      ]
     },
     "execution_count": 3,
     "metadata": {},
     "output_type": "execute_result"
    }
   ],
   "source": [
    "# code here\n",
    "my_name = \"Diva\"\n",
    "\n",
    "my_name"
   ]
  },
  {
   "cell_type": "markdown",
   "metadata": {},
   "source": [
    "## Case Sensitive\n",
    "\n",
    "Python adalah bahasa pemrograman yang **case-sensitive** sehingga penamaan variable menjadi hal yang perlu diperhatikan. \n",
    "\n",
    "Misal kita ingin memanggil objek perusahaan, namun dengan huruf P kapital."
   ]
  },
  {
   "cell_type": "code",
   "execution_count": 4,
   "metadata": {},
   "outputs": [],
   "source": [
    "# Memanggil objek sebelumnya\n",
    "# Perusahaan"
   ]
  },
  {
   "cell_type": "code",
   "execution_count": 5,
   "metadata": {},
   "outputs": [
    {
     "data": {
      "text/plain": [
       "'Algoritma'"
      ]
     },
     "execution_count": 5,
     "metadata": {},
     "output_type": "execute_result"
    }
   ],
   "source": [
    "perusahaan"
   ]
  },
  {
   "cell_type": "markdown",
   "metadata": {},
   "source": [
    "Berikut beberapa ketentuan dalam memberikan nama variable pada Python:\n",
    "- Simbol (`!, $ , &, dll`) tidak dapat digunakan dalam penamaan variabel, kecuali underscore ( `_` ).\n",
    "- Tidak boleh menggunakan angka di awal.\n",
    "- Bersifat case-sensitive sehingga penamaan variable `algoritma`, `ALGORITMA`, dan `Algoritma` adalah 3 variable yang berbeda\n",
    "- Tidak boleh menggunakan keyword pada Python"
   ]
  },
  {
   "cell_type": "markdown",
   "metadata": {},
   "source": [
    "## Keywords\n",
    "\n",
    "**Keywords** adalah kata kunci yang sudah ditetapkan oleh Python sebagai nama yang tidak bisa dipakai baik untuk penamaan fungsi, variabel, dan lainnya. Keyword ditulis dalam lower-case (huruf kecil semua) kecuali keyword `True`, `False`, dan `None`. Sejauh ini (Python 3.10) keyword yang ada pada Python adalah sebagai berikut:"
   ]
  },
  {
   "cell_type": "code",
   "execution_count": 6,
   "metadata": {},
   "outputs": [
    {
     "data": {
      "text/plain": [
       "['False',\n",
       " 'None',\n",
       " 'True',\n",
       " 'and',\n",
       " 'as',\n",
       " 'assert',\n",
       " 'async',\n",
       " 'await',\n",
       " 'break',\n",
       " 'class',\n",
       " 'continue',\n",
       " 'def',\n",
       " 'del',\n",
       " 'elif',\n",
       " 'else',\n",
       " 'except',\n",
       " 'finally',\n",
       " 'for',\n",
       " 'from',\n",
       " 'global',\n",
       " 'if',\n",
       " 'import',\n",
       " 'in',\n",
       " 'is',\n",
       " 'lambda',\n",
       " 'nonlocal',\n",
       " 'not',\n",
       " 'or',\n",
       " 'pass',\n",
       " 'raise',\n",
       " 'return',\n",
       " 'try',\n",
       " 'while',\n",
       " 'with',\n",
       " 'yield']"
      ]
     },
     "execution_count": 6,
     "metadata": {},
     "output_type": "execute_result"
    }
   ],
   "source": [
    "#Cek daftar keyword\n",
    "import keyword\n",
    "keyword.kwlist"
   ]
  },
  {
   "cell_type": "markdown",
   "metadata": {},
   "source": [
    "Untuk membuktikan bahwa keyword tidak dapat digunakan sebagai nama variabel, mari kita coba untuk menyimpan nilai 1 pada variabel `True`."
   ]
  },
  {
   "cell_type": "code",
   "execution_count": 7,
   "metadata": {},
   "outputs": [],
   "source": [
    "# Contoh ketika menyimpan kedalam sebuah keywords\n",
    "# True = 1"
   ]
  },
  {
   "cell_type": "markdown",
   "metadata": {},
   "source": [
    "---"
   ]
  },
  {
   "cell_type": "markdown",
   "metadata": {},
   "source": [
    "## Python Data Types"
   ]
  },
  {
   "cell_type": "markdown",
   "metadata": {},
   "source": [
    "### String\n",
    "\n",
    "String adalah **kata-kata**. Ada beberapa cara untuk membuat nilai string:\n",
    "\n",
    "Menggunakan `''`\n",
    "\n",
    "- Contoh: `'Hello World!'`"
   ]
  },
  {
   "cell_type": "code",
   "execution_count": 8,
   "metadata": {},
   "outputs": [
    {
     "data": {
      "text/plain": [
       "'Hello World!'"
      ]
     },
     "execution_count": 8,
     "metadata": {},
     "output_type": "execute_result"
    }
   ],
   "source": [
    "'Hello World!'"
   ]
  },
  {
   "cell_type": "markdown",
   "metadata": {},
   "source": [
    "Menggunakan `\"\"` (jika terdapat tanda `'` di dalam kalimat)\n",
    "\n",
    "- Contoh: `\"Hari Jum'at\"`"
   ]
  },
  {
   "cell_type": "code",
   "execution_count": 9,
   "metadata": {},
   "outputs": [
    {
     "data": {
      "text/plain": [
       "\"Hari Jum'at\""
      ]
     },
     "execution_count": 9,
     "metadata": {},
     "output_type": "execute_result"
    }
   ],
   "source": [
    "\"Hari Jum'at\""
   ]
  },
  {
   "cell_type": "markdown",
   "metadata": {},
   "source": [
    "Menggunakan `\"\"\" \"\"\"` (jika menuliskan kalimat yang dipisahkan dengan enter)\n",
    "\n",
    "- Contoh:  \n",
    "`\"\"\"Hari Jum'at adalah hari ke-5`  \n",
    "`Hari Sabtu adalah hari ke-6\"\"\"`"
   ]
  },
  {
   "cell_type": "code",
   "execution_count": 10,
   "metadata": {},
   "outputs": [
    {
     "data": {
      "text/plain": [
       "\"Hari Jum'at adalah hari ke-5\\nHari Sabtu adalah hari ke-6\""
      ]
     },
     "execution_count": 10,
     "metadata": {},
     "output_type": "execute_result"
    }
   ],
   "source": [
    "\"\"\"Hari Jum'at adalah hari ke-5\n",
    "Hari Sabtu adalah hari ke-6\"\"\""
   ]
  },
  {
   "cell_type": "markdown",
   "metadata": {},
   "source": [
    "Untuk mengecek tipe data Python, dapat digunakan fungsi `type()`"
   ]
  },
  {
   "cell_type": "code",
   "execution_count": 11,
   "metadata": {},
   "outputs": [
    {
     "data": {
      "text/plain": [
       "str"
      ]
     },
     "execution_count": 11,
     "metadata": {},
     "output_type": "execute_result"
    }
   ],
   "source": [
    "my_str = \"Hari Jum'at\"\n",
    "type(my_str)"
   ]
  },
  {
   "cell_type": "markdown",
   "metadata": {},
   "source": [
    "### Number\n",
    "\n",
    "Number adalah **angka**. Pada Python terdapat dua tipe data angka, yaitu `int` (integer) dan `float`.\n",
    "- `int` adalah bilangan bulat (yaitu: 1,2,-3)\n",
    "- `float` adalah bilangan real (yaitu: 0.7, -1.8, -1000.0)."
   ]
  },
  {
   "cell_type": "code",
   "execution_count": 12,
   "metadata": {},
   "outputs": [
    {
     "data": {
      "text/plain": [
       "int"
      ]
     },
     "execution_count": 12,
     "metadata": {},
     "output_type": "execute_result"
    }
   ],
   "source": [
    "# integer\n",
    "my_int = 12\n",
    "type(my_int)"
   ]
  },
  {
   "cell_type": "code",
   "execution_count": 13,
   "metadata": {},
   "outputs": [
    {
     "data": {
      "text/plain": [
       "float"
      ]
     },
     "execution_count": 13,
     "metadata": {},
     "output_type": "execute_result"
    }
   ],
   "source": [
    "# float\n",
    "my_float = 3.14\n",
    "type(my_float)"
   ]
  },
  {
   "cell_type": "markdown",
   "metadata": {},
   "source": [
    "**Operasi Matematika**:\n",
    "- `+` - Penambahan\n",
    "- `-` - Pengurangan\n",
    "- `*` - Perkalian\n",
    "- `/` - Pembagian\n",
    "- `//` - Pembagian yang dibulatkan ke bawah\n",
    "- `%` - Modulus (sisa pembagian)\n",
    "- `**` - Eksponen (pangkat)"
   ]
  },
  {
   "cell_type": "markdown",
   "metadata": {},
   "source": [
    "### Boolean\n",
    "\n",
    "Boolean adalah nilai `True` atau `False`."
   ]
  },
  {
   "cell_type": "code",
   "execution_count": 14,
   "metadata": {},
   "outputs": [
    {
     "data": {
      "text/plain": [
       "bool"
      ]
     },
     "execution_count": 14,
     "metadata": {},
     "output_type": "execute_result"
    }
   ],
   "source": [
    "my_boolean = True\n",
    "type(my_boolean)"
   ]
  },
  {
   "cell_type": "markdown",
   "metadata": {},
   "source": [
    "### List\n",
    "\n",
    "List digunakan untuk **menyimpan beberapa nilai**. Untuk membuatnya, cukup letakkan nilai di dalam tanda kurung siku, dipisahkan dengan tanda koma (contoh: `my_list = [1,'algoritma',True]` )"
   ]
  },
  {
   "cell_type": "code",
   "execution_count": 15,
   "metadata": {
    "ExecuteTime": {
     "end_time": "2022-03-13T13:08:45.175254Z",
     "start_time": "2022-03-13T13:08:45.164745Z"
    }
   },
   "outputs": [
    {
     "data": {
      "text/plain": [
       "list"
      ]
     },
     "execution_count": 15,
     "metadata": {},
     "output_type": "execute_result"
    }
   ],
   "source": [
    "my_list = [1, 'algoritma', True]\n",
    "type(my_list)"
   ]
  },
  {
   "cell_type": "markdown",
   "metadata": {},
   "source": [
    "---"
   ]
  },
  {
   "cell_type": "markdown",
   "metadata": {},
   "source": [
    "# Pandas Library\n",
    "## Import Library\n",
    "\n",
    "`pandas` adalah library yang powerful sebagai tools analisis data dan struktur pada Python. Dengan `pandas`, mengolah data menjadi mudah karena disediakan salah satu objek bernama **DataFrame**.\n",
    "\n",
    "> Lebih lengkapnya silahkan kunjungi [official documentation](https://pandas.pydata.org/)\n",
    "\n",
    "Untuk menggunakan `pandas`, kita perlu **import** terlebih dahulu library dengan cara berikut ini:"
   ]
  },
  {
   "cell_type": "code",
   "execution_count": 1,
   "metadata": {
    "ExecuteTime": {
     "end_time": "2022-03-13T13:10:14.526758Z",
     "start_time": "2022-03-13T13:10:13.398614Z"
    }
   },
   "outputs": [],
   "source": [
    "# import pandas\n",
    "import pandas as pd"
   ]
  },
  {
   "cell_type": "markdown",
   "metadata": {},
   "source": [
    "Command `as` disebut dengan *aliasing*. Dengan melakukan aliasing `pandas as pd`, kita tidak lagi perlu menuliskan `pandas` tiap kali kita memanggil library ini, kita cukup memanggilnya dengan `pd`."
   ]
  },
  {
   "cell_type": "markdown",
   "metadata": {},
   "source": [
    "Fungsi pada `pandas` dapat dipanggil dengan syntax seperti: `pandas.function_name()`. \n",
    "\n",
    "Langkah pertama yang akan kita lakukan adalah membaca data. Kita dapat menggunakan fungsi `.read_csv()` untuk membaca sebuah file dengan format `.csv`."
   ]
  },
  {
   "cell_type": "code",
   "execution_count": 2,
   "metadata": {
    "ExecuteTime": {
     "end_time": "2022-03-13T13:10:51.045048Z",
     "start_time": "2022-03-13T13:10:50.944249Z"
    }
   },
   "outputs": [
    {
     "data": {
      "text/html": [
       "<div>\n",
       "<style scoped>\n",
       "    .dataframe tbody tr th:only-of-type {\n",
       "        vertical-align: middle;\n",
       "    }\n",
       "\n",
       "    .dataframe tbody tr th {\n",
       "        vertical-align: top;\n",
       "    }\n",
       "\n",
       "    .dataframe thead th {\n",
       "        text-align: right;\n",
       "    }\n",
       "</style>\n",
       "<table border=\"1\" class=\"dataframe\">\n",
       "  <thead>\n",
       "    <tr style=\"text-align: right;\">\n",
       "      <th></th>\n",
       "      <th>EmployeeID</th>\n",
       "      <th>NIK</th>\n",
       "      <th>orighiredate_key</th>\n",
       "      <th>department_name</th>\n",
       "      <th>job_title</th>\n",
       "      <th>BUSINESS_UNIT</th>\n",
       "    </tr>\n",
       "  </thead>\n",
       "  <tbody>\n",
       "    <tr>\n",
       "      <th>0</th>\n",
       "      <td>1318</td>\n",
       "      <td>3308040301540010</td>\n",
       "      <td>8/28/1989</td>\n",
       "      <td>Executive</td>\n",
       "      <td>CEO</td>\n",
       "      <td>HEADOFFICE</td>\n",
       "    </tr>\n",
       "    <tr>\n",
       "      <th>1</th>\n",
       "      <td>1319</td>\n",
       "      <td>3524174301570009</td>\n",
       "      <td>8/28/1989</td>\n",
       "      <td>Executive</td>\n",
       "      <td>VP Stores</td>\n",
       "      <td>HEADOFFICE</td>\n",
       "    </tr>\n",
       "    <tr>\n",
       "      <th>2</th>\n",
       "      <td>1320</td>\n",
       "      <td>7603044201550014</td>\n",
       "      <td>8/28/1989</td>\n",
       "      <td>Executive</td>\n",
       "      <td>Legal Counsel</td>\n",
       "      <td>HEADOFFICE</td>\n",
       "    </tr>\n",
       "    <tr>\n",
       "      <th>3</th>\n",
       "      <td>1321</td>\n",
       "      <td>1571030201590009</td>\n",
       "      <td>8/28/1989</td>\n",
       "      <td>Executive</td>\n",
       "      <td>VP Human Resources</td>\n",
       "      <td>HEADOFFICE</td>\n",
       "    </tr>\n",
       "    <tr>\n",
       "      <th>4</th>\n",
       "      <td>1322</td>\n",
       "      <td>3528130901580018</td>\n",
       "      <td>8/31/1989</td>\n",
       "      <td>Executive</td>\n",
       "      <td>VP Finance</td>\n",
       "      <td>HEADOFFICE</td>\n",
       "    </tr>\n",
       "    <tr>\n",
       "      <th>...</th>\n",
       "      <td>...</td>\n",
       "      <td>...</td>\n",
       "      <td>...</td>\n",
       "      <td>...</td>\n",
       "      <td>...</td>\n",
       "      <td>...</td>\n",
       "    </tr>\n",
       "    <tr>\n",
       "      <th>4794</th>\n",
       "      <td>8332</td>\n",
       "      <td>5314086012940001</td>\n",
       "      <td>12/5/2013</td>\n",
       "      <td>Customer Service</td>\n",
       "      <td>Cashier</td>\n",
       "      <td>STORES</td>\n",
       "    </tr>\n",
       "    <tr>\n",
       "      <th>4795</th>\n",
       "      <td>8333</td>\n",
       "      <td>3306091912940014</td>\n",
       "      <td>12/5/2013</td>\n",
       "      <td>Customer Service</td>\n",
       "      <td>Cashier</td>\n",
       "      <td>STORES</td>\n",
       "    </tr>\n",
       "    <tr>\n",
       "      <th>4796</th>\n",
       "      <td>8334</td>\n",
       "      <td>8108106712940019</td>\n",
       "      <td>12/9/2013</td>\n",
       "      <td>Customer Service</td>\n",
       "      <td>Cashier</td>\n",
       "      <td>STORES</td>\n",
       "    </tr>\n",
       "    <tr>\n",
       "      <th>4797</th>\n",
       "      <td>8335</td>\n",
       "      <td>3601026812940002</td>\n",
       "      <td>12/10/2013</td>\n",
       "      <td>Dairy</td>\n",
       "      <td>Dairy Person</td>\n",
       "      <td>STORES</td>\n",
       "    </tr>\n",
       "    <tr>\n",
       "      <th>4798</th>\n",
       "      <td>8336</td>\n",
       "      <td>3312143112940008</td>\n",
       "      <td>12/11/2013</td>\n",
       "      <td>Dairy</td>\n",
       "      <td>Dairy Person</td>\n",
       "      <td>STORES</td>\n",
       "    </tr>\n",
       "  </tbody>\n",
       "</table>\n",
       "<p>4799 rows × 6 columns</p>\n",
       "</div>"
      ],
      "text/plain": [
       "      EmployeeID               NIK orighiredate_key   department_name  \\\n",
       "0           1318  3308040301540010        8/28/1989         Executive   \n",
       "1           1319  3524174301570009        8/28/1989         Executive   \n",
       "2           1320  7603044201550014        8/28/1989         Executive   \n",
       "3           1321  1571030201590009        8/28/1989         Executive   \n",
       "4           1322  3528130901580018        8/31/1989         Executive   \n",
       "...          ...               ...              ...               ...   \n",
       "4794        8332  5314086012940001        12/5/2013  Customer Service   \n",
       "4795        8333  3306091912940014        12/5/2013  Customer Service   \n",
       "4796        8334  8108106712940019        12/9/2013  Customer Service   \n",
       "4797        8335  3601026812940002       12/10/2013             Dairy   \n",
       "4798        8336  3312143112940008       12/11/2013             Dairy   \n",
       "\n",
       "               job_title BUSINESS_UNIT  \n",
       "0                    CEO    HEADOFFICE  \n",
       "1              VP Stores    HEADOFFICE  \n",
       "2          Legal Counsel    HEADOFFICE  \n",
       "3     VP Human Resources    HEADOFFICE  \n",
       "4             VP Finance    HEADOFFICE  \n",
       "...                  ...           ...  \n",
       "4794             Cashier        STORES  \n",
       "4795             Cashier        STORES  \n",
       "4796             Cashier        STORES  \n",
       "4797        Dairy Person        STORES  \n",
       "4798        Dairy Person        STORES  \n",
       "\n",
       "[4799 rows x 6 columns]"
      ]
     },
     "execution_count": 2,
     "metadata": {},
     "output_type": "execute_result"
    }
   ],
   "source": [
    "# read data\n",
    "employee = pd.read_csv('data/employee_all.csv')\n",
    "employee"
   ]
  },
  {
   "cell_type": "markdown",
   "metadata": {},
   "source": [
    "**Additional Information:**\n",
    "\n",
    "- Suatu tabel pada `pandas` disebut dengan **DataFrame**\n",
    "- Suatu tabel terdiri dari beberapa kolom, pada `pandas` disebut **Series**\n",
    "- Python menggunakan sistem **zero based indexing**, yaitu urutan dimulai dari angka 0."
   ]
  },
  {
   "cell_type": "markdown",
   "metadata": {},
   "source": [
    "## Data Inspection\n",
    "\n",
    "Untuk melihat beberapa baris awal maupun akhir, kita dapat menggunakan `.head()` and `.tail()`\n",
    "\n",
    "- `head(n)` digunakan untuk inspeksi `n` data teratas dari sebuah dataframe.\n",
    "- `tail(n)` digunakan untuk inspeksi `n` data terbawah dari sebuah dataframe."
   ]
  },
  {
   "cell_type": "code",
   "execution_count": 18,
   "metadata": {},
   "outputs": [
    {
     "data": {
      "text/html": [
       "<div>\n",
       "<style scoped>\n",
       "    .dataframe tbody tr th:only-of-type {\n",
       "        vertical-align: middle;\n",
       "    }\n",
       "\n",
       "    .dataframe tbody tr th {\n",
       "        vertical-align: top;\n",
       "    }\n",
       "\n",
       "    .dataframe thead th {\n",
       "        text-align: right;\n",
       "    }\n",
       "</style>\n",
       "<table border=\"1\" class=\"dataframe\">\n",
       "  <thead>\n",
       "    <tr style=\"text-align: right;\">\n",
       "      <th></th>\n",
       "      <th>EmployeeID</th>\n",
       "      <th>NIK</th>\n",
       "      <th>orighiredate_key</th>\n",
       "      <th>department_name</th>\n",
       "      <th>job_title</th>\n",
       "      <th>BUSINESS_UNIT</th>\n",
       "    </tr>\n",
       "  </thead>\n",
       "  <tbody>\n",
       "    <tr>\n",
       "      <th>0</th>\n",
       "      <td>1318</td>\n",
       "      <td>3308040301540010</td>\n",
       "      <td>8/28/1989</td>\n",
       "      <td>Executive</td>\n",
       "      <td>CEO</td>\n",
       "      <td>HEADOFFICE</td>\n",
       "    </tr>\n",
       "    <tr>\n",
       "      <th>1</th>\n",
       "      <td>1319</td>\n",
       "      <td>3524174301570009</td>\n",
       "      <td>8/28/1989</td>\n",
       "      <td>Executive</td>\n",
       "      <td>VP Stores</td>\n",
       "      <td>HEADOFFICE</td>\n",
       "    </tr>\n",
       "    <tr>\n",
       "      <th>2</th>\n",
       "      <td>1320</td>\n",
       "      <td>7603044201550014</td>\n",
       "      <td>8/28/1989</td>\n",
       "      <td>Executive</td>\n",
       "      <td>Legal Counsel</td>\n",
       "      <td>HEADOFFICE</td>\n",
       "    </tr>\n",
       "    <tr>\n",
       "      <th>3</th>\n",
       "      <td>1321</td>\n",
       "      <td>1571030201590009</td>\n",
       "      <td>8/28/1989</td>\n",
       "      <td>Executive</td>\n",
       "      <td>VP Human Resources</td>\n",
       "      <td>HEADOFFICE</td>\n",
       "    </tr>\n",
       "    <tr>\n",
       "      <th>4</th>\n",
       "      <td>1322</td>\n",
       "      <td>3528130901580018</td>\n",
       "      <td>8/31/1989</td>\n",
       "      <td>Executive</td>\n",
       "      <td>VP Finance</td>\n",
       "      <td>HEADOFFICE</td>\n",
       "    </tr>\n",
       "  </tbody>\n",
       "</table>\n",
       "</div>"
      ],
      "text/plain": [
       "   EmployeeID               NIK orighiredate_key department_name  \\\n",
       "0        1318  3308040301540010        8/28/1989       Executive   \n",
       "1        1319  3524174301570009        8/28/1989       Executive   \n",
       "2        1320  7603044201550014        8/28/1989       Executive   \n",
       "3        1321  1571030201590009        8/28/1989       Executive   \n",
       "4        1322  3528130901580018        8/31/1989       Executive   \n",
       "\n",
       "            job_title BUSINESS_UNIT  \n",
       "0                 CEO    HEADOFFICE  \n",
       "1           VP Stores    HEADOFFICE  \n",
       "2       Legal Counsel    HEADOFFICE  \n",
       "3  VP Human Resources    HEADOFFICE  \n",
       "4          VP Finance    HEADOFFICE  "
      ]
     },
     "execution_count": 18,
     "metadata": {},
     "output_type": "execute_result"
    }
   ],
   "source": [
    "# head\n",
    "employee.head()"
   ]
  },
  {
   "cell_type": "code",
   "execution_count": 19,
   "metadata": {},
   "outputs": [
    {
     "data": {
      "text/html": [
       "<div>\n",
       "<style scoped>\n",
       "    .dataframe tbody tr th:only-of-type {\n",
       "        vertical-align: middle;\n",
       "    }\n",
       "\n",
       "    .dataframe tbody tr th {\n",
       "        vertical-align: top;\n",
       "    }\n",
       "\n",
       "    .dataframe thead th {\n",
       "        text-align: right;\n",
       "    }\n",
       "</style>\n",
       "<table border=\"1\" class=\"dataframe\">\n",
       "  <thead>\n",
       "    <tr style=\"text-align: right;\">\n",
       "      <th></th>\n",
       "      <th>EmployeeID</th>\n",
       "      <th>NIK</th>\n",
       "      <th>orighiredate_key</th>\n",
       "      <th>department_name</th>\n",
       "      <th>job_title</th>\n",
       "      <th>BUSINESS_UNIT</th>\n",
       "    </tr>\n",
       "  </thead>\n",
       "  <tbody>\n",
       "    <tr>\n",
       "      <th>4794</th>\n",
       "      <td>8332</td>\n",
       "      <td>5314086012940001</td>\n",
       "      <td>12/5/2013</td>\n",
       "      <td>Customer Service</td>\n",
       "      <td>Cashier</td>\n",
       "      <td>STORES</td>\n",
       "    </tr>\n",
       "    <tr>\n",
       "      <th>4795</th>\n",
       "      <td>8333</td>\n",
       "      <td>3306091912940014</td>\n",
       "      <td>12/5/2013</td>\n",
       "      <td>Customer Service</td>\n",
       "      <td>Cashier</td>\n",
       "      <td>STORES</td>\n",
       "    </tr>\n",
       "    <tr>\n",
       "      <th>4796</th>\n",
       "      <td>8334</td>\n",
       "      <td>8108106712940019</td>\n",
       "      <td>12/9/2013</td>\n",
       "      <td>Customer Service</td>\n",
       "      <td>Cashier</td>\n",
       "      <td>STORES</td>\n",
       "    </tr>\n",
       "    <tr>\n",
       "      <th>4797</th>\n",
       "      <td>8335</td>\n",
       "      <td>3601026812940002</td>\n",
       "      <td>12/10/2013</td>\n",
       "      <td>Dairy</td>\n",
       "      <td>Dairy Person</td>\n",
       "      <td>STORES</td>\n",
       "    </tr>\n",
       "    <tr>\n",
       "      <th>4798</th>\n",
       "      <td>8336</td>\n",
       "      <td>3312143112940008</td>\n",
       "      <td>12/11/2013</td>\n",
       "      <td>Dairy</td>\n",
       "      <td>Dairy Person</td>\n",
       "      <td>STORES</td>\n",
       "    </tr>\n",
       "  </tbody>\n",
       "</table>\n",
       "</div>"
      ],
      "text/plain": [
       "      EmployeeID               NIK orighiredate_key   department_name  \\\n",
       "4794        8332  5314086012940001        12/5/2013  Customer Service   \n",
       "4795        8333  3306091912940014        12/5/2013  Customer Service   \n",
       "4796        8334  8108106712940019        12/9/2013  Customer Service   \n",
       "4797        8335  3601026812940002       12/10/2013             Dairy   \n",
       "4798        8336  3312143112940008       12/11/2013             Dairy   \n",
       "\n",
       "         job_title BUSINESS_UNIT  \n",
       "4794       Cashier        STORES  \n",
       "4795       Cashier        STORES  \n",
       "4796       Cashier        STORES  \n",
       "4797  Dairy Person        STORES  \n",
       "4798  Dairy Person        STORES  "
      ]
     },
     "execution_count": 19,
     "metadata": {},
     "output_type": "execute_result"
    }
   ],
   "source": [
    "# tail\n",
    "employee.tail()"
   ]
  },
  {
   "cell_type": "markdown",
   "metadata": {},
   "source": [
    "**Deskripsi data**:  \n",
    "Data `employee` merupakan data pegawai yang bekerja di suatu perusahaan retail (contoh: Tr*nsmart, LotteMart, dsb.)\n",
    "- `EmployeeID`: Nomor ID pegawai\n",
    "- `NIK`: Nomor Induk Kependudukan pegawai\n",
    "- `orighiredate_key`: tanggal pegawai direkrut\n",
    "- `department_name`: nama departemen pegawai\n",
    "- `job_title`: jabatan pegawai\n",
    "- `BUSINESS_UNIT`: unit bisnis \n",
    "    - HEADOFFICE: kantor pusat\n",
    "    - STORES: toko cabang"
   ]
  },
  {
   "cell_type": "markdown",
   "metadata": {},
   "source": [
    "---"
   ]
  },
  {
   "cell_type": "markdown",
   "metadata": {},
   "source": [
    "# `pandas` Data Type\n",
    "\n",
    "**Dataframe** terdiri dari beberapa **Series** (mengacu pada satu kolom). Satu Series harus berisi data dengan **tipe data yang sama**. `pandas` akan menentukan tipe data dari masing-masing Series, tapi hasil penentuan dari `pandas` tidak selalu benar.\n",
    "\n",
    "![](assets/series-df.png)\n",
    "\n",
    "## Check Tipe Data pandas\n",
    "\n",
    "Cara cek tipe data: `dtypes` atau `.info()`"
   ]
  },
  {
   "cell_type": "code",
   "execution_count": 20,
   "metadata": {
    "ExecuteTime": {
     "end_time": "2022-03-13T13:12:51.326595Z",
     "start_time": "2022-03-13T13:12:51.260646Z"
    }
   },
   "outputs": [
    {
     "data": {
      "text/plain": [
       "EmployeeID           int64\n",
       "NIK                  int64\n",
       "orighiredate_key    object\n",
       "department_name     object\n",
       "job_title           object\n",
       "BUSINESS_UNIT       object\n",
       "dtype: object"
      ]
     },
     "execution_count": 20,
     "metadata": {},
     "output_type": "execute_result"
    }
   ],
   "source": [
    "# .dtypes\n",
    "employee.dtypes"
   ]
  },
  {
   "cell_type": "code",
   "execution_count": 21,
   "metadata": {
    "ExecuteTime": {
     "end_time": "2022-03-13T13:13:02.195801Z",
     "start_time": "2022-03-13T13:13:02.182001Z"
    }
   },
   "outputs": [
    {
     "name": "stdout",
     "output_type": "stream",
     "text": [
      "<class 'pandas.core.frame.DataFrame'>\n",
      "RangeIndex: 4799 entries, 0 to 4798\n",
      "Data columns (total 6 columns):\n",
      " #   Column            Non-Null Count  Dtype \n",
      "---  ------            --------------  ----- \n",
      " 0   EmployeeID        4799 non-null   int64 \n",
      " 1   NIK               4799 non-null   int64 \n",
      " 2   orighiredate_key  4799 non-null   object\n",
      " 3   department_name   4799 non-null   object\n",
      " 4   job_title         4799 non-null   object\n",
      " 5   BUSINESS_UNIT     4799 non-null   object\n",
      "dtypes: int64(2), object(4)\n",
      "memory usage: 225.1+ KB\n"
     ]
    }
   ],
   "source": [
    "# .info()\n",
    "employee.info()"
   ]
  },
  {
   "cell_type": "markdown",
   "metadata": {},
   "source": [
    "✏️ **Notes:**\n",
    "\n",
    "- `int64`: sama dengan int (integer)\n",
    "- `float64`: sama dengan float\n",
    "- `object`: sama dengan string"
   ]
  },
  {
   "cell_type": "markdown",
   "metadata": {},
   "source": [
    "## Categorical Variables\n",
    "\n",
    "Karakteristik tipe data `category` :\n",
    "\n",
    "- Dapat dikelompokkan menjadi beberapa kelompok (category)\n",
    "- Berulang\n",
    "\n",
    "Dua alasan mengapa kita perlu menggunakan tipe data categorical:\n",
    "\n",
    "1. Dari sisi \"business perspective\", hal ini dapat memandu seorang Analyst untuk memilih metode statistik atau tipe plot mana yang digunakan untuk mengolah data. Terdapat beberapa metode statisitik dan tipe plot yang cocok untuk tipe data categorical.\n",
    "\n",
    "2. Dari sisi teknikal, tipe data categorical akan menghemat memori dan menambah kecepatan komputasional.\n",
    "\n",
    "Mari kita cek kembali tipe data pada object `employee`. Manakah yang seharusnya memiliki tipe data category?"
   ]
  },
  {
   "cell_type": "code",
   "execution_count": 22,
   "metadata": {
    "ExecuteTime": {
     "end_time": "2022-03-13T13:30:36.096448Z",
     "start_time": "2022-03-13T13:30:36.083474Z"
    }
   },
   "outputs": [],
   "source": [
    "# check tipe data\n"
   ]
  },
  {
   "cell_type": "markdown",
   "metadata": {},
   "source": [
    "Kolom yang seharusnya category:\n",
    "\n",
    "- \n",
    "- \n",
    "- "
   ]
  },
  {
   "cell_type": "markdown",
   "metadata": {},
   "source": [
    "Kita bisa menggunakan method berikut untuk mengidentifikasi kolom mana yang cocok untuk disimpan ke tipe data `category`\n",
    "\n",
    "- `.unique()` to see unique values of a Series\n",
    "- `.nunique()` to see number of unique values of a Series or DataFrame"
   ]
  },
  {
   "cell_type": "markdown",
   "metadata": {},
   "source": [
    "## Datetime Variables\n",
    "\n",
    "Python juga mengenal sebuah tipe data lagi yaitu tipe data *datetime* (`datetime64[ns]`). Biasanya data waktu ataupun tanggal masih terbaca dalam bentuk *object*, maka dari itu kita harus ubah mejadi tipe data yang sesuai."
   ]
  },
  {
   "cell_type": "markdown",
   "metadata": {},
   "source": [
    "Kolom yang seharusnya `datetime64[ns]`:\n",
    "\n",
    "- "
   ]
  },
  {
   "cell_type": "markdown",
   "metadata": {},
   "source": [
    "## Mengganti Tipe Data\n",
    "\n",
    "Method `astype()` digunakan untuk mengganti tipe data."
   ]
  },
  {
   "cell_type": "markdown",
   "metadata": {},
   "source": [
    "**Syntax** \n",
    "```\n",
    "df['column_name'] = df['column_name'].astype('new_data_types')\n",
    "```\n",
    "\n",
    "**Contoh: Mengubah tipe data ke category**\n",
    "```\n",
    "employee['BUSINESS_UNIT'] = employee['BUSINESS_UNIT'].astype('category')\n",
    "```"
   ]
  },
  {
   "cell_type": "code",
   "execution_count": 23,
   "metadata": {},
   "outputs": [
    {
     "data": {
      "text/plain": [
       "EmployeeID           int64\n",
       "NIK                  int64\n",
       "orighiredate_key    object\n",
       "department_name     object\n",
       "job_title           object\n",
       "BUSINESS_UNIT       object\n",
       "dtype: object"
      ]
     },
     "execution_count": 23,
     "metadata": {},
     "output_type": "execute_result"
    }
   ],
   "source": [
    "# cek tipe data employee\n",
    "employee.dtypes"
   ]
  },
  {
   "cell_type": "markdown",
   "metadata": {},
   "source": [
    "> **Kolom category:** \n",
    "\n",
    "> **Kolom datetime64[ns]:** \n",
    "\n",
    "> **Kolom object:** "
   ]
  },
  {
   "cell_type": "code",
   "execution_count": 24,
   "metadata": {},
   "outputs": [
    {
     "data": {
      "text/plain": [
       "EmployeeID             int64\n",
       "NIK                    int64\n",
       "orighiredate_key      object\n",
       "department_name       object\n",
       "job_title             object\n",
       "BUSINESS_UNIT       category\n",
       "dtype: object"
      ]
     },
     "execution_count": 24,
     "metadata": {},
     "output_type": "execute_result"
    }
   ],
   "source": [
    "# ubah tipe data dari data employee\n",
    "employee['BUSINESS_UNIT'] = employee['BUSINESS_UNIT'].astype('category')\n",
    "\n",
    "# cek kembali tipe data\n",
    "employee.dtypes"
   ]
  },
  {
   "cell_type": "code",
   "execution_count": 25,
   "metadata": {},
   "outputs": [
    {
     "data": {
      "text/plain": [
       "EmployeeID             int64\n",
       "NIK                    int64\n",
       "orighiredate_key      object\n",
       "department_name     category\n",
       "job_title           category\n",
       "BUSINESS_UNIT       category\n",
       "dtype: object"
      ]
     },
     "execution_count": 25,
     "metadata": {},
     "output_type": "execute_result"
    }
   ],
   "source": [
    "# ubah tipe data beberapa kolom\n",
    "kolom_kategori = ['department_name', 'job_title']\n",
    "employee[kolom_kategori] = employee[kolom_kategori].astype('category')\n",
    "\n",
    "# cek kembali tipe data\n",
    "employee.dtypes"
   ]
  },
  {
   "cell_type": "code",
   "execution_count": 26,
   "metadata": {},
   "outputs": [],
   "source": [
    "# ubah tipe data ke datetime64[ns]\n",
    "employee['orighiredate_key'] = employee['orighiredate_key'].astype('datetime64[ns]')"
   ]
  },
  {
   "cell_type": "code",
   "execution_count": 27,
   "metadata": {},
   "outputs": [],
   "source": [
    "# ubah tipe data ke object\n",
    "kolom_object = ['EmployeeID', 'NIK']\n",
    "employee[kolom_object] = employee[kolom_object].astype('object')"
   ]
  },
  {
   "cell_type": "code",
   "execution_count": 28,
   "metadata": {},
   "outputs": [
    {
     "data": {
      "text/plain": [
       "EmployeeID                  object\n",
       "NIK                         object\n",
       "orighiredate_key    datetime64[ns]\n",
       "department_name           category\n",
       "job_title                 category\n",
       "BUSINESS_UNIT             category\n",
       "dtype: object"
      ]
     },
     "execution_count": 28,
     "metadata": {},
     "output_type": "execute_result"
    }
   ],
   "source": [
    "# cek kembali tipe data\n",
    "employee.dtypes"
   ]
  },
  {
   "cell_type": "markdown",
   "metadata": {},
   "source": [
    "🔎 Nice to know: **Method vs. Atribut**\n",
    "\n",
    "- Secara tampilan, method selalu diikuti dengan tanda kurung ()\n",
    "- Secara tampilan, atribut tidak diikuti oleh tanda kurung\n",
    "- Dalam sebuah method, terdapat nilai/parameter yang dapat diganti\n",
    "- Pada atribut, tidak ada nilai/parameter yang dapat diganti"
   ]
  },
  {
   "cell_type": "markdown",
   "metadata": {},
   "source": [
    "### Rangkuman Data Types\n",
    "\n",
    "| Pandas dtype  | Python type  | Usage                                        |\n",
    "|---------------|--------------|----------------------------------------------|\n",
    "| object        | str          | Text or mixed numeric and non-numeric values |\n",
    "| int64         | int          | Integer numbers                              |\n",
    "| float64       | float        | Floating point numbers                       |\n",
    "| bool          | bool         | True/False values                            |\n",
    "| datetime64[ns]| NA           | Date and time values                         |\n",
    "| category      | NA           | Finite list of text values                   |"
   ]
  },
  {
   "cell_type": "markdown",
   "metadata": {},
   "source": [
    "# Data Pre-processing and Feature Engineering"
   ]
  },
  {
   "cell_type": "markdown",
   "metadata": {},
   "source": [
    "## Data Enrichment\n",
    "\n",
    "Data enrichment adalah proses menambah dan memperbaiki data mentah (raw data) supaya kualitas data yang dimiliki menjadi lebih baik dan komplet. Kita dapat melengkapi informasi dalam data kita menggunakan nomor NIK. Untuk dapat mengekstraksi informasi dari nomor NIK, kita dapat menggunakan library `nomiden`. Dokumentasi lengkap: https://nomiden.readthedocs.io/\n",
    "\n",
    "Untuk mendapatkan seluruh informasi dari nomor NIK dalam suatu kolom, kita dapat menggunakan sintaks berikut.\n",
    "\n",
    "`df['NIK'].apply(lambda x: nr.NIK(x).<ATRIBUT>)`\n",
    "\n",
    "Beberapa atribut yang dapat kita gunakan:\n",
    "- `.province`: Provinsi\n",
    "- `.city`: Kota/Kabupaten\n",
    "- `.district`: Kecamatan\n",
    "- `.gender`: Gender\n",
    "- `.birthdtm`: Tanggal lahir dalam datetime\n",
    "- `.birthday`: Tanggal lahir dalam string\n",
    "- `.age`: Usia\n",
    "- `.nth_person`: Kode registrasi dari Dukcapil\n",
    "- `.all_info`: Seluruh informasi"
   ]
  },
  {
   "cell_type": "code",
   "execution_count": 29,
   "metadata": {},
   "outputs": [
    {
     "data": {
      "text/html": [
       "<div>\n",
       "<style scoped>\n",
       "    .dataframe tbody tr th:only-of-type {\n",
       "        vertical-align: middle;\n",
       "    }\n",
       "\n",
       "    .dataframe tbody tr th {\n",
       "        vertical-align: top;\n",
       "    }\n",
       "\n",
       "    .dataframe thead th {\n",
       "        text-align: right;\n",
       "    }\n",
       "</style>\n",
       "<table border=\"1\" class=\"dataframe\">\n",
       "  <thead>\n",
       "    <tr style=\"text-align: right;\">\n",
       "      <th></th>\n",
       "      <th>NIK</th>\n",
       "      <th>province</th>\n",
       "      <th>city</th>\n",
       "      <th>district</th>\n",
       "      <th>gender</th>\n",
       "      <th>birth_datetime</th>\n",
       "      <th>birthday</th>\n",
       "      <th>age</th>\n",
       "      <th>regist_code</th>\n",
       "    </tr>\n",
       "  </thead>\n",
       "  <tbody>\n",
       "    <tr>\n",
       "      <th>0</th>\n",
       "      <td>3308040301540010</td>\n",
       "      <td>JAWA TENGAH</td>\n",
       "      <td>KAB. MAGELANG</td>\n",
       "      <td>Salam</td>\n",
       "      <td>Male</td>\n",
       "      <td>1954-01-03</td>\n",
       "      <td>03 January 1954</td>\n",
       "      <td>69</td>\n",
       "      <td>10</td>\n",
       "    </tr>\n",
       "    <tr>\n",
       "      <th>1</th>\n",
       "      <td>3524174301570009</td>\n",
       "      <td>JAWA TIMUR</td>\n",
       "      <td>KAB. LAMONGAN</td>\n",
       "      <td>Sukodadi</td>\n",
       "      <td>Female</td>\n",
       "      <td>1957-01-03</td>\n",
       "      <td>03 January 1957</td>\n",
       "      <td>66</td>\n",
       "      <td>9</td>\n",
       "    </tr>\n",
       "    <tr>\n",
       "      <th>2</th>\n",
       "      <td>7603044201550014</td>\n",
       "      <td>SULAWESI BARAT</td>\n",
       "      <td>KAB. MAMASA</td>\n",
       "      <td>Pana</td>\n",
       "      <td>Female</td>\n",
       "      <td>1955-01-02</td>\n",
       "      <td>02 January 1955</td>\n",
       "      <td>68</td>\n",
       "      <td>14</td>\n",
       "    </tr>\n",
       "    <tr>\n",
       "      <th>3</th>\n",
       "      <td>1571030201590009</td>\n",
       "      <td>JAMBI</td>\n",
       "      <td>KOTA JAMBI</td>\n",
       "      <td>Jambi Timur</td>\n",
       "      <td>Male</td>\n",
       "      <td>1959-01-02</td>\n",
       "      <td>02 January 1959</td>\n",
       "      <td>64</td>\n",
       "      <td>9</td>\n",
       "    </tr>\n",
       "    <tr>\n",
       "      <th>4</th>\n",
       "      <td>3528130901580018</td>\n",
       "      <td>JAWA TIMUR</td>\n",
       "      <td>KAB. PAMEKASAN</td>\n",
       "      <td>Pasean</td>\n",
       "      <td>Male</td>\n",
       "      <td>1958-01-09</td>\n",
       "      <td>09 January 1958</td>\n",
       "      <td>65</td>\n",
       "      <td>18</td>\n",
       "    </tr>\n",
       "  </tbody>\n",
       "</table>\n",
       "</div>"
      ],
      "text/plain": [
       "                NIK        province            city     district  gender  \\\n",
       "0  3308040301540010     JAWA TENGAH   KAB. MAGELANG        Salam    Male   \n",
       "1  3524174301570009      JAWA TIMUR   KAB. LAMONGAN     Sukodadi  Female   \n",
       "2  7603044201550014  SULAWESI BARAT     KAB. MAMASA         Pana  Female   \n",
       "3  1571030201590009           JAMBI      KOTA JAMBI  Jambi Timur    Male   \n",
       "4  3528130901580018      JAWA TIMUR  KAB. PAMEKASAN       Pasean    Male   \n",
       "\n",
       "  birth_datetime         birthday  age  regist_code  \n",
       "0     1954-01-03  03 January 1954   69           10  \n",
       "1     1957-01-03  03 January 1957   66            9  \n",
       "2     1955-01-02  02 January 1955   68           14  \n",
       "3     1959-01-02  02 January 1959   64            9  \n",
       "4     1958-01-09  09 January 1958   65           18  "
      ]
     },
     "execution_count": 29,
     "metadata": {},
     "output_type": "execute_result"
    }
   ],
   "source": [
    "from nomiden import reader as nr\n",
    "\n",
    "nik_generate = pd.DataFrame(employee['NIK'].apply(lambda x: nr.NIK(x).all_info).tolist())\n",
    "nik_generate.head()"
   ]
  },
  {
   "cell_type": "markdown",
   "metadata": {},
   "source": [
    "## Merge DataFrames\n",
    "\n",
    "Data yang dihasilkan dari proses enrichment merupakan suatu dataframe tersendiri `nik_generate`, terpisah dari data `employee`. Mari kita gabungkan kedua dataframe tersebut menggunakan method `.merge()`, parameter:\n",
    "- `right`: tabel yang ingin digabungkan\n",
    "- `on` : kolom penghubung antar 2 dataframe"
   ]
  },
  {
   "cell_type": "code",
   "execution_count": 30,
   "metadata": {},
   "outputs": [
    {
     "data": {
      "text/html": [
       "<div>\n",
       "<style scoped>\n",
       "    .dataframe tbody tr th:only-of-type {\n",
       "        vertical-align: middle;\n",
       "    }\n",
       "\n",
       "    .dataframe tbody tr th {\n",
       "        vertical-align: top;\n",
       "    }\n",
       "\n",
       "    .dataframe thead th {\n",
       "        text-align: right;\n",
       "    }\n",
       "</style>\n",
       "<table border=\"1\" class=\"dataframe\">\n",
       "  <thead>\n",
       "    <tr style=\"text-align: right;\">\n",
       "      <th></th>\n",
       "      <th>EmployeeID</th>\n",
       "      <th>NIK</th>\n",
       "      <th>orighiredate_key</th>\n",
       "      <th>department_name</th>\n",
       "      <th>job_title</th>\n",
       "      <th>BUSINESS_UNIT</th>\n",
       "      <th>province</th>\n",
       "      <th>city</th>\n",
       "      <th>district</th>\n",
       "      <th>gender</th>\n",
       "      <th>birth_datetime</th>\n",
       "      <th>birthday</th>\n",
       "      <th>age</th>\n",
       "      <th>regist_code</th>\n",
       "    </tr>\n",
       "  </thead>\n",
       "  <tbody>\n",
       "    <tr>\n",
       "      <th>0</th>\n",
       "      <td>1318</td>\n",
       "      <td>3308040301540010</td>\n",
       "      <td>1989-08-28</td>\n",
       "      <td>Executive</td>\n",
       "      <td>CEO</td>\n",
       "      <td>HEADOFFICE</td>\n",
       "      <td>JAWA TENGAH</td>\n",
       "      <td>KAB. MAGELANG</td>\n",
       "      <td>Salam</td>\n",
       "      <td>Male</td>\n",
       "      <td>1954-01-03</td>\n",
       "      <td>03 January 1954</td>\n",
       "      <td>69</td>\n",
       "      <td>10</td>\n",
       "    </tr>\n",
       "    <tr>\n",
       "      <th>1</th>\n",
       "      <td>1319</td>\n",
       "      <td>3524174301570009</td>\n",
       "      <td>1989-08-28</td>\n",
       "      <td>Executive</td>\n",
       "      <td>VP Stores</td>\n",
       "      <td>HEADOFFICE</td>\n",
       "      <td>JAWA TIMUR</td>\n",
       "      <td>KAB. LAMONGAN</td>\n",
       "      <td>Sukodadi</td>\n",
       "      <td>Female</td>\n",
       "      <td>1957-01-03</td>\n",
       "      <td>03 January 1957</td>\n",
       "      <td>66</td>\n",
       "      <td>9</td>\n",
       "    </tr>\n",
       "    <tr>\n",
       "      <th>2</th>\n",
       "      <td>1320</td>\n",
       "      <td>7603044201550014</td>\n",
       "      <td>1989-08-28</td>\n",
       "      <td>Executive</td>\n",
       "      <td>Legal Counsel</td>\n",
       "      <td>HEADOFFICE</td>\n",
       "      <td>SULAWESI BARAT</td>\n",
       "      <td>KAB. MAMASA</td>\n",
       "      <td>Pana</td>\n",
       "      <td>Female</td>\n",
       "      <td>1955-01-02</td>\n",
       "      <td>02 January 1955</td>\n",
       "      <td>68</td>\n",
       "      <td>14</td>\n",
       "    </tr>\n",
       "    <tr>\n",
       "      <th>3</th>\n",
       "      <td>1321</td>\n",
       "      <td>1571030201590009</td>\n",
       "      <td>1989-08-28</td>\n",
       "      <td>Executive</td>\n",
       "      <td>VP Human Resources</td>\n",
       "      <td>HEADOFFICE</td>\n",
       "      <td>JAMBI</td>\n",
       "      <td>KOTA JAMBI</td>\n",
       "      <td>Jambi Timur</td>\n",
       "      <td>Male</td>\n",
       "      <td>1959-01-02</td>\n",
       "      <td>02 January 1959</td>\n",
       "      <td>64</td>\n",
       "      <td>9</td>\n",
       "    </tr>\n",
       "    <tr>\n",
       "      <th>4</th>\n",
       "      <td>1322</td>\n",
       "      <td>3528130901580018</td>\n",
       "      <td>1989-08-31</td>\n",
       "      <td>Executive</td>\n",
       "      <td>VP Finance</td>\n",
       "      <td>HEADOFFICE</td>\n",
       "      <td>JAWA TIMUR</td>\n",
       "      <td>KAB. PAMEKASAN</td>\n",
       "      <td>Pasean</td>\n",
       "      <td>Male</td>\n",
       "      <td>1958-01-09</td>\n",
       "      <td>09 January 1958</td>\n",
       "      <td>65</td>\n",
       "      <td>18</td>\n",
       "    </tr>\n",
       "  </tbody>\n",
       "</table>\n",
       "</div>"
      ],
      "text/plain": [
       "  EmployeeID               NIK orighiredate_key department_name  \\\n",
       "0       1318  3308040301540010       1989-08-28       Executive   \n",
       "1       1319  3524174301570009       1989-08-28       Executive   \n",
       "2       1320  7603044201550014       1989-08-28       Executive   \n",
       "3       1321  1571030201590009       1989-08-28       Executive   \n",
       "4       1322  3528130901580018       1989-08-31       Executive   \n",
       "\n",
       "            job_title BUSINESS_UNIT        province            city  \\\n",
       "0                 CEO    HEADOFFICE     JAWA TENGAH   KAB. MAGELANG   \n",
       "1           VP Stores    HEADOFFICE      JAWA TIMUR   KAB. LAMONGAN   \n",
       "2       Legal Counsel    HEADOFFICE  SULAWESI BARAT     KAB. MAMASA   \n",
       "3  VP Human Resources    HEADOFFICE           JAMBI      KOTA JAMBI   \n",
       "4          VP Finance    HEADOFFICE      JAWA TIMUR  KAB. PAMEKASAN   \n",
       "\n",
       "      district  gender birth_datetime         birthday  age  regist_code  \n",
       "0        Salam    Male     1954-01-03  03 January 1954   69           10  \n",
       "1     Sukodadi  Female     1957-01-03  03 January 1957   66            9  \n",
       "2         Pana  Female     1955-01-02  02 January 1955   68           14  \n",
       "3  Jambi Timur    Male     1959-01-02  02 January 1959   64            9  \n",
       "4       Pasean    Male     1958-01-09  09 January 1958   65           18  "
      ]
     },
     "execution_count": 30,
     "metadata": {},
     "output_type": "execute_result"
    }
   ],
   "source": [
    "# code here\n",
    "employ_merge = employee.merge(right=nik_generate, on='NIK')\n",
    "employ_merge.head()"
   ]
  },
  {
   "cell_type": "markdown",
   "metadata": {},
   "source": [
    "## Object Datetime Partition\n",
    "\n",
    "Setelah melakukan konversi tipe data menjadi bentuk `datetime`, kita dapat melakukan partisi untuk menggali informasi yang lebih spesifik seperti tahun, bulan, hari, dan jam.<br>\n",
    "\n",
    "**Date component (numeric)**\n",
    "- `.dt.year` -> partisi tahun\n",
    "- `.dt.month` -> partisi bulan (angka)\n",
    "- `.dt.day` -> partisi day/tanggal (dalam angka)\n",
    "- `.dt.dayofweek` -> Monday=0, Sunday=6\n",
    "\n",
    "**Date component (string)**\n",
    "- `.dt.month_name()`-> partisi bulan (nama)\n",
    "- `.dt.day_name()`-> partisi hari (nama)\n",
    "\n",
    "**Time component**\n",
    "- `.dt.hour` -> partisi jam\n",
    "- `.dt.minute` -> partisi menit\n",
    "- `.dt.second` -> partisi detik\n",
    "\n",
    "[Klik di sini untuk Dokumentasinya](https://pandas.pydata.org/pandas-docs/stable/reference/series.html#datetimelike-properties)"
   ]
  },
  {
   "cell_type": "markdown",
   "metadata": {},
   "source": [
    "**📆 Attribut-attribut pada Datetime**\n",
    "\n",
    "Untuk mengekstrak komponen datetime dalam nilai numerik, kita dapat menggunakan **atribut**"
   ]
  },
  {
   "cell_type": "markdown",
   "metadata": {},
   "source": [
    "**A. Partisi `dt.year`**"
   ]
  },
  {
   "cell_type": "code",
   "execution_count": 31,
   "metadata": {},
   "outputs": [
    {
     "data": {
      "text/plain": [
       "0       1954\n",
       "1       1957\n",
       "2       1955\n",
       "3       1959\n",
       "4       1958\n",
       "        ... \n",
       "4794    1994\n",
       "4795    1994\n",
       "4796    1994\n",
       "4797    1994\n",
       "4798    1994\n",
       "Name: birth_datetime, Length: 4799, dtype: int32"
      ]
     },
     "execution_count": 31,
     "metadata": {},
     "output_type": "execute_result"
    }
   ],
   "source": [
    "employ_merge['birth_datetime'].dt.year"
   ]
  },
  {
   "cell_type": "markdown",
   "metadata": {},
   "source": [
    "**B. Partisi `dt.month`**"
   ]
  },
  {
   "cell_type": "code",
   "execution_count": 32,
   "metadata": {},
   "outputs": [
    {
     "data": {
      "text/plain": [
       "0        1\n",
       "1        1\n",
       "2        1\n",
       "3        1\n",
       "4        1\n",
       "        ..\n",
       "4794    12\n",
       "4795    12\n",
       "4796    12\n",
       "4797    12\n",
       "4798    12\n",
       "Name: birth_datetime, Length: 4799, dtype: int32"
      ]
     },
     "execution_count": 32,
     "metadata": {},
     "output_type": "execute_result"
    }
   ],
   "source": [
    "employ_merge['birth_datetime'].dt.month"
   ]
  },
  {
   "cell_type": "markdown",
   "metadata": {},
   "source": [
    "**C. Partisi `dt.day`**"
   ]
  },
  {
   "cell_type": "code",
   "execution_count": 33,
   "metadata": {},
   "outputs": [
    {
     "data": {
      "text/plain": [
       "0        3\n",
       "1        3\n",
       "2        2\n",
       "3        2\n",
       "4        9\n",
       "        ..\n",
       "4794    20\n",
       "4795    19\n",
       "4796    27\n",
       "4797    28\n",
       "4798    31\n",
       "Name: birth_datetime, Length: 4799, dtype: int32"
      ]
     },
     "execution_count": 33,
     "metadata": {},
     "output_type": "execute_result"
    }
   ],
   "source": [
    "employ_merge['birth_datetime'].dt.day"
   ]
  },
  {
   "cell_type": "markdown",
   "metadata": {},
   "source": [
    "**D. Partisi `dt.dayofweek`**"
   ]
  },
  {
   "cell_type": "code",
   "execution_count": 34,
   "metadata": {},
   "outputs": [
    {
     "data": {
      "text/plain": [
       "0       6\n",
       "1       3\n",
       "2       6\n",
       "3       4\n",
       "4       3\n",
       "       ..\n",
       "4794    1\n",
       "4795    0\n",
       "4796    1\n",
       "4797    2\n",
       "4798    5\n",
       "Name: birth_datetime, Length: 4799, dtype: int32"
      ]
     },
     "execution_count": 34,
     "metadata": {},
     "output_type": "execute_result"
    }
   ],
   "source": [
    "employ_merge['birth_datetime'].dt.dayofweek"
   ]
  },
  {
   "cell_type": "markdown",
   "metadata": {},
   "source": [
    "**📆 Method-method pada Datetime**\n",
    "\n",
    "Untuk mengekstrak nama (teks) dari komponen datetime, kita dapat menggunakan **method** (dengan tanda kurung)"
   ]
  },
  {
   "cell_type": "markdown",
   "metadata": {},
   "source": [
    "**A. Partisi dt.day_name()**"
   ]
  },
  {
   "cell_type": "code",
   "execution_count": 35,
   "metadata": {},
   "outputs": [
    {
     "data": {
      "text/plain": [
       "0          Sunday\n",
       "1        Thursday\n",
       "2          Sunday\n",
       "3          Friday\n",
       "4        Thursday\n",
       "          ...    \n",
       "4794      Tuesday\n",
       "4795       Monday\n",
       "4796      Tuesday\n",
       "4797    Wednesday\n",
       "4798     Saturday\n",
       "Name: birth_datetime, Length: 4799, dtype: object"
      ]
     },
     "execution_count": 35,
     "metadata": {},
     "output_type": "execute_result"
    }
   ],
   "source": [
    "employ_merge['birth_datetime'].dt.day_name()"
   ]
  },
  {
   "cell_type": "markdown",
   "metadata": {},
   "source": [
    "**B. Partisi dt.month_name()**"
   ]
  },
  {
   "cell_type": "code",
   "execution_count": 36,
   "metadata": {},
   "outputs": [
    {
     "data": {
      "text/plain": [
       "0        January\n",
       "1        January\n",
       "2        January\n",
       "3        January\n",
       "4        January\n",
       "          ...   \n",
       "4794    December\n",
       "4795    December\n",
       "4796    December\n",
       "4797    December\n",
       "4798    December\n",
       "Name: birth_datetime, Length: 4799, dtype: object"
      ]
     },
     "execution_count": 36,
     "metadata": {},
     "output_type": "execute_result"
    }
   ],
   "source": [
    "employ_merge['birth_datetime'].dt.month_name()"
   ]
  },
  {
   "cell_type": "markdown",
   "metadata": {},
   "source": [
    "### Dive Deeper"
   ]
  },
  {
   "cell_type": "markdown",
   "metadata": {},
   "source": [
    "**Soal 1**: Buatlah kolom `join_year` yang berisi tahun rekrutmen para pegawai!"
   ]
  },
  {
   "cell_type": "code",
   "execution_count": 37,
   "metadata": {},
   "outputs": [],
   "source": [
    "employ_merge['join_year'] = employ_merge['orighiredate_key'].dt.year"
   ]
  },
  {
   "cell_type": "markdown",
   "metadata": {},
   "source": [
    "**Soal 2**: Buatlah kolom `birth_year` yang berisi tahun kelahiran para pegawai!"
   ]
  },
  {
   "cell_type": "code",
   "execution_count": 38,
   "metadata": {},
   "outputs": [],
   "source": [
    "employ_merge['birth_year'] = employ_merge['birth_datetime'].dt.year"
   ]
  },
  {
   "cell_type": "markdown",
   "metadata": {},
   "source": [
    "## Categorization (Binning)\n",
    "\n",
    "Setelah mendapatkan tahun kelahiran dari tiap pegawai, kali ini kita ingin mengetahui generasi dari para pegawai, apakah beliau termasuk Gen Z atau Boomers?\n",
    "\n",
    "Untuk mengubah nilai numerik menjadi kategori, kita dapat menggunakan fungsi `pd.cut()`, parameter:\n",
    "- `x`: kolom numerik yang akan dikategorikan\n",
    "- `bins`: list, batas-batas pengkategorian\n",
    "- `labels`: list, label kategori yang akan dihasilkan"
   ]
  },
  {
   "cell_type": "code",
   "execution_count": 39,
   "metadata": {},
   "outputs": [],
   "source": [
    "import numpy as np\n",
    "\n",
    "gen_bins =  [0, 1900, 1927, 1945, 1964, 1980, 1996, 2012, np.inf]\n",
    "gen_names = ['Lost', 'Greatest', 'Silent', 'Boomers', 'Gen. X', 'Gen. Y (Millenials)', 'Gen. Z (Zoomers)', 'Alpha']\n",
    "\n",
    "# simpan ke kolom 'generation'\n",
    "employ_merge['generation'] = pd.cut(employ_merge['birth_year'], bins=gen_bins, labels=gen_names)"
   ]
  },
  {
   "cell_type": "markdown",
   "metadata": {},
   "source": [
    "## Data Exporting\n",
    "\n",
    "Setelah melakukan serangkaian proses pembersihan data dan *feature engineering*, tentunya akan melelahkan dan memakan waktu jika kita harus mengulangi tahap-tahap di atas tiap kali kita akan melakukan analisis. Oleh karena itu, kita dapat menyimpan/mengekspor hasil kerja keras kita ke dalam suatu file.\n",
    "\n",
    "Pertama mari kita cek terlebih dahulu beberapa data teratas dan tipe data kita, `employee_merge`"
   ]
  },
  {
   "cell_type": "code",
   "execution_count": 40,
   "metadata": {},
   "outputs": [
    {
     "data": {
      "text/html": [
       "<div>\n",
       "<style scoped>\n",
       "    .dataframe tbody tr th:only-of-type {\n",
       "        vertical-align: middle;\n",
       "    }\n",
       "\n",
       "    .dataframe tbody tr th {\n",
       "        vertical-align: top;\n",
       "    }\n",
       "\n",
       "    .dataframe thead th {\n",
       "        text-align: right;\n",
       "    }\n",
       "</style>\n",
       "<table border=\"1\" class=\"dataframe\">\n",
       "  <thead>\n",
       "    <tr style=\"text-align: right;\">\n",
       "      <th></th>\n",
       "      <th>EmployeeID</th>\n",
       "      <th>NIK</th>\n",
       "      <th>orighiredate_key</th>\n",
       "      <th>department_name</th>\n",
       "      <th>job_title</th>\n",
       "      <th>BUSINESS_UNIT</th>\n",
       "      <th>province</th>\n",
       "      <th>city</th>\n",
       "      <th>district</th>\n",
       "      <th>gender</th>\n",
       "      <th>birth_datetime</th>\n",
       "      <th>birthday</th>\n",
       "      <th>age</th>\n",
       "      <th>regist_code</th>\n",
       "      <th>join_year</th>\n",
       "      <th>birth_year</th>\n",
       "      <th>generation</th>\n",
       "    </tr>\n",
       "  </thead>\n",
       "  <tbody>\n",
       "    <tr>\n",
       "      <th>0</th>\n",
       "      <td>1318</td>\n",
       "      <td>3308040301540010</td>\n",
       "      <td>1989-08-28</td>\n",
       "      <td>Executive</td>\n",
       "      <td>CEO</td>\n",
       "      <td>HEADOFFICE</td>\n",
       "      <td>JAWA TENGAH</td>\n",
       "      <td>KAB. MAGELANG</td>\n",
       "      <td>Salam</td>\n",
       "      <td>Male</td>\n",
       "      <td>1954-01-03</td>\n",
       "      <td>03 January 1954</td>\n",
       "      <td>69</td>\n",
       "      <td>10</td>\n",
       "      <td>1989</td>\n",
       "      <td>1954</td>\n",
       "      <td>Boomers</td>\n",
       "    </tr>\n",
       "    <tr>\n",
       "      <th>1</th>\n",
       "      <td>1319</td>\n",
       "      <td>3524174301570009</td>\n",
       "      <td>1989-08-28</td>\n",
       "      <td>Executive</td>\n",
       "      <td>VP Stores</td>\n",
       "      <td>HEADOFFICE</td>\n",
       "      <td>JAWA TIMUR</td>\n",
       "      <td>KAB. LAMONGAN</td>\n",
       "      <td>Sukodadi</td>\n",
       "      <td>Female</td>\n",
       "      <td>1957-01-03</td>\n",
       "      <td>03 January 1957</td>\n",
       "      <td>66</td>\n",
       "      <td>9</td>\n",
       "      <td>1989</td>\n",
       "      <td>1957</td>\n",
       "      <td>Boomers</td>\n",
       "    </tr>\n",
       "    <tr>\n",
       "      <th>2</th>\n",
       "      <td>1320</td>\n",
       "      <td>7603044201550014</td>\n",
       "      <td>1989-08-28</td>\n",
       "      <td>Executive</td>\n",
       "      <td>Legal Counsel</td>\n",
       "      <td>HEADOFFICE</td>\n",
       "      <td>SULAWESI BARAT</td>\n",
       "      <td>KAB. MAMASA</td>\n",
       "      <td>Pana</td>\n",
       "      <td>Female</td>\n",
       "      <td>1955-01-02</td>\n",
       "      <td>02 January 1955</td>\n",
       "      <td>68</td>\n",
       "      <td>14</td>\n",
       "      <td>1989</td>\n",
       "      <td>1955</td>\n",
       "      <td>Boomers</td>\n",
       "    </tr>\n",
       "    <tr>\n",
       "      <th>3</th>\n",
       "      <td>1321</td>\n",
       "      <td>1571030201590009</td>\n",
       "      <td>1989-08-28</td>\n",
       "      <td>Executive</td>\n",
       "      <td>VP Human Resources</td>\n",
       "      <td>HEADOFFICE</td>\n",
       "      <td>JAMBI</td>\n",
       "      <td>KOTA JAMBI</td>\n",
       "      <td>Jambi Timur</td>\n",
       "      <td>Male</td>\n",
       "      <td>1959-01-02</td>\n",
       "      <td>02 January 1959</td>\n",
       "      <td>64</td>\n",
       "      <td>9</td>\n",
       "      <td>1989</td>\n",
       "      <td>1959</td>\n",
       "      <td>Boomers</td>\n",
       "    </tr>\n",
       "    <tr>\n",
       "      <th>4</th>\n",
       "      <td>1322</td>\n",
       "      <td>3528130901580018</td>\n",
       "      <td>1989-08-31</td>\n",
       "      <td>Executive</td>\n",
       "      <td>VP Finance</td>\n",
       "      <td>HEADOFFICE</td>\n",
       "      <td>JAWA TIMUR</td>\n",
       "      <td>KAB. PAMEKASAN</td>\n",
       "      <td>Pasean</td>\n",
       "      <td>Male</td>\n",
       "      <td>1958-01-09</td>\n",
       "      <td>09 January 1958</td>\n",
       "      <td>65</td>\n",
       "      <td>18</td>\n",
       "      <td>1989</td>\n",
       "      <td>1958</td>\n",
       "      <td>Boomers</td>\n",
       "    </tr>\n",
       "  </tbody>\n",
       "</table>\n",
       "</div>"
      ],
      "text/plain": [
       "  EmployeeID               NIK orighiredate_key department_name  \\\n",
       "0       1318  3308040301540010       1989-08-28       Executive   \n",
       "1       1319  3524174301570009       1989-08-28       Executive   \n",
       "2       1320  7603044201550014       1989-08-28       Executive   \n",
       "3       1321  1571030201590009       1989-08-28       Executive   \n",
       "4       1322  3528130901580018       1989-08-31       Executive   \n",
       "\n",
       "            job_title BUSINESS_UNIT        province            city  \\\n",
       "0                 CEO    HEADOFFICE     JAWA TENGAH   KAB. MAGELANG   \n",
       "1           VP Stores    HEADOFFICE      JAWA TIMUR   KAB. LAMONGAN   \n",
       "2       Legal Counsel    HEADOFFICE  SULAWESI BARAT     KAB. MAMASA   \n",
       "3  VP Human Resources    HEADOFFICE           JAMBI      KOTA JAMBI   \n",
       "4          VP Finance    HEADOFFICE      JAWA TIMUR  KAB. PAMEKASAN   \n",
       "\n",
       "      district  gender birth_datetime         birthday  age  regist_code  \\\n",
       "0        Salam    Male     1954-01-03  03 January 1954   69           10   \n",
       "1     Sukodadi  Female     1957-01-03  03 January 1957   66            9   \n",
       "2         Pana  Female     1955-01-02  02 January 1955   68           14   \n",
       "3  Jambi Timur    Male     1959-01-02  02 January 1959   64            9   \n",
       "4       Pasean    Male     1958-01-09  09 January 1958   65           18   \n",
       "\n",
       "   join_year  birth_year generation  \n",
       "0       1989        1954    Boomers  \n",
       "1       1989        1957    Boomers  \n",
       "2       1989        1955    Boomers  \n",
       "3       1989        1959    Boomers  \n",
       "4       1989        1958    Boomers  "
      ]
     },
     "execution_count": 40,
     "metadata": {},
     "output_type": "execute_result"
    }
   ],
   "source": [
    "# inspeksi beberapa data teratas\n",
    "employ_merge.head()"
   ]
  },
  {
   "cell_type": "code",
   "execution_count": 41,
   "metadata": {},
   "outputs": [
    {
     "data": {
      "text/plain": [
       "EmployeeID                  object\n",
       "NIK                         object\n",
       "orighiredate_key    datetime64[ns]\n",
       "department_name           category\n",
       "job_title                 category\n",
       "BUSINESS_UNIT             category\n",
       "province                    object\n",
       "city                        object\n",
       "district                    object\n",
       "gender                      object\n",
       "birth_datetime      datetime64[ns]\n",
       "birthday                    object\n",
       "age                          int64\n",
       "regist_code                  int64\n",
       "join_year                    int32\n",
       "birth_year                   int32\n",
       "generation                category\n",
       "dtype: object"
      ]
     },
     "execution_count": 41,
     "metadata": {},
     "output_type": "execute_result"
    }
   ],
   "source": [
    "# cek tipe data\n",
    "employ_merge.dtypes"
   ]
  },
  {
   "cell_type": "markdown",
   "metadata": {},
   "source": [
    "### Export to CSV\n",
    "\n",
    "Untuk mengekspor data ke bentuk CSV, kita dapat menggunakan method `.to_csv()`"
   ]
  },
  {
   "cell_type": "code",
   "execution_count": 42,
   "metadata": {},
   "outputs": [],
   "source": [
    "# simpan ke format CSV dengan nama file employ_merge.csv\n",
    "employ_merge.to_csv('data/employ_merge.csv')"
   ]
  },
  {
   "cell_type": "code",
   "execution_count": 43,
   "metadata": {},
   "outputs": [
    {
     "data": {
      "text/html": [
       "<div>\n",
       "<style scoped>\n",
       "    .dataframe tbody tr th:only-of-type {\n",
       "        vertical-align: middle;\n",
       "    }\n",
       "\n",
       "    .dataframe tbody tr th {\n",
       "        vertical-align: top;\n",
       "    }\n",
       "\n",
       "    .dataframe thead th {\n",
       "        text-align: right;\n",
       "    }\n",
       "</style>\n",
       "<table border=\"1\" class=\"dataframe\">\n",
       "  <thead>\n",
       "    <tr style=\"text-align: right;\">\n",
       "      <th></th>\n",
       "      <th>Unnamed: 0</th>\n",
       "      <th>EmployeeID</th>\n",
       "      <th>NIK</th>\n",
       "      <th>orighiredate_key</th>\n",
       "      <th>department_name</th>\n",
       "      <th>job_title</th>\n",
       "      <th>BUSINESS_UNIT</th>\n",
       "      <th>province</th>\n",
       "      <th>city</th>\n",
       "      <th>district</th>\n",
       "      <th>gender</th>\n",
       "      <th>birth_datetime</th>\n",
       "      <th>birthday</th>\n",
       "      <th>age</th>\n",
       "      <th>regist_code</th>\n",
       "      <th>join_year</th>\n",
       "      <th>birth_year</th>\n",
       "      <th>generation</th>\n",
       "    </tr>\n",
       "  </thead>\n",
       "  <tbody>\n",
       "    <tr>\n",
       "      <th>0</th>\n",
       "      <td>0</td>\n",
       "      <td>1318</td>\n",
       "      <td>3308040301540010</td>\n",
       "      <td>1989-08-28</td>\n",
       "      <td>Executive</td>\n",
       "      <td>CEO</td>\n",
       "      <td>HEADOFFICE</td>\n",
       "      <td>JAWA TENGAH</td>\n",
       "      <td>KAB. MAGELANG</td>\n",
       "      <td>Salam</td>\n",
       "      <td>Male</td>\n",
       "      <td>1954-01-03</td>\n",
       "      <td>03 January 1954</td>\n",
       "      <td>69</td>\n",
       "      <td>10</td>\n",
       "      <td>1989</td>\n",
       "      <td>1954</td>\n",
       "      <td>Boomers</td>\n",
       "    </tr>\n",
       "    <tr>\n",
       "      <th>1</th>\n",
       "      <td>1</td>\n",
       "      <td>1319</td>\n",
       "      <td>3524174301570009</td>\n",
       "      <td>1989-08-28</td>\n",
       "      <td>Executive</td>\n",
       "      <td>VP Stores</td>\n",
       "      <td>HEADOFFICE</td>\n",
       "      <td>JAWA TIMUR</td>\n",
       "      <td>KAB. LAMONGAN</td>\n",
       "      <td>Sukodadi</td>\n",
       "      <td>Female</td>\n",
       "      <td>1957-01-03</td>\n",
       "      <td>03 January 1957</td>\n",
       "      <td>66</td>\n",
       "      <td>9</td>\n",
       "      <td>1989</td>\n",
       "      <td>1957</td>\n",
       "      <td>Boomers</td>\n",
       "    </tr>\n",
       "    <tr>\n",
       "      <th>2</th>\n",
       "      <td>2</td>\n",
       "      <td>1320</td>\n",
       "      <td>7603044201550014</td>\n",
       "      <td>1989-08-28</td>\n",
       "      <td>Executive</td>\n",
       "      <td>Legal Counsel</td>\n",
       "      <td>HEADOFFICE</td>\n",
       "      <td>SULAWESI BARAT</td>\n",
       "      <td>KAB. MAMASA</td>\n",
       "      <td>Pana</td>\n",
       "      <td>Female</td>\n",
       "      <td>1955-01-02</td>\n",
       "      <td>02 January 1955</td>\n",
       "      <td>68</td>\n",
       "      <td>14</td>\n",
       "      <td>1989</td>\n",
       "      <td>1955</td>\n",
       "      <td>Boomers</td>\n",
       "    </tr>\n",
       "    <tr>\n",
       "      <th>3</th>\n",
       "      <td>3</td>\n",
       "      <td>1321</td>\n",
       "      <td>1571030201590009</td>\n",
       "      <td>1989-08-28</td>\n",
       "      <td>Executive</td>\n",
       "      <td>VP Human Resources</td>\n",
       "      <td>HEADOFFICE</td>\n",
       "      <td>JAMBI</td>\n",
       "      <td>KOTA JAMBI</td>\n",
       "      <td>Jambi Timur</td>\n",
       "      <td>Male</td>\n",
       "      <td>1959-01-02</td>\n",
       "      <td>02 January 1959</td>\n",
       "      <td>64</td>\n",
       "      <td>9</td>\n",
       "      <td>1989</td>\n",
       "      <td>1959</td>\n",
       "      <td>Boomers</td>\n",
       "    </tr>\n",
       "    <tr>\n",
       "      <th>4</th>\n",
       "      <td>4</td>\n",
       "      <td>1322</td>\n",
       "      <td>3528130901580018</td>\n",
       "      <td>1989-08-31</td>\n",
       "      <td>Executive</td>\n",
       "      <td>VP Finance</td>\n",
       "      <td>HEADOFFICE</td>\n",
       "      <td>JAWA TIMUR</td>\n",
       "      <td>KAB. PAMEKASAN</td>\n",
       "      <td>Pasean</td>\n",
       "      <td>Male</td>\n",
       "      <td>1958-01-09</td>\n",
       "      <td>09 January 1958</td>\n",
       "      <td>65</td>\n",
       "      <td>18</td>\n",
       "      <td>1989</td>\n",
       "      <td>1958</td>\n",
       "      <td>Boomers</td>\n",
       "    </tr>\n",
       "  </tbody>\n",
       "</table>\n",
       "</div>"
      ],
      "text/plain": [
       "   Unnamed: 0  EmployeeID               NIK orighiredate_key department_name  \\\n",
       "0           0        1318  3308040301540010       1989-08-28       Executive   \n",
       "1           1        1319  3524174301570009       1989-08-28       Executive   \n",
       "2           2        1320  7603044201550014       1989-08-28       Executive   \n",
       "3           3        1321  1571030201590009       1989-08-28       Executive   \n",
       "4           4        1322  3528130901580018       1989-08-31       Executive   \n",
       "\n",
       "            job_title BUSINESS_UNIT        province            city  \\\n",
       "0                 CEO    HEADOFFICE     JAWA TENGAH   KAB. MAGELANG   \n",
       "1           VP Stores    HEADOFFICE      JAWA TIMUR   KAB. LAMONGAN   \n",
       "2       Legal Counsel    HEADOFFICE  SULAWESI BARAT     KAB. MAMASA   \n",
       "3  VP Human Resources    HEADOFFICE           JAMBI      KOTA JAMBI   \n",
       "4          VP Finance    HEADOFFICE      JAWA TIMUR  KAB. PAMEKASAN   \n",
       "\n",
       "      district  gender birth_datetime         birthday  age  regist_code  \\\n",
       "0        Salam    Male     1954-01-03  03 January 1954   69           10   \n",
       "1     Sukodadi  Female     1957-01-03  03 January 1957   66            9   \n",
       "2         Pana  Female     1955-01-02  02 January 1955   68           14   \n",
       "3  Jambi Timur    Male     1959-01-02  02 January 1959   64            9   \n",
       "4       Pasean    Male     1958-01-09  09 January 1958   65           18   \n",
       "\n",
       "   join_year  birth_year generation  \n",
       "0       1989        1954    Boomers  \n",
       "1       1989        1957    Boomers  \n",
       "2       1989        1955    Boomers  \n",
       "3       1989        1959    Boomers  \n",
       "4       1989        1958    Boomers  "
      ]
     },
     "execution_count": 43,
     "metadata": {},
     "output_type": "execute_result"
    }
   ],
   "source": [
    "# baca data employ_merge.csv dan assign ke variabel employ_csv \n",
    "employ_csv = pd.read_csv('data/employ_merge.csv')\n",
    "employ_csv.head()"
   ]
  },
  {
   "cell_type": "code",
   "execution_count": 44,
   "metadata": {},
   "outputs": [
    {
     "data": {
      "text/plain": [
       "Unnamed: 0           int64\n",
       "EmployeeID           int64\n",
       "NIK                  int64\n",
       "orighiredate_key    object\n",
       "department_name     object\n",
       "job_title           object\n",
       "BUSINESS_UNIT       object\n",
       "province            object\n",
       "city                object\n",
       "district            object\n",
       "gender              object\n",
       "birth_datetime      object\n",
       "birthday            object\n",
       "age                  int64\n",
       "regist_code          int64\n",
       "join_year            int64\n",
       "birth_year           int64\n",
       "generation          object\n",
       "dtype: object"
      ]
     },
     "execution_count": 44,
     "metadata": {},
     "output_type": "execute_result"
    }
   ],
   "source": [
    "# cek tipe data employ_csv\n",
    "employ_csv.dtypes"
   ]
  },
  {
   "cell_type": "markdown",
   "metadata": {},
   "source": [
    "Ternyata tipe data berubah jika kita menyimpan dataframe menjadi file CSV. Hal ini dikarenakan data disimpan sebagai *plain text*. Sebagai alternatif, kita dapat menyimpan dataframe menjadi file Pickle."
   ]
  },
  {
   "cell_type": "markdown",
   "metadata": {},
   "source": [
    "### Export to Pickle\n",
    "\n",
    "**Pickling**: menyimpan suatu objek Python ke sebuah file binary (byte stream).\n",
    "- Simpan data dengan method `.to_pickle()`\n",
    "- Kemudian silahkan cek file pickle pada folder di mana file `.ipynb` ini berada\n",
    "\n",
    "**Unpickling**: Membaca file `pickle` ke dalam dataframe \n",
    "- Baca data dengan `pd.read_pickle()`"
   ]
  },
  {
   "cell_type": "code",
   "execution_count": 45,
   "metadata": {},
   "outputs": [],
   "source": [
    "# simpan ke format pickle\n",
    "employ_merge.to_pickle('data/employ_merge.pkl')"
   ]
  },
  {
   "cell_type": "code",
   "execution_count": 46,
   "metadata": {},
   "outputs": [
    {
     "data": {
      "text/html": [
       "<div>\n",
       "<style scoped>\n",
       "    .dataframe tbody tr th:only-of-type {\n",
       "        vertical-align: middle;\n",
       "    }\n",
       "\n",
       "    .dataframe tbody tr th {\n",
       "        vertical-align: top;\n",
       "    }\n",
       "\n",
       "    .dataframe thead th {\n",
       "        text-align: right;\n",
       "    }\n",
       "</style>\n",
       "<table border=\"1\" class=\"dataframe\">\n",
       "  <thead>\n",
       "    <tr style=\"text-align: right;\">\n",
       "      <th></th>\n",
       "      <th>EmployeeID</th>\n",
       "      <th>NIK</th>\n",
       "      <th>orighiredate_key</th>\n",
       "      <th>department_name</th>\n",
       "      <th>job_title</th>\n",
       "      <th>BUSINESS_UNIT</th>\n",
       "      <th>province</th>\n",
       "      <th>city</th>\n",
       "      <th>district</th>\n",
       "      <th>gender</th>\n",
       "      <th>birth_datetime</th>\n",
       "      <th>birthday</th>\n",
       "      <th>age</th>\n",
       "      <th>regist_code</th>\n",
       "      <th>join_year</th>\n",
       "      <th>birth_year</th>\n",
       "      <th>generation</th>\n",
       "    </tr>\n",
       "  </thead>\n",
       "  <tbody>\n",
       "    <tr>\n",
       "      <th>0</th>\n",
       "      <td>1318</td>\n",
       "      <td>3308040301540010</td>\n",
       "      <td>1989-08-28</td>\n",
       "      <td>Executive</td>\n",
       "      <td>CEO</td>\n",
       "      <td>HEADOFFICE</td>\n",
       "      <td>JAWA TENGAH</td>\n",
       "      <td>KAB. MAGELANG</td>\n",
       "      <td>Salam</td>\n",
       "      <td>Male</td>\n",
       "      <td>1954-01-03</td>\n",
       "      <td>03 January 1954</td>\n",
       "      <td>69</td>\n",
       "      <td>10</td>\n",
       "      <td>1989</td>\n",
       "      <td>1954</td>\n",
       "      <td>Boomers</td>\n",
       "    </tr>\n",
       "    <tr>\n",
       "      <th>1</th>\n",
       "      <td>1319</td>\n",
       "      <td>3524174301570009</td>\n",
       "      <td>1989-08-28</td>\n",
       "      <td>Executive</td>\n",
       "      <td>VP Stores</td>\n",
       "      <td>HEADOFFICE</td>\n",
       "      <td>JAWA TIMUR</td>\n",
       "      <td>KAB. LAMONGAN</td>\n",
       "      <td>Sukodadi</td>\n",
       "      <td>Female</td>\n",
       "      <td>1957-01-03</td>\n",
       "      <td>03 January 1957</td>\n",
       "      <td>66</td>\n",
       "      <td>9</td>\n",
       "      <td>1989</td>\n",
       "      <td>1957</td>\n",
       "      <td>Boomers</td>\n",
       "    </tr>\n",
       "    <tr>\n",
       "      <th>2</th>\n",
       "      <td>1320</td>\n",
       "      <td>7603044201550014</td>\n",
       "      <td>1989-08-28</td>\n",
       "      <td>Executive</td>\n",
       "      <td>Legal Counsel</td>\n",
       "      <td>HEADOFFICE</td>\n",
       "      <td>SULAWESI BARAT</td>\n",
       "      <td>KAB. MAMASA</td>\n",
       "      <td>Pana</td>\n",
       "      <td>Female</td>\n",
       "      <td>1955-01-02</td>\n",
       "      <td>02 January 1955</td>\n",
       "      <td>68</td>\n",
       "      <td>14</td>\n",
       "      <td>1989</td>\n",
       "      <td>1955</td>\n",
       "      <td>Boomers</td>\n",
       "    </tr>\n",
       "    <tr>\n",
       "      <th>3</th>\n",
       "      <td>1321</td>\n",
       "      <td>1571030201590009</td>\n",
       "      <td>1989-08-28</td>\n",
       "      <td>Executive</td>\n",
       "      <td>VP Human Resources</td>\n",
       "      <td>HEADOFFICE</td>\n",
       "      <td>JAMBI</td>\n",
       "      <td>KOTA JAMBI</td>\n",
       "      <td>Jambi Timur</td>\n",
       "      <td>Male</td>\n",
       "      <td>1959-01-02</td>\n",
       "      <td>02 January 1959</td>\n",
       "      <td>64</td>\n",
       "      <td>9</td>\n",
       "      <td>1989</td>\n",
       "      <td>1959</td>\n",
       "      <td>Boomers</td>\n",
       "    </tr>\n",
       "    <tr>\n",
       "      <th>4</th>\n",
       "      <td>1322</td>\n",
       "      <td>3528130901580018</td>\n",
       "      <td>1989-08-31</td>\n",
       "      <td>Executive</td>\n",
       "      <td>VP Finance</td>\n",
       "      <td>HEADOFFICE</td>\n",
       "      <td>JAWA TIMUR</td>\n",
       "      <td>KAB. PAMEKASAN</td>\n",
       "      <td>Pasean</td>\n",
       "      <td>Male</td>\n",
       "      <td>1958-01-09</td>\n",
       "      <td>09 January 1958</td>\n",
       "      <td>65</td>\n",
       "      <td>18</td>\n",
       "      <td>1989</td>\n",
       "      <td>1958</td>\n",
       "      <td>Boomers</td>\n",
       "    </tr>\n",
       "  </tbody>\n",
       "</table>\n",
       "</div>"
      ],
      "text/plain": [
       "  EmployeeID               NIK orighiredate_key department_name  \\\n",
       "0       1318  3308040301540010       1989-08-28       Executive   \n",
       "1       1319  3524174301570009       1989-08-28       Executive   \n",
       "2       1320  7603044201550014       1989-08-28       Executive   \n",
       "3       1321  1571030201590009       1989-08-28       Executive   \n",
       "4       1322  3528130901580018       1989-08-31       Executive   \n",
       "\n",
       "            job_title BUSINESS_UNIT        province            city  \\\n",
       "0                 CEO    HEADOFFICE     JAWA TENGAH   KAB. MAGELANG   \n",
       "1           VP Stores    HEADOFFICE      JAWA TIMUR   KAB. LAMONGAN   \n",
       "2       Legal Counsel    HEADOFFICE  SULAWESI BARAT     KAB. MAMASA   \n",
       "3  VP Human Resources    HEADOFFICE           JAMBI      KOTA JAMBI   \n",
       "4          VP Finance    HEADOFFICE      JAWA TIMUR  KAB. PAMEKASAN   \n",
       "\n",
       "      district  gender birth_datetime         birthday  age  regist_code  \\\n",
       "0        Salam    Male     1954-01-03  03 January 1954   69           10   \n",
       "1     Sukodadi  Female     1957-01-03  03 January 1957   66            9   \n",
       "2         Pana  Female     1955-01-02  02 January 1955   68           14   \n",
       "3  Jambi Timur    Male     1959-01-02  02 January 1959   64            9   \n",
       "4       Pasean    Male     1958-01-09  09 January 1958   65           18   \n",
       "\n",
       "   join_year  birth_year generation  \n",
       "0       1989        1954    Boomers  \n",
       "1       1989        1957    Boomers  \n",
       "2       1989        1955    Boomers  \n",
       "3       1989        1959    Boomers  \n",
       "4       1989        1958    Boomers  "
      ]
     },
     "execution_count": 46,
     "metadata": {},
     "output_type": "execute_result"
    }
   ],
   "source": [
    "# baca data employ_merge.pkl dan assign ke variabel employ_pkl \n",
    "employ_pkl = pd.read_pickle('data/employ_merge.pkl')\n",
    "employ_pkl.head()"
   ]
  },
  {
   "cell_type": "code",
   "execution_count": 47,
   "metadata": {},
   "outputs": [
    {
     "data": {
      "text/plain": [
       "EmployeeID                  object\n",
       "NIK                         object\n",
       "orighiredate_key    datetime64[ns]\n",
       "department_name           category\n",
       "job_title                 category\n",
       "BUSINESS_UNIT             category\n",
       "province                    object\n",
       "city                        object\n",
       "district                    object\n",
       "gender                      object\n",
       "birth_datetime      datetime64[ns]\n",
       "birthday                    object\n",
       "age                          int64\n",
       "regist_code                  int64\n",
       "join_year                    int32\n",
       "birth_year                   int32\n",
       "generation                category\n",
       "dtype: object"
      ]
     },
     "execution_count": 47,
     "metadata": {},
     "output_type": "execute_result"
    }
   ],
   "source": [
    "# cek tipe data employ_pkl\n",
    "employ_pkl.dtypes"
   ]
  },
  {
   "cell_type": "markdown",
   "metadata": {},
   "source": [
    "**Pros & Cons Pickle file**:\n",
    "\n",
    "Kelebihan:\n",
    "- Menjaga struktur data dari dataframe\n",
    "- Mempertahankan tipe data dari dataframe\n",
    "\n",
    "Kekurangan:\n",
    "- Hanya bisa dibaca dengan Python dan tidak bisa langsung diakses dengan double click\n",
    "- Pickle dari sumber yang tidak terpercaya rentan untuk menyebarkan malware"
   ]
  },
  {
   "cell_type": "markdown",
   "metadata": {},
   "source": [
    "# Exploratory Data Analysis\n",
    "\n",
    "Exploratory Data Analysis (**EDA**) mengacu pada proses melakukan investigasi awal pada data, seringkali dengan tujuan untuk lebih mengenal karakteristik data. EDA dilakukan dengan bantuan ringkasan statistik dan visualisasi sederhana untuk melihat struktur data yang kita miliki.\n",
    "\n",
    "EDA:\n",
    "- Melihat struktur/bentuk data\n",
    "- Melihat statistika data\n",
    "- Memvisualisasikan data\n",
    "\n",
    "Beberapa tools sederhana pada `pandas` yang dapat digunakan untuk melakukan EDA adalah sebagai berikut:\n",
    "- `.head()` and `.tail()`\n",
    "- `.shape`\n",
    "- `.describe()`"
   ]
  },
  {
   "cell_type": "markdown",
   "metadata": {},
   "source": [
    "## `.shape`\n",
    "\n",
    "`.shape` adalah atribut dari sebuah dataframe yang memberikan informasi terkait bentuk (ukuran) data"
   ]
  },
  {
   "cell_type": "code",
   "execution_count": 48,
   "metadata": {},
   "outputs": [
    {
     "data": {
      "text/plain": [
       "(4799, 17)"
      ]
     },
     "execution_count": 48,
     "metadata": {},
     "output_type": "execute_result"
    }
   ],
   "source": [
    "# check shape\n",
    "employ_merge.shape"
   ]
  },
  {
   "cell_type": "markdown",
   "metadata": {},
   "source": [
    "✏️ Notes : `shape` akan mengeluarkan jumlah baris dan kolom (baris, kolom)\n",
    "- `shape[0]` mengambil informasi jumlah baris\n",
    "- `shape[1]` mengambil informasi jumlah kolom"
   ]
  },
  {
   "cell_type": "code",
   "execution_count": 49,
   "metadata": {},
   "outputs": [
    {
     "data": {
      "text/plain": [
       "4799"
      ]
     },
     "execution_count": 49,
     "metadata": {},
     "output_type": "execute_result"
    }
   ],
   "source": [
    "# mengeluarkan nilai baris\n",
    "employ_merge.shape[0]"
   ]
  },
  {
   "cell_type": "code",
   "execution_count": 50,
   "metadata": {},
   "outputs": [
    {
     "data": {
      "text/plain": [
       "17"
      ]
     },
     "execution_count": 50,
     "metadata": {},
     "output_type": "execute_result"
    }
   ],
   "source": [
    "# mengeluarkan nilai kolom\n",
    "employ_merge.shape[1]"
   ]
  },
  {
   "cell_type": "markdown",
   "metadata": {},
   "source": [
    "## `.describe()`\n",
    "\n",
    "Method `describe()` menampilkan 8 ringkasan statistika deskriptif. Secara default menampilkan ringkasan untuk kolom numerik. \n",
    "\n",
    "Ringkasan statistika yang dimaksud adalah sebagai berikut:\n",
    "- count: banyaknya baris pada dataframe\n",
    "- mean: rata-rata nilai\n",
    "- std: Standard Deviation, jarak rata-rata antara data ke mean (titik pusat data)\n",
    "- min: Minimum Value, nilai terkecil dari keseluruhan data\n",
    "- 25%: 25th Percentile (Q1)\n",
    "- 50%: 50th Percentile (Q2/Median)\n",
    "- 75%: 75th Percentile (Q3)\n",
    "- max: Maximum Value, nilai terbesar dari keseluruhan data"
   ]
  },
  {
   "cell_type": "code",
   "execution_count": 51,
   "metadata": {},
   "outputs": [
    {
     "data": {
      "text/html": [
       "<div>\n",
       "<style scoped>\n",
       "    .dataframe tbody tr th:only-of-type {\n",
       "        vertical-align: middle;\n",
       "    }\n",
       "\n",
       "    .dataframe tbody tr th {\n",
       "        vertical-align: top;\n",
       "    }\n",
       "\n",
       "    .dataframe thead th {\n",
       "        text-align: right;\n",
       "    }\n",
       "</style>\n",
       "<table border=\"1\" class=\"dataframe\">\n",
       "  <thead>\n",
       "    <tr style=\"text-align: right;\">\n",
       "      <th></th>\n",
       "      <th>orighiredate_key</th>\n",
       "      <th>birth_datetime</th>\n",
       "      <th>age</th>\n",
       "      <th>regist_code</th>\n",
       "      <th>join_year</th>\n",
       "      <th>birth_year</th>\n",
       "    </tr>\n",
       "  </thead>\n",
       "  <tbody>\n",
       "    <tr>\n",
       "      <th>count</th>\n",
       "      <td>4799</td>\n",
       "      <td>4799</td>\n",
       "      <td>4799.000000</td>\n",
       "      <td>4799.000000</td>\n",
       "      <td>4799.000000</td>\n",
       "      <td>4799.000000</td>\n",
       "    </tr>\n",
       "    <tr>\n",
       "      <th>mean</th>\n",
       "      <td>2002-03-21 11:28:02.600541696</td>\n",
       "      <td>1972-10-29 01:10:12.877682848</td>\n",
       "      <td>50.563034</td>\n",
       "      <td>10.104397</td>\n",
       "      <td>2001.708064</td>\n",
       "      <td>1972.335070</td>\n",
       "    </tr>\n",
       "    <tr>\n",
       "      <th>min</th>\n",
       "      <td>1989-08-28 00:00:00</td>\n",
       "      <td>1951-01-13 00:00:00</td>\n",
       "      <td>28.000000</td>\n",
       "      <td>1.000000</td>\n",
       "      <td>1989.000000</td>\n",
       "      <td>1951.000000</td>\n",
       "    </tr>\n",
       "    <tr>\n",
       "      <th>25%</th>\n",
       "      <td>1996-06-06 12:00:00</td>\n",
       "      <td>1961-11-15 00:00:00</td>\n",
       "      <td>40.000000</td>\n",
       "      <td>5.000000</td>\n",
       "      <td>1996.000000</td>\n",
       "      <td>1961.000000</td>\n",
       "    </tr>\n",
       "    <tr>\n",
       "      <th>50%</th>\n",
       "      <td>2002-03-14 00:00:00</td>\n",
       "      <td>1972-10-03 00:00:00</td>\n",
       "      <td>51.000000</td>\n",
       "      <td>10.000000</td>\n",
       "      <td>2002.000000</td>\n",
       "      <td>1972.000000</td>\n",
       "    </tr>\n",
       "    <tr>\n",
       "      <th>75%</th>\n",
       "      <td>2007-12-26 00:00:00</td>\n",
       "      <td>1983-09-16 12:00:00</td>\n",
       "      <td>62.000000</td>\n",
       "      <td>15.000000</td>\n",
       "      <td>2007.000000</td>\n",
       "      <td>1983.000000</td>\n",
       "    </tr>\n",
       "    <tr>\n",
       "      <th>max</th>\n",
       "      <td>2013-12-11 00:00:00</td>\n",
       "      <td>1994-12-31 00:00:00</td>\n",
       "      <td>72.000000</td>\n",
       "      <td>19.000000</td>\n",
       "      <td>2013.000000</td>\n",
       "      <td>1994.000000</td>\n",
       "    </tr>\n",
       "    <tr>\n",
       "      <th>std</th>\n",
       "      <td>NaN</td>\n",
       "      <td>NaN</td>\n",
       "      <td>12.610005</td>\n",
       "      <td>5.467298</td>\n",
       "      <td>6.686482</td>\n",
       "      <td>12.607613</td>\n",
       "    </tr>\n",
       "  </tbody>\n",
       "</table>\n",
       "</div>"
      ],
      "text/plain": [
       "                    orighiredate_key                 birth_datetime  \\\n",
       "count                           4799                           4799   \n",
       "mean   2002-03-21 11:28:02.600541696  1972-10-29 01:10:12.877682848   \n",
       "min              1989-08-28 00:00:00            1951-01-13 00:00:00   \n",
       "25%              1996-06-06 12:00:00            1961-11-15 00:00:00   \n",
       "50%              2002-03-14 00:00:00            1972-10-03 00:00:00   \n",
       "75%              2007-12-26 00:00:00            1983-09-16 12:00:00   \n",
       "max              2013-12-11 00:00:00            1994-12-31 00:00:00   \n",
       "std                              NaN                            NaN   \n",
       "\n",
       "               age  regist_code    join_year   birth_year  \n",
       "count  4799.000000  4799.000000  4799.000000  4799.000000  \n",
       "mean     50.563034    10.104397  2001.708064  1972.335070  \n",
       "min      28.000000     1.000000  1989.000000  1951.000000  \n",
       "25%      40.000000     5.000000  1996.000000  1961.000000  \n",
       "50%      51.000000    10.000000  2002.000000  1972.000000  \n",
       "75%      62.000000    15.000000  2007.000000  1983.000000  \n",
       "max      72.000000    19.000000  2013.000000  1994.000000  \n",
       "std      12.610005     5.467298     6.686482    12.607613  "
      ]
     },
     "execution_count": 51,
     "metadata": {},
     "output_type": "execute_result"
    }
   ],
   "source": [
    "# deskripsi dari data rice\n",
    "employ_merge.describe()"
   ]
  },
  {
   "cell_type": "markdown",
   "metadata": {},
   "source": [
    "✏️ **Insight** : \n",
    "- ...\n",
    "- ...\n",
    "- ..."
   ]
  },
  {
   "cell_type": "markdown",
   "metadata": {},
   "source": [
    "Ringkasan seperti count, mean, std, min, max, dan quantile() memiliki method nya masing-masing:"
   ]
  },
  {
   "cell_type": "code",
   "execution_count": 52,
   "metadata": {},
   "outputs": [
    {
     "data": {
      "text/plain": [
       "age              50.563034\n",
       "regist_code      10.104397\n",
       "join_year      2001.708064\n",
       "birth_year     1972.335070\n",
       "dtype: float64"
      ]
     },
     "execution_count": 52,
     "metadata": {},
     "output_type": "execute_result"
    }
   ],
   "source": [
    "# code here\n",
    "employ_merge.mean(numeric_only = True)"
   ]
  },
  {
   "cell_type": "markdown",
   "metadata": {},
   "source": [
    "Kita bisa menambahkan parameter `include` ataupun `exclude` pada `describe()` untuk melihat statistika deskriptif dari variable non-numeric:"
   ]
  },
  {
   "cell_type": "code",
   "execution_count": 53,
   "metadata": {},
   "outputs": [
    {
     "data": {
      "text/html": [
       "<div>\n",
       "<style scoped>\n",
       "    .dataframe tbody tr th:only-of-type {\n",
       "        vertical-align: middle;\n",
       "    }\n",
       "\n",
       "    .dataframe tbody tr th {\n",
       "        vertical-align: top;\n",
       "    }\n",
       "\n",
       "    .dataframe thead th {\n",
       "        text-align: right;\n",
       "    }\n",
       "</style>\n",
       "<table border=\"1\" class=\"dataframe\">\n",
       "  <thead>\n",
       "    <tr style=\"text-align: right;\">\n",
       "      <th></th>\n",
       "      <th>department_name</th>\n",
       "      <th>job_title</th>\n",
       "      <th>BUSINESS_UNIT</th>\n",
       "      <th>generation</th>\n",
       "    </tr>\n",
       "  </thead>\n",
       "  <tbody>\n",
       "    <tr>\n",
       "      <th>count</th>\n",
       "      <td>4799</td>\n",
       "      <td>4799</td>\n",
       "      <td>4799</td>\n",
       "      <td>4799</td>\n",
       "    </tr>\n",
       "    <tr>\n",
       "      <th>unique</th>\n",
       "      <td>9</td>\n",
       "      <td>23</td>\n",
       "      <td>2</td>\n",
       "      <td>3</td>\n",
       "    </tr>\n",
       "    <tr>\n",
       "      <th>top</th>\n",
       "      <td>Customer Service</td>\n",
       "      <td>Cashier</td>\n",
       "      <td>STORES</td>\n",
       "      <td>Gen. X</td>\n",
       "    </tr>\n",
       "    <tr>\n",
       "      <th>freq</th>\n",
       "      <td>928</td>\n",
       "      <td>910</td>\n",
       "      <td>4788</td>\n",
       "      <td>1759</td>\n",
       "    </tr>\n",
       "  </tbody>\n",
       "</table>\n",
       "</div>"
      ],
      "text/plain": [
       "         department_name job_title BUSINESS_UNIT generation\n",
       "count               4799      4799          4799       4799\n",
       "unique                 9        23             2          3\n",
       "top     Customer Service   Cashier        STORES     Gen. X\n",
       "freq                 928       910          4788       1759"
      ]
     },
     "execution_count": 53,
     "metadata": {},
     "output_type": "execute_result"
    }
   ],
   "source": [
    "# include category\n",
    "employ_merge.describe(include='category')"
   ]
  },
  {
   "cell_type": "markdown",
   "metadata": {},
   "source": [
    "Hasil describe category\n",
    "- **unique**: jumlah kategori unik\n",
    "- **top**: kategori yang paling sering muncul\n",
    "- **freq**: frekuensi kemunculan (jumlah baris) kategori **top**"
   ]
  },
  {
   "cell_type": "markdown",
   "metadata": {},
   "source": [
    "✏️ **Insight** : \n",
    "- ...\n",
    "- ...\n",
    "- ..."
   ]
  },
  {
   "cell_type": "markdown",
   "metadata": {},
   "source": [
    "## Subsetting\n",
    "\n",
    "Subsetting digunakan untuk memilih dan mengambil sebagian data yang hanya diperlukan dalam proses analisa data yang sedang dikerjakan. Contohnya:\n",
    "- Melihat pegawai dengan masa kerja tertentu untuk pemberian work anniversary benefit\n",
    "- Melihat pegawai dengan gender perempuan untuk sosialisasi *maternity leave*\n",
    "- Meninjau performa pegawai dari divisi tertentu\n",
    "- dan sebagainya"
   ]
  },
  {
   "cell_type": "markdown",
   "metadata": {},
   "source": [
    "### Conditional Subsetting\n",
    "\n",
    "Misal pada dataframe `employee_merge`, kita ingin mengambil beberapa data dengan kondisi sebagai berikut:\n",
    "\n",
    "- Pegawai yang bekerja pada unit HEADOFFICE: `BUSINESS_UNIT == 'HEADOFFICE'`\n",
    "- Pegawai yang lahir pada tahun 2000an: `birth_year >= 2000`\n",
    "- Pegawai selain CEO: `job_title != 'CEO'`\n",
    "\n",
    "Syntax penulisan untuk conditional subsetting adalah:\n",
    "\n",
    "**`df[df['column_name'] <comparison_operator> <value>]`**\n",
    "\n",
    "atau\n",
    "\n",
    "**`df[df.column_name <comparison_operator> <value>]`**"
   ]
  },
  {
   "cell_type": "markdown",
   "metadata": {},
   "source": [
    "Comparison operator:\n",
    "- `<` : Lebih kecil dari (yaitu : a < b)\n",
    "- `<=` : Lebih kecil atau sama dengan (yaitu : a <= b)\n",
    "- `>` : Lebih besar dari (yaitu: a > b)\n",
    "- `>=` : Lebih besar atau sama dengan (yaitu: a >= b)\n",
    "- `==` : Sama dengan (yaitu: a == b)\n",
    "- `!=` : Tidak Sama dengan (yaitu: a != b)"
   ]
  },
  {
   "cell_type": "code",
   "execution_count": 54,
   "metadata": {},
   "outputs": [
    {
     "data": {
      "text/html": [
       "<div>\n",
       "<style scoped>\n",
       "    .dataframe tbody tr th:only-of-type {\n",
       "        vertical-align: middle;\n",
       "    }\n",
       "\n",
       "    .dataframe tbody tr th {\n",
       "        vertical-align: top;\n",
       "    }\n",
       "\n",
       "    .dataframe thead th {\n",
       "        text-align: right;\n",
       "    }\n",
       "</style>\n",
       "<table border=\"1\" class=\"dataframe\">\n",
       "  <thead>\n",
       "    <tr style=\"text-align: right;\">\n",
       "      <th></th>\n",
       "      <th>EmployeeID</th>\n",
       "      <th>NIK</th>\n",
       "      <th>orighiredate_key</th>\n",
       "      <th>department_name</th>\n",
       "      <th>job_title</th>\n",
       "      <th>BUSINESS_UNIT</th>\n",
       "      <th>province</th>\n",
       "      <th>city</th>\n",
       "      <th>district</th>\n",
       "      <th>gender</th>\n",
       "      <th>birth_datetime</th>\n",
       "      <th>birthday</th>\n",
       "      <th>age</th>\n",
       "      <th>regist_code</th>\n",
       "      <th>join_year</th>\n",
       "      <th>birth_year</th>\n",
       "      <th>generation</th>\n",
       "    </tr>\n",
       "  </thead>\n",
       "  <tbody>\n",
       "    <tr>\n",
       "      <th>0</th>\n",
       "      <td>1318</td>\n",
       "      <td>3308040301540010</td>\n",
       "      <td>1989-08-28</td>\n",
       "      <td>Executive</td>\n",
       "      <td>CEO</td>\n",
       "      <td>HEADOFFICE</td>\n",
       "      <td>JAWA TENGAH</td>\n",
       "      <td>KAB. MAGELANG</td>\n",
       "      <td>Salam</td>\n",
       "      <td>Male</td>\n",
       "      <td>1954-01-03</td>\n",
       "      <td>03 January 1954</td>\n",
       "      <td>69</td>\n",
       "      <td>10</td>\n",
       "      <td>1989</td>\n",
       "      <td>1954</td>\n",
       "      <td>Boomers</td>\n",
       "    </tr>\n",
       "    <tr>\n",
       "      <th>1</th>\n",
       "      <td>1319</td>\n",
       "      <td>3524174301570009</td>\n",
       "      <td>1989-08-28</td>\n",
       "      <td>Executive</td>\n",
       "      <td>VP Stores</td>\n",
       "      <td>HEADOFFICE</td>\n",
       "      <td>JAWA TIMUR</td>\n",
       "      <td>KAB. LAMONGAN</td>\n",
       "      <td>Sukodadi</td>\n",
       "      <td>Female</td>\n",
       "      <td>1957-01-03</td>\n",
       "      <td>03 January 1957</td>\n",
       "      <td>66</td>\n",
       "      <td>9</td>\n",
       "      <td>1989</td>\n",
       "      <td>1957</td>\n",
       "      <td>Boomers</td>\n",
       "    </tr>\n",
       "    <tr>\n",
       "      <th>2</th>\n",
       "      <td>1320</td>\n",
       "      <td>7603044201550014</td>\n",
       "      <td>1989-08-28</td>\n",
       "      <td>Executive</td>\n",
       "      <td>Legal Counsel</td>\n",
       "      <td>HEADOFFICE</td>\n",
       "      <td>SULAWESI BARAT</td>\n",
       "      <td>KAB. MAMASA</td>\n",
       "      <td>Pana</td>\n",
       "      <td>Female</td>\n",
       "      <td>1955-01-02</td>\n",
       "      <td>02 January 1955</td>\n",
       "      <td>68</td>\n",
       "      <td>14</td>\n",
       "      <td>1989</td>\n",
       "      <td>1955</td>\n",
       "      <td>Boomers</td>\n",
       "    </tr>\n",
       "    <tr>\n",
       "      <th>3</th>\n",
       "      <td>1321</td>\n",
       "      <td>1571030201590009</td>\n",
       "      <td>1989-08-28</td>\n",
       "      <td>Executive</td>\n",
       "      <td>VP Human Resources</td>\n",
       "      <td>HEADOFFICE</td>\n",
       "      <td>JAMBI</td>\n",
       "      <td>KOTA JAMBI</td>\n",
       "      <td>Jambi Timur</td>\n",
       "      <td>Male</td>\n",
       "      <td>1959-01-02</td>\n",
       "      <td>02 January 1959</td>\n",
       "      <td>64</td>\n",
       "      <td>9</td>\n",
       "      <td>1989</td>\n",
       "      <td>1959</td>\n",
       "      <td>Boomers</td>\n",
       "    </tr>\n",
       "    <tr>\n",
       "      <th>4</th>\n",
       "      <td>1322</td>\n",
       "      <td>3528130901580018</td>\n",
       "      <td>1989-08-31</td>\n",
       "      <td>Executive</td>\n",
       "      <td>VP Finance</td>\n",
       "      <td>HEADOFFICE</td>\n",
       "      <td>JAWA TIMUR</td>\n",
       "      <td>KAB. PAMEKASAN</td>\n",
       "      <td>Pasean</td>\n",
       "      <td>Male</td>\n",
       "      <td>1958-01-09</td>\n",
       "      <td>09 January 1958</td>\n",
       "      <td>65</td>\n",
       "      <td>18</td>\n",
       "      <td>1989</td>\n",
       "      <td>1958</td>\n",
       "      <td>Boomers</td>\n",
       "    </tr>\n",
       "  </tbody>\n",
       "</table>\n",
       "</div>"
      ],
      "text/plain": [
       "  EmployeeID               NIK orighiredate_key department_name  \\\n",
       "0       1318  3308040301540010       1989-08-28       Executive   \n",
       "1       1319  3524174301570009       1989-08-28       Executive   \n",
       "2       1320  7603044201550014       1989-08-28       Executive   \n",
       "3       1321  1571030201590009       1989-08-28       Executive   \n",
       "4       1322  3528130901580018       1989-08-31       Executive   \n",
       "\n",
       "            job_title BUSINESS_UNIT        province            city  \\\n",
       "0                 CEO    HEADOFFICE     JAWA TENGAH   KAB. MAGELANG   \n",
       "1           VP Stores    HEADOFFICE      JAWA TIMUR   KAB. LAMONGAN   \n",
       "2       Legal Counsel    HEADOFFICE  SULAWESI BARAT     KAB. MAMASA   \n",
       "3  VP Human Resources    HEADOFFICE           JAMBI      KOTA JAMBI   \n",
       "4          VP Finance    HEADOFFICE      JAWA TIMUR  KAB. PAMEKASAN   \n",
       "\n",
       "      district  gender birth_datetime         birthday  age  regist_code  \\\n",
       "0        Salam    Male     1954-01-03  03 January 1954   69           10   \n",
       "1     Sukodadi  Female     1957-01-03  03 January 1957   66            9   \n",
       "2         Pana  Female     1955-01-02  02 January 1955   68           14   \n",
       "3  Jambi Timur    Male     1959-01-02  02 January 1959   64            9   \n",
       "4       Pasean    Male     1958-01-09  09 January 1958   65           18   \n",
       "\n",
       "   join_year  birth_year generation  \n",
       "0       1989        1954    Boomers  \n",
       "1       1989        1957    Boomers  \n",
       "2       1989        1955    Boomers  \n",
       "3       1989        1959    Boomers  \n",
       "4       1989        1958    Boomers  "
      ]
     },
     "execution_count": 54,
     "metadata": {},
     "output_type": "execute_result"
    }
   ],
   "source": [
    "employ_merge.head()"
   ]
  },
  {
   "cell_type": "markdown",
   "metadata": {},
   "source": [
    "**Task 1:** Tampilkan data pegawai yang berasal dari DKI JAKARTA!"
   ]
  },
  {
   "cell_type": "markdown",
   "metadata": {},
   "source": [
    "> **Step 1**: Buat kondisi\n",
    "> ```\n",
    "> employ_merge['province'] == 'JAWA BARAT'\n",
    "> ```\n",
    "> **Step 2**: Subset kondisi\n",
    "> ```\n",
    "> employ_merge[employ_merge['province'] == 'JAWA BARAT']\n",
    "> ```"
   ]
  },
  {
   "cell_type": "code",
   "execution_count": 55,
   "metadata": {},
   "outputs": [
    {
     "data": {
      "text/html": [
       "<div>\n",
       "<style scoped>\n",
       "    .dataframe tbody tr th:only-of-type {\n",
       "        vertical-align: middle;\n",
       "    }\n",
       "\n",
       "    .dataframe tbody tr th {\n",
       "        vertical-align: top;\n",
       "    }\n",
       "\n",
       "    .dataframe thead th {\n",
       "        text-align: right;\n",
       "    }\n",
       "</style>\n",
       "<table border=\"1\" class=\"dataframe\">\n",
       "  <thead>\n",
       "    <tr style=\"text-align: right;\">\n",
       "      <th></th>\n",
       "      <th>EmployeeID</th>\n",
       "      <th>NIK</th>\n",
       "      <th>orighiredate_key</th>\n",
       "      <th>department_name</th>\n",
       "      <th>job_title</th>\n",
       "      <th>BUSINESS_UNIT</th>\n",
       "      <th>province</th>\n",
       "      <th>city</th>\n",
       "      <th>district</th>\n",
       "      <th>gender</th>\n",
       "      <th>birth_datetime</th>\n",
       "      <th>birthday</th>\n",
       "      <th>age</th>\n",
       "      <th>regist_code</th>\n",
       "      <th>join_year</th>\n",
       "      <th>birth_year</th>\n",
       "      <th>generation</th>\n",
       "    </tr>\n",
       "  </thead>\n",
       "  <tbody>\n",
       "    <tr>\n",
       "      <th>20</th>\n",
       "      <td>1716</td>\n",
       "      <td>3202193101510015</td>\n",
       "      <td>1990-10-03</td>\n",
       "      <td>Meats</td>\n",
       "      <td>Meat Cutter</td>\n",
       "      <td>STORES</td>\n",
       "      <td>JAWA BARAT</td>\n",
       "      <td>KAB. SUKABUMI</td>\n",
       "      <td>Kabandungan</td>\n",
       "      <td>Male</td>\n",
       "      <td>1951-01-31</td>\n",
       "      <td>31 January 1951</td>\n",
       "      <td>72</td>\n",
       "      <td>15</td>\n",
       "      <td>1990</td>\n",
       "      <td>1951</td>\n",
       "      <td>Boomers</td>\n",
       "    </tr>\n",
       "    <tr>\n",
       "      <th>37</th>\n",
       "      <td>1744</td>\n",
       "      <td>3208014804510019</td>\n",
       "      <td>1990-11-07</td>\n",
       "      <td>Dairy</td>\n",
       "      <td>Dairy Person</td>\n",
       "      <td>STORES</td>\n",
       "      <td>JAWA BARAT</td>\n",
       "      <td>KAB. KUNINGAN</td>\n",
       "      <td>Kadugede</td>\n",
       "      <td>Female</td>\n",
       "      <td>1951-04-08</td>\n",
       "      <td>08 April 1951</td>\n",
       "      <td>72</td>\n",
       "      <td>19</td>\n",
       "      <td>1990</td>\n",
       "      <td>1951</td>\n",
       "      <td>Boomers</td>\n",
       "    </tr>\n",
       "    <tr>\n",
       "      <th>51</th>\n",
       "      <td>1773</td>\n",
       "      <td>3203061206510001</td>\n",
       "      <td>1990-12-12</td>\n",
       "      <td>Meats</td>\n",
       "      <td>Meat Cutter</td>\n",
       "      <td>STORES</td>\n",
       "      <td>JAWA BARAT</td>\n",
       "      <td>KAB. CIANJUR</td>\n",
       "      <td>Bojongpicung</td>\n",
       "      <td>Male</td>\n",
       "      <td>1951-06-12</td>\n",
       "      <td>12 June 1951</td>\n",
       "      <td>72</td>\n",
       "      <td>1</td>\n",
       "      <td>1990</td>\n",
       "      <td>1951</td>\n",
       "      <td>Boomers</td>\n",
       "    </tr>\n",
       "    <tr>\n",
       "      <th>61</th>\n",
       "      <td>1794</td>\n",
       "      <td>3210082107510003</td>\n",
       "      <td>1991-01-01</td>\n",
       "      <td>Customer Service</td>\n",
       "      <td>Customer Service Manager</td>\n",
       "      <td>STORES</td>\n",
       "      <td>JAWA BARAT</td>\n",
       "      <td>KAB. MAJALENGKA</td>\n",
       "      <td>Sukahaji</td>\n",
       "      <td>Male</td>\n",
       "      <td>1951-07-21</td>\n",
       "      <td>21 July 1951</td>\n",
       "      <td>72</td>\n",
       "      <td>3</td>\n",
       "      <td>1991</td>\n",
       "      <td>1951</td>\n",
       "      <td>Boomers</td>\n",
       "    </tr>\n",
       "    <tr>\n",
       "      <th>73</th>\n",
       "      <td>1816</td>\n",
       "      <td>3204401709510007</td>\n",
       "      <td>1991-02-01</td>\n",
       "      <td>Meats</td>\n",
       "      <td>Meat Cutter</td>\n",
       "      <td>STORES</td>\n",
       "      <td>JAWA BARAT</td>\n",
       "      <td>KAB. BANDUNG</td>\n",
       "      <td>Rancabali</td>\n",
       "      <td>Male</td>\n",
       "      <td>1951-09-17</td>\n",
       "      <td>17 September 1951</td>\n",
       "      <td>72</td>\n",
       "      <td>7</td>\n",
       "      <td>1991</td>\n",
       "      <td>1951</td>\n",
       "      <td>Boomers</td>\n",
       "    </tr>\n",
       "    <tr>\n",
       "      <th>...</th>\n",
       "      <td>...</td>\n",
       "      <td>...</td>\n",
       "      <td>...</td>\n",
       "      <td>...</td>\n",
       "      <td>...</td>\n",
       "      <td>...</td>\n",
       "      <td>...</td>\n",
       "      <td>...</td>\n",
       "      <td>...</td>\n",
       "      <td>...</td>\n",
       "      <td>...</td>\n",
       "      <td>...</td>\n",
       "      <td>...</td>\n",
       "      <td>...</td>\n",
       "      <td>...</td>\n",
       "      <td>...</td>\n",
       "      <td>...</td>\n",
       "    </tr>\n",
       "    <tr>\n",
       "      <th>4693</th>\n",
       "      <td>8224</td>\n",
       "      <td>3213155402940019</td>\n",
       "      <td>2013-06-25</td>\n",
       "      <td>Customer Service</td>\n",
       "      <td>Cashier</td>\n",
       "      <td>STORES</td>\n",
       "      <td>JAWA BARAT</td>\n",
       "      <td>KAB. SUBANG</td>\n",
       "      <td>Compreng</td>\n",
       "      <td>Female</td>\n",
       "      <td>1994-02-14</td>\n",
       "      <td>14 February 1994</td>\n",
       "      <td>29</td>\n",
       "      <td>19</td>\n",
       "      <td>2013</td>\n",
       "      <td>1994</td>\n",
       "      <td>Gen. Y (Millenials)</td>\n",
       "    </tr>\n",
       "    <tr>\n",
       "      <th>4756</th>\n",
       "      <td>8292</td>\n",
       "      <td>3204387008940017</td>\n",
       "      <td>2013-10-07</td>\n",
       "      <td>Customer Service</td>\n",
       "      <td>Cashier</td>\n",
       "      <td>STORES</td>\n",
       "      <td>JAWA BARAT</td>\n",
       "      <td>KAB. BANDUNG</td>\n",
       "      <td>Pasirjambu</td>\n",
       "      <td>Female</td>\n",
       "      <td>1994-08-30</td>\n",
       "      <td>30 August 1994</td>\n",
       "      <td>29</td>\n",
       "      <td>17</td>\n",
       "      <td>2013</td>\n",
       "      <td>1994</td>\n",
       "      <td>Gen. Y (Millenials)</td>\n",
       "    </tr>\n",
       "    <tr>\n",
       "      <th>4764</th>\n",
       "      <td>8301</td>\n",
       "      <td>3272042109940013</td>\n",
       "      <td>2013-10-19</td>\n",
       "      <td>Customer Service</td>\n",
       "      <td>Cashier</td>\n",
       "      <td>STORES</td>\n",
       "      <td>JAWA BARAT</td>\n",
       "      <td>KOTA SUKABUMI</td>\n",
       "      <td>Warudoyong</td>\n",
       "      <td>Male</td>\n",
       "      <td>1994-09-21</td>\n",
       "      <td>21 September 1994</td>\n",
       "      <td>29</td>\n",
       "      <td>13</td>\n",
       "      <td>2013</td>\n",
       "      <td>1994</td>\n",
       "      <td>Gen. Y (Millenials)</td>\n",
       "    </tr>\n",
       "    <tr>\n",
       "      <th>4766</th>\n",
       "      <td>8303</td>\n",
       "      <td>3214030710940011</td>\n",
       "      <td>2013-10-27</td>\n",
       "      <td>Customer Service</td>\n",
       "      <td>Cashier</td>\n",
       "      <td>STORES</td>\n",
       "      <td>JAWA BARAT</td>\n",
       "      <td>KAB. PURWAKARTA</td>\n",
       "      <td>Jatiluhur</td>\n",
       "      <td>Male</td>\n",
       "      <td>1994-10-07</td>\n",
       "      <td>07 October 1994</td>\n",
       "      <td>29</td>\n",
       "      <td>11</td>\n",
       "      <td>2013</td>\n",
       "      <td>1994</td>\n",
       "      <td>Gen. Y (Millenials)</td>\n",
       "    </tr>\n",
       "    <tr>\n",
       "      <th>4780</th>\n",
       "      <td>8317</td>\n",
       "      <td>3201136111940011</td>\n",
       "      <td>2013-11-20</td>\n",
       "      <td>Customer Service</td>\n",
       "      <td>Cashier</td>\n",
       "      <td>STORES</td>\n",
       "      <td>JAWA BARAT</td>\n",
       "      <td>KAB. BOGOR</td>\n",
       "      <td>Bojong Gede</td>\n",
       "      <td>Female</td>\n",
       "      <td>1994-11-21</td>\n",
       "      <td>21 November 1994</td>\n",
       "      <td>29</td>\n",
       "      <td>11</td>\n",
       "      <td>2013</td>\n",
       "      <td>1994</td>\n",
       "      <td>Gen. Y (Millenials)</td>\n",
       "    </tr>\n",
       "  </tbody>\n",
       "</table>\n",
       "<p>412 rows × 17 columns</p>\n",
       "</div>"
      ],
      "text/plain": [
       "     EmployeeID               NIK orighiredate_key   department_name  \\\n",
       "20         1716  3202193101510015       1990-10-03             Meats   \n",
       "37         1744  3208014804510019       1990-11-07             Dairy   \n",
       "51         1773  3203061206510001       1990-12-12             Meats   \n",
       "61         1794  3210082107510003       1991-01-01  Customer Service   \n",
       "73         1816  3204401709510007       1991-02-01             Meats   \n",
       "...         ...               ...              ...               ...   \n",
       "4693       8224  3213155402940019       2013-06-25  Customer Service   \n",
       "4756       8292  3204387008940017       2013-10-07  Customer Service   \n",
       "4764       8301  3272042109940013       2013-10-19  Customer Service   \n",
       "4766       8303  3214030710940011       2013-10-27  Customer Service   \n",
       "4780       8317  3201136111940011       2013-11-20  Customer Service   \n",
       "\n",
       "                     job_title BUSINESS_UNIT    province             city  \\\n",
       "20                 Meat Cutter        STORES  JAWA BARAT    KAB. SUKABUMI   \n",
       "37                Dairy Person        STORES  JAWA BARAT    KAB. KUNINGAN   \n",
       "51                 Meat Cutter        STORES  JAWA BARAT     KAB. CIANJUR   \n",
       "61    Customer Service Manager        STORES  JAWA BARAT  KAB. MAJALENGKA   \n",
       "73                 Meat Cutter        STORES  JAWA BARAT     KAB. BANDUNG   \n",
       "...                        ...           ...         ...              ...   \n",
       "4693                   Cashier        STORES  JAWA BARAT      KAB. SUBANG   \n",
       "4756                   Cashier        STORES  JAWA BARAT     KAB. BANDUNG   \n",
       "4764                   Cashier        STORES  JAWA BARAT    KOTA SUKABUMI   \n",
       "4766                   Cashier        STORES  JAWA BARAT  KAB. PURWAKARTA   \n",
       "4780                   Cashier        STORES  JAWA BARAT       KAB. BOGOR   \n",
       "\n",
       "          district  gender birth_datetime           birthday  age  \\\n",
       "20     Kabandungan    Male     1951-01-31    31 January 1951   72   \n",
       "37        Kadugede  Female     1951-04-08      08 April 1951   72   \n",
       "51    Bojongpicung    Male     1951-06-12       12 June 1951   72   \n",
       "61        Sukahaji    Male     1951-07-21       21 July 1951   72   \n",
       "73       Rancabali    Male     1951-09-17  17 September 1951   72   \n",
       "...            ...     ...            ...                ...  ...   \n",
       "4693      Compreng  Female     1994-02-14   14 February 1994   29   \n",
       "4756    Pasirjambu  Female     1994-08-30     30 August 1994   29   \n",
       "4764    Warudoyong    Male     1994-09-21  21 September 1994   29   \n",
       "4766     Jatiluhur    Male     1994-10-07    07 October 1994   29   \n",
       "4780   Bojong Gede  Female     1994-11-21   21 November 1994   29   \n",
       "\n",
       "      regist_code  join_year  birth_year           generation  \n",
       "20             15       1990        1951              Boomers  \n",
       "37             19       1990        1951              Boomers  \n",
       "51              1       1990        1951              Boomers  \n",
       "61              3       1991        1951              Boomers  \n",
       "73              7       1991        1951              Boomers  \n",
       "...           ...        ...         ...                  ...  \n",
       "4693           19       2013        1994  Gen. Y (Millenials)  \n",
       "4756           17       2013        1994  Gen. Y (Millenials)  \n",
       "4764           13       2013        1994  Gen. Y (Millenials)  \n",
       "4766           11       2013        1994  Gen. Y (Millenials)  \n",
       "4780           11       2013        1994  Gen. Y (Millenials)  \n",
       "\n",
       "[412 rows x 17 columns]"
      ]
     },
     "execution_count": 55,
     "metadata": {},
     "output_type": "execute_result"
    }
   ],
   "source": [
    "# code here\n",
    "employ_merge[employ_merge['province'] == 'JAWA BARAT']"
   ]
  },
  {
   "cell_type": "markdown",
   "metadata": {},
   "source": [
    "**Task 2:** Tampilkan data pegawai yang bergabung dalam perusahaan sejak tahun 2010!"
   ]
  },
  {
   "cell_type": "code",
   "execution_count": 56,
   "metadata": {},
   "outputs": [
    {
     "data": {
      "text/html": [
       "<div>\n",
       "<style scoped>\n",
       "    .dataframe tbody tr th:only-of-type {\n",
       "        vertical-align: middle;\n",
       "    }\n",
       "\n",
       "    .dataframe tbody tr th {\n",
       "        vertical-align: top;\n",
       "    }\n",
       "\n",
       "    .dataframe thead th {\n",
       "        text-align: right;\n",
       "    }\n",
       "</style>\n",
       "<table border=\"1\" class=\"dataframe\">\n",
       "  <thead>\n",
       "    <tr style=\"text-align: right;\">\n",
       "      <th></th>\n",
       "      <th>EmployeeID</th>\n",
       "      <th>NIK</th>\n",
       "      <th>orighiredate_key</th>\n",
       "      <th>department_name</th>\n",
       "      <th>job_title</th>\n",
       "      <th>BUSINESS_UNIT</th>\n",
       "      <th>province</th>\n",
       "      <th>city</th>\n",
       "      <th>district</th>\n",
       "      <th>gender</th>\n",
       "      <th>birth_datetime</th>\n",
       "      <th>birthday</th>\n",
       "      <th>age</th>\n",
       "      <th>regist_code</th>\n",
       "      <th>join_year</th>\n",
       "      <th>birth_year</th>\n",
       "      <th>generation</th>\n",
       "    </tr>\n",
       "  </thead>\n",
       "  <tbody>\n",
       "    <tr>\n",
       "      <th>3996</th>\n",
       "      <td>7364</td>\n",
       "      <td>6202015907870014</td>\n",
       "      <td>2010-01-04</td>\n",
       "      <td>Customer Service</td>\n",
       "      <td>Cashier</td>\n",
       "      <td>STORES</td>\n",
       "      <td>KALIMANTAN TENGAH</td>\n",
       "      <td>KAB. KOTAWARINGIN TIMUR</td>\n",
       "      <td>Kota Besi</td>\n",
       "      <td>Female</td>\n",
       "      <td>1987-07-19</td>\n",
       "      <td>19 July 1987</td>\n",
       "      <td>36</td>\n",
       "      <td>14</td>\n",
       "      <td>2010</td>\n",
       "      <td>1987</td>\n",
       "      <td>Gen. Y (Millenials)</td>\n",
       "    </tr>\n",
       "    <tr>\n",
       "      <th>3997</th>\n",
       "      <td>7365</td>\n",
       "      <td>7604011907870011</td>\n",
       "      <td>2010-01-04</td>\n",
       "      <td>Processed Foods</td>\n",
       "      <td>Shelf Stocker</td>\n",
       "      <td>STORES</td>\n",
       "      <td>SULAWESI BARAT</td>\n",
       "      <td>KAB. POLEWALI MANDAR</td>\n",
       "      <td>Tinambung</td>\n",
       "      <td>Male</td>\n",
       "      <td>1987-07-19</td>\n",
       "      <td>19 July 1987</td>\n",
       "      <td>36</td>\n",
       "      <td>11</td>\n",
       "      <td>2010</td>\n",
       "      <td>1987</td>\n",
       "      <td>Gen. Y (Millenials)</td>\n",
       "    </tr>\n",
       "    <tr>\n",
       "      <th>3998</th>\n",
       "      <td>7366</td>\n",
       "      <td>1809086107870003</td>\n",
       "      <td>2010-01-05</td>\n",
       "      <td>Processed Foods</td>\n",
       "      <td>Shelf Stocker</td>\n",
       "      <td>STORES</td>\n",
       "      <td>LAMPUNG</td>\n",
       "      <td>KAB. PESAWARAN</td>\n",
       "      <td>Marga Punduh</td>\n",
       "      <td>Female</td>\n",
       "      <td>1987-07-21</td>\n",
       "      <td>21 July 1987</td>\n",
       "      <td>36</td>\n",
       "      <td>3</td>\n",
       "      <td>2010</td>\n",
       "      <td>1987</td>\n",
       "      <td>Gen. Y (Millenials)</td>\n",
       "    </tr>\n",
       "    <tr>\n",
       "      <th>3999</th>\n",
       "      <td>7367</td>\n",
       "      <td>6309092107870014</td>\n",
       "      <td>2010-01-05</td>\n",
       "      <td>Customer Service</td>\n",
       "      <td>Cashier</td>\n",
       "      <td>STORES</td>\n",
       "      <td>KALIMANTAN SELATAN</td>\n",
       "      <td>KAB. TABALONG</td>\n",
       "      <td>Pugaan</td>\n",
       "      <td>Male</td>\n",
       "      <td>1987-07-21</td>\n",
       "      <td>21 July 1987</td>\n",
       "      <td>36</td>\n",
       "      <td>14</td>\n",
       "      <td>2010</td>\n",
       "      <td>1987</td>\n",
       "      <td>Gen. Y (Millenials)</td>\n",
       "    </tr>\n",
       "    <tr>\n",
       "      <th>4000</th>\n",
       "      <td>7368</td>\n",
       "      <td>3602166907870017</td>\n",
       "      <td>2010-01-09</td>\n",
       "      <td>Processed Foods</td>\n",
       "      <td>Shelf Stocker</td>\n",
       "      <td>STORES</td>\n",
       "      <td>BANTEN</td>\n",
       "      <td>KAB. LEBAK</td>\n",
       "      <td>Cijaku</td>\n",
       "      <td>Female</td>\n",
       "      <td>1987-07-29</td>\n",
       "      <td>29 July 1987</td>\n",
       "      <td>36</td>\n",
       "      <td>17</td>\n",
       "      <td>2010</td>\n",
       "      <td>1987</td>\n",
       "      <td>Gen. Y (Millenials)</td>\n",
       "    </tr>\n",
       "    <tr>\n",
       "      <th>...</th>\n",
       "      <td>...</td>\n",
       "      <td>...</td>\n",
       "      <td>...</td>\n",
       "      <td>...</td>\n",
       "      <td>...</td>\n",
       "      <td>...</td>\n",
       "      <td>...</td>\n",
       "      <td>...</td>\n",
       "      <td>...</td>\n",
       "      <td>...</td>\n",
       "      <td>...</td>\n",
       "      <td>...</td>\n",
       "      <td>...</td>\n",
       "      <td>...</td>\n",
       "      <td>...</td>\n",
       "      <td>...</td>\n",
       "      <td>...</td>\n",
       "    </tr>\n",
       "    <tr>\n",
       "      <th>4794</th>\n",
       "      <td>8332</td>\n",
       "      <td>5314086012940001</td>\n",
       "      <td>2013-12-05</td>\n",
       "      <td>Customer Service</td>\n",
       "      <td>Cashier</td>\n",
       "      <td>STORES</td>\n",
       "      <td>NUSA TENGGARA TIMUR</td>\n",
       "      <td>KAB. ROTE NDAO</td>\n",
       "      <td>Rote Selatan</td>\n",
       "      <td>Female</td>\n",
       "      <td>1994-12-20</td>\n",
       "      <td>20 December 1994</td>\n",
       "      <td>28</td>\n",
       "      <td>1</td>\n",
       "      <td>2013</td>\n",
       "      <td>1994</td>\n",
       "      <td>Gen. Y (Millenials)</td>\n",
       "    </tr>\n",
       "    <tr>\n",
       "      <th>4795</th>\n",
       "      <td>8333</td>\n",
       "      <td>3306091912940014</td>\n",
       "      <td>2013-12-05</td>\n",
       "      <td>Customer Service</td>\n",
       "      <td>Cashier</td>\n",
       "      <td>STORES</td>\n",
       "      <td>JAWA TENGAH</td>\n",
       "      <td>KAB. PURWOREJO</td>\n",
       "      <td>Kutoarjo</td>\n",
       "      <td>Male</td>\n",
       "      <td>1994-12-19</td>\n",
       "      <td>19 December 1994</td>\n",
       "      <td>28</td>\n",
       "      <td>14</td>\n",
       "      <td>2013</td>\n",
       "      <td>1994</td>\n",
       "      <td>Gen. Y (Millenials)</td>\n",
       "    </tr>\n",
       "    <tr>\n",
       "      <th>4796</th>\n",
       "      <td>8334</td>\n",
       "      <td>8108106712940019</td>\n",
       "      <td>2013-12-09</td>\n",
       "      <td>Customer Service</td>\n",
       "      <td>Cashier</td>\n",
       "      <td>STORES</td>\n",
       "      <td>MALUKU</td>\n",
       "      <td>KAB. MALUKU BARAT DAYA</td>\n",
       "      <td>Dawelor Dawera</td>\n",
       "      <td>Female</td>\n",
       "      <td>1994-12-27</td>\n",
       "      <td>27 December 1994</td>\n",
       "      <td>28</td>\n",
       "      <td>19</td>\n",
       "      <td>2013</td>\n",
       "      <td>1994</td>\n",
       "      <td>Gen. Y (Millenials)</td>\n",
       "    </tr>\n",
       "    <tr>\n",
       "      <th>4797</th>\n",
       "      <td>8335</td>\n",
       "      <td>3601026812940002</td>\n",
       "      <td>2013-12-10</td>\n",
       "      <td>Dairy</td>\n",
       "      <td>Dairy Person</td>\n",
       "      <td>STORES</td>\n",
       "      <td>BANTEN</td>\n",
       "      <td>KAB. PANDEGLANG</td>\n",
       "      <td>Cimanggu</td>\n",
       "      <td>Female</td>\n",
       "      <td>1994-12-28</td>\n",
       "      <td>28 December 1994</td>\n",
       "      <td>28</td>\n",
       "      <td>2</td>\n",
       "      <td>2013</td>\n",
       "      <td>1994</td>\n",
       "      <td>Gen. Y (Millenials)</td>\n",
       "    </tr>\n",
       "    <tr>\n",
       "      <th>4798</th>\n",
       "      <td>8336</td>\n",
       "      <td>3312143112940008</td>\n",
       "      <td>2013-12-11</td>\n",
       "      <td>Dairy</td>\n",
       "      <td>Dairy Person</td>\n",
       "      <td>STORES</td>\n",
       "      <td>JAWA TENGAH</td>\n",
       "      <td>KAB. WONOGIRI</td>\n",
       "      <td>Sidoharjo</td>\n",
       "      <td>Male</td>\n",
       "      <td>1994-12-31</td>\n",
       "      <td>31 December 1994</td>\n",
       "      <td>28</td>\n",
       "      <td>8</td>\n",
       "      <td>2013</td>\n",
       "      <td>1994</td>\n",
       "      <td>Gen. Y (Millenials)</td>\n",
       "    </tr>\n",
       "  </tbody>\n",
       "</table>\n",
       "<p>803 rows × 17 columns</p>\n",
       "</div>"
      ],
      "text/plain": [
       "     EmployeeID               NIK orighiredate_key   department_name  \\\n",
       "3996       7364  6202015907870014       2010-01-04  Customer Service   \n",
       "3997       7365  7604011907870011       2010-01-04   Processed Foods   \n",
       "3998       7366  1809086107870003       2010-01-05   Processed Foods   \n",
       "3999       7367  6309092107870014       2010-01-05  Customer Service   \n",
       "4000       7368  3602166907870017       2010-01-09   Processed Foods   \n",
       "...         ...               ...              ...               ...   \n",
       "4794       8332  5314086012940001       2013-12-05  Customer Service   \n",
       "4795       8333  3306091912940014       2013-12-05  Customer Service   \n",
       "4796       8334  8108106712940019       2013-12-09  Customer Service   \n",
       "4797       8335  3601026812940002       2013-12-10             Dairy   \n",
       "4798       8336  3312143112940008       2013-12-11             Dairy   \n",
       "\n",
       "          job_title BUSINESS_UNIT             province  \\\n",
       "3996        Cashier        STORES    KALIMANTAN TENGAH   \n",
       "3997  Shelf Stocker        STORES       SULAWESI BARAT   \n",
       "3998  Shelf Stocker        STORES              LAMPUNG   \n",
       "3999        Cashier        STORES   KALIMANTAN SELATAN   \n",
       "4000  Shelf Stocker        STORES               BANTEN   \n",
       "...             ...           ...                  ...   \n",
       "4794        Cashier        STORES  NUSA TENGGARA TIMUR   \n",
       "4795        Cashier        STORES          JAWA TENGAH   \n",
       "4796        Cashier        STORES               MALUKU   \n",
       "4797   Dairy Person        STORES               BANTEN   \n",
       "4798   Dairy Person        STORES          JAWA TENGAH   \n",
       "\n",
       "                         city        district  gender birth_datetime  \\\n",
       "3996  KAB. KOTAWARINGIN TIMUR       Kota Besi  Female     1987-07-19   \n",
       "3997     KAB. POLEWALI MANDAR       Tinambung    Male     1987-07-19   \n",
       "3998           KAB. PESAWARAN    Marga Punduh  Female     1987-07-21   \n",
       "3999            KAB. TABALONG          Pugaan    Male     1987-07-21   \n",
       "4000               KAB. LEBAK          Cijaku  Female     1987-07-29   \n",
       "...                       ...             ...     ...            ...   \n",
       "4794           KAB. ROTE NDAO    Rote Selatan  Female     1994-12-20   \n",
       "4795           KAB. PURWOREJO        Kutoarjo    Male     1994-12-19   \n",
       "4796   KAB. MALUKU BARAT DAYA  Dawelor Dawera  Female     1994-12-27   \n",
       "4797          KAB. PANDEGLANG        Cimanggu  Female     1994-12-28   \n",
       "4798            KAB. WONOGIRI       Sidoharjo    Male     1994-12-31   \n",
       "\n",
       "              birthday  age  regist_code  join_year  birth_year  \\\n",
       "3996      19 July 1987   36           14       2010        1987   \n",
       "3997      19 July 1987   36           11       2010        1987   \n",
       "3998      21 July 1987   36            3       2010        1987   \n",
       "3999      21 July 1987   36           14       2010        1987   \n",
       "4000      29 July 1987   36           17       2010        1987   \n",
       "...                ...  ...          ...        ...         ...   \n",
       "4794  20 December 1994   28            1       2013        1994   \n",
       "4795  19 December 1994   28           14       2013        1994   \n",
       "4796  27 December 1994   28           19       2013        1994   \n",
       "4797  28 December 1994   28            2       2013        1994   \n",
       "4798  31 December 1994   28            8       2013        1994   \n",
       "\n",
       "               generation  \n",
       "3996  Gen. Y (Millenials)  \n",
       "3997  Gen. Y (Millenials)  \n",
       "3998  Gen. Y (Millenials)  \n",
       "3999  Gen. Y (Millenials)  \n",
       "4000  Gen. Y (Millenials)  \n",
       "...                   ...  \n",
       "4794  Gen. Y (Millenials)  \n",
       "4795  Gen. Y (Millenials)  \n",
       "4796  Gen. Y (Millenials)  \n",
       "4797  Gen. Y (Millenials)  \n",
       "4798  Gen. Y (Millenials)  \n",
       "\n",
       "[803 rows x 17 columns]"
      ]
     },
     "execution_count": 56,
     "metadata": {},
     "output_type": "execute_result"
    }
   ],
   "source": [
    "# code here\n",
    "employ_merge[employ_merge['join_year'] >= 2010]"
   ]
  },
  {
   "cell_type": "markdown",
   "metadata": {},
   "source": [
    "**Task 3:** Tampilkan data pegawai yang berasal dari generasi selain Boomers!"
   ]
  },
  {
   "cell_type": "code",
   "execution_count": 57,
   "metadata": {},
   "outputs": [
    {
     "data": {
      "text/html": [
       "<div>\n",
       "<style scoped>\n",
       "    .dataframe tbody tr th:only-of-type {\n",
       "        vertical-align: middle;\n",
       "    }\n",
       "\n",
       "    .dataframe tbody tr th {\n",
       "        vertical-align: top;\n",
       "    }\n",
       "\n",
       "    .dataframe thead th {\n",
       "        text-align: right;\n",
       "    }\n",
       "</style>\n",
       "<table border=\"1\" class=\"dataframe\">\n",
       "  <thead>\n",
       "    <tr style=\"text-align: right;\">\n",
       "      <th></th>\n",
       "      <th>EmployeeID</th>\n",
       "      <th>NIK</th>\n",
       "      <th>orighiredate_key</th>\n",
       "      <th>department_name</th>\n",
       "      <th>job_title</th>\n",
       "      <th>BUSINESS_UNIT</th>\n",
       "      <th>province</th>\n",
       "      <th>city</th>\n",
       "      <th>district</th>\n",
       "      <th>gender</th>\n",
       "      <th>birth_datetime</th>\n",
       "      <th>birthday</th>\n",
       "      <th>age</th>\n",
       "      <th>regist_code</th>\n",
       "      <th>join_year</th>\n",
       "      <th>birth_year</th>\n",
       "      <th>generation</th>\n",
       "    </tr>\n",
       "  </thead>\n",
       "  <tbody>\n",
       "    <tr>\n",
       "      <th>8</th>\n",
       "      <td>1329</td>\n",
       "      <td>5204066301670007</td>\n",
       "      <td>1989-09-08</td>\n",
       "      <td>Store Management</td>\n",
       "      <td>Store Manager</td>\n",
       "      <td>STORES</td>\n",
       "      <td>NUSA TENGGARA BARAT</td>\n",
       "      <td>KAB. SUMBAWA</td>\n",
       "      <td>Utan</td>\n",
       "      <td>Female</td>\n",
       "      <td>1967-01-23</td>\n",
       "      <td>23 January 1967</td>\n",
       "      <td>56</td>\n",
       "      <td>7</td>\n",
       "      <td>1989</td>\n",
       "      <td>1967</td>\n",
       "      <td>Gen. X</td>\n",
       "    </tr>\n",
       "    <tr>\n",
       "      <th>9</th>\n",
       "      <td>1330</td>\n",
       "      <td>8101066501670017</td>\n",
       "      <td>1989-09-09</td>\n",
       "      <td>Meats</td>\n",
       "      <td>Meats Manager</td>\n",
       "      <td>STORES</td>\n",
       "      <td>MALUKU</td>\n",
       "      <td>KAB. MALUKU TENGAH</td>\n",
       "      <td>Seram Utara</td>\n",
       "      <td>Female</td>\n",
       "      <td>1967-01-25</td>\n",
       "      <td>25 January 1967</td>\n",
       "      <td>56</td>\n",
       "      <td>17</td>\n",
       "      <td>1989</td>\n",
       "      <td>1967</td>\n",
       "      <td>Gen. X</td>\n",
       "    </tr>\n",
       "    <tr>\n",
       "      <th>10</th>\n",
       "      <td>1331</td>\n",
       "      <td>7322146801650005</td>\n",
       "      <td>1989-09-10</td>\n",
       "      <td>Store Management</td>\n",
       "      <td>Store Manager</td>\n",
       "      <td>STORES</td>\n",
       "      <td>SULAWESI SELATAN</td>\n",
       "      <td>KAB. LUWU UTARA</td>\n",
       "      <td>Baebunta Selatan</td>\n",
       "      <td>Female</td>\n",
       "      <td>1965-01-28</td>\n",
       "      <td>28 January 1965</td>\n",
       "      <td>58</td>\n",
       "      <td>5</td>\n",
       "      <td>1989</td>\n",
       "      <td>1965</td>\n",
       "      <td>Gen. X</td>\n",
       "    </tr>\n",
       "    <tr>\n",
       "      <th>1574</th>\n",
       "      <td>4312</td>\n",
       "      <td>1609120601650006</td>\n",
       "      <td>1998-02-10</td>\n",
       "      <td>Customer Service</td>\n",
       "      <td>Cashier</td>\n",
       "      <td>STORES</td>\n",
       "      <td>SUMATERA SELATAN</td>\n",
       "      <td>KAB. OGAN KOMERING ULUSELATAN</td>\n",
       "      <td>Buay Pematang Ribu Ranau Tengah</td>\n",
       "      <td>Male</td>\n",
       "      <td>1965-01-06</td>\n",
       "      <td>06 January 1965</td>\n",
       "      <td>58</td>\n",
       "      <td>6</td>\n",
       "      <td>1998</td>\n",
       "      <td>1965</td>\n",
       "      <td>Gen. X</td>\n",
       "    </tr>\n",
       "    <tr>\n",
       "      <th>1575</th>\n",
       "      <td>4313</td>\n",
       "      <td>1404085101650008</td>\n",
       "      <td>1998-02-12</td>\n",
       "      <td>Produce</td>\n",
       "      <td>Produce Clerk</td>\n",
       "      <td>STORES</td>\n",
       "      <td>RIAU</td>\n",
       "      <td>KAB. INDRAGIRI HILIR</td>\n",
       "      <td>Kateman</td>\n",
       "      <td>Female</td>\n",
       "      <td>1965-01-11</td>\n",
       "      <td>11 January 1965</td>\n",
       "      <td>58</td>\n",
       "      <td>8</td>\n",
       "      <td>1998</td>\n",
       "      <td>1965</td>\n",
       "      <td>Gen. X</td>\n",
       "    </tr>\n",
       "    <tr>\n",
       "      <th>...</th>\n",
       "      <td>...</td>\n",
       "      <td>...</td>\n",
       "      <td>...</td>\n",
       "      <td>...</td>\n",
       "      <td>...</td>\n",
       "      <td>...</td>\n",
       "      <td>...</td>\n",
       "      <td>...</td>\n",
       "      <td>...</td>\n",
       "      <td>...</td>\n",
       "      <td>...</td>\n",
       "      <td>...</td>\n",
       "      <td>...</td>\n",
       "      <td>...</td>\n",
       "      <td>...</td>\n",
       "      <td>...</td>\n",
       "      <td>...</td>\n",
       "    </tr>\n",
       "    <tr>\n",
       "      <th>4794</th>\n",
       "      <td>8332</td>\n",
       "      <td>5314086012940001</td>\n",
       "      <td>2013-12-05</td>\n",
       "      <td>Customer Service</td>\n",
       "      <td>Cashier</td>\n",
       "      <td>STORES</td>\n",
       "      <td>NUSA TENGGARA TIMUR</td>\n",
       "      <td>KAB. ROTE NDAO</td>\n",
       "      <td>Rote Selatan</td>\n",
       "      <td>Female</td>\n",
       "      <td>1994-12-20</td>\n",
       "      <td>20 December 1994</td>\n",
       "      <td>28</td>\n",
       "      <td>1</td>\n",
       "      <td>2013</td>\n",
       "      <td>1994</td>\n",
       "      <td>Gen. Y (Millenials)</td>\n",
       "    </tr>\n",
       "    <tr>\n",
       "      <th>4795</th>\n",
       "      <td>8333</td>\n",
       "      <td>3306091912940014</td>\n",
       "      <td>2013-12-05</td>\n",
       "      <td>Customer Service</td>\n",
       "      <td>Cashier</td>\n",
       "      <td>STORES</td>\n",
       "      <td>JAWA TENGAH</td>\n",
       "      <td>KAB. PURWOREJO</td>\n",
       "      <td>Kutoarjo</td>\n",
       "      <td>Male</td>\n",
       "      <td>1994-12-19</td>\n",
       "      <td>19 December 1994</td>\n",
       "      <td>28</td>\n",
       "      <td>14</td>\n",
       "      <td>2013</td>\n",
       "      <td>1994</td>\n",
       "      <td>Gen. Y (Millenials)</td>\n",
       "    </tr>\n",
       "    <tr>\n",
       "      <th>4796</th>\n",
       "      <td>8334</td>\n",
       "      <td>8108106712940019</td>\n",
       "      <td>2013-12-09</td>\n",
       "      <td>Customer Service</td>\n",
       "      <td>Cashier</td>\n",
       "      <td>STORES</td>\n",
       "      <td>MALUKU</td>\n",
       "      <td>KAB. MALUKU BARAT DAYA</td>\n",
       "      <td>Dawelor Dawera</td>\n",
       "      <td>Female</td>\n",
       "      <td>1994-12-27</td>\n",
       "      <td>27 December 1994</td>\n",
       "      <td>28</td>\n",
       "      <td>19</td>\n",
       "      <td>2013</td>\n",
       "      <td>1994</td>\n",
       "      <td>Gen. Y (Millenials)</td>\n",
       "    </tr>\n",
       "    <tr>\n",
       "      <th>4797</th>\n",
       "      <td>8335</td>\n",
       "      <td>3601026812940002</td>\n",
       "      <td>2013-12-10</td>\n",
       "      <td>Dairy</td>\n",
       "      <td>Dairy Person</td>\n",
       "      <td>STORES</td>\n",
       "      <td>BANTEN</td>\n",
       "      <td>KAB. PANDEGLANG</td>\n",
       "      <td>Cimanggu</td>\n",
       "      <td>Female</td>\n",
       "      <td>1994-12-28</td>\n",
       "      <td>28 December 1994</td>\n",
       "      <td>28</td>\n",
       "      <td>2</td>\n",
       "      <td>2013</td>\n",
       "      <td>1994</td>\n",
       "      <td>Gen. Y (Millenials)</td>\n",
       "    </tr>\n",
       "    <tr>\n",
       "      <th>4798</th>\n",
       "      <td>8336</td>\n",
       "      <td>3312143112940008</td>\n",
       "      <td>2013-12-11</td>\n",
       "      <td>Dairy</td>\n",
       "      <td>Dairy Person</td>\n",
       "      <td>STORES</td>\n",
       "      <td>JAWA TENGAH</td>\n",
       "      <td>KAB. WONOGIRI</td>\n",
       "      <td>Sidoharjo</td>\n",
       "      <td>Male</td>\n",
       "      <td>1994-12-31</td>\n",
       "      <td>31 December 1994</td>\n",
       "      <td>28</td>\n",
       "      <td>8</td>\n",
       "      <td>2013</td>\n",
       "      <td>1994</td>\n",
       "      <td>Gen. Y (Millenials)</td>\n",
       "    </tr>\n",
       "  </tbody>\n",
       "</table>\n",
       "<p>3228 rows × 17 columns</p>\n",
       "</div>"
      ],
      "text/plain": [
       "     EmployeeID               NIK orighiredate_key   department_name  \\\n",
       "8          1329  5204066301670007       1989-09-08  Store Management   \n",
       "9          1330  8101066501670017       1989-09-09             Meats   \n",
       "10         1331  7322146801650005       1989-09-10  Store Management   \n",
       "1574       4312  1609120601650006       1998-02-10  Customer Service   \n",
       "1575       4313  1404085101650008       1998-02-12           Produce   \n",
       "...         ...               ...              ...               ...   \n",
       "4794       8332  5314086012940001       2013-12-05  Customer Service   \n",
       "4795       8333  3306091912940014       2013-12-05  Customer Service   \n",
       "4796       8334  8108106712940019       2013-12-09  Customer Service   \n",
       "4797       8335  3601026812940002       2013-12-10             Dairy   \n",
       "4798       8336  3312143112940008       2013-12-11             Dairy   \n",
       "\n",
       "          job_title BUSINESS_UNIT             province  \\\n",
       "8     Store Manager        STORES  NUSA TENGGARA BARAT   \n",
       "9     Meats Manager        STORES               MALUKU   \n",
       "10    Store Manager        STORES     SULAWESI SELATAN   \n",
       "1574        Cashier        STORES     SUMATERA SELATAN   \n",
       "1575  Produce Clerk        STORES                 RIAU   \n",
       "...             ...           ...                  ...   \n",
       "4794        Cashier        STORES  NUSA TENGGARA TIMUR   \n",
       "4795        Cashier        STORES          JAWA TENGAH   \n",
       "4796        Cashier        STORES               MALUKU   \n",
       "4797   Dairy Person        STORES               BANTEN   \n",
       "4798   Dairy Person        STORES          JAWA TENGAH   \n",
       "\n",
       "                               city                         district  gender  \\\n",
       "8                      KAB. SUMBAWA                             Utan  Female   \n",
       "9                KAB. MALUKU TENGAH                      Seram Utara  Female   \n",
       "10                  KAB. LUWU UTARA                 Baebunta Selatan  Female   \n",
       "1574  KAB. OGAN KOMERING ULUSELATAN  Buay Pematang Ribu Ranau Tengah    Male   \n",
       "1575           KAB. INDRAGIRI HILIR                          Kateman  Female   \n",
       "...                             ...                              ...     ...   \n",
       "4794                 KAB. ROTE NDAO                     Rote Selatan  Female   \n",
       "4795                 KAB. PURWOREJO                         Kutoarjo    Male   \n",
       "4796         KAB. MALUKU BARAT DAYA                   Dawelor Dawera  Female   \n",
       "4797                KAB. PANDEGLANG                         Cimanggu  Female   \n",
       "4798                  KAB. WONOGIRI                        Sidoharjo    Male   \n",
       "\n",
       "     birth_datetime          birthday  age  regist_code  join_year  \\\n",
       "8        1967-01-23   23 January 1967   56            7       1989   \n",
       "9        1967-01-25   25 January 1967   56           17       1989   \n",
       "10       1965-01-28   28 January 1965   58            5       1989   \n",
       "1574     1965-01-06   06 January 1965   58            6       1998   \n",
       "1575     1965-01-11   11 January 1965   58            8       1998   \n",
       "...             ...               ...  ...          ...        ...   \n",
       "4794     1994-12-20  20 December 1994   28            1       2013   \n",
       "4795     1994-12-19  19 December 1994   28           14       2013   \n",
       "4796     1994-12-27  27 December 1994   28           19       2013   \n",
       "4797     1994-12-28  28 December 1994   28            2       2013   \n",
       "4798     1994-12-31  31 December 1994   28            8       2013   \n",
       "\n",
       "      birth_year           generation  \n",
       "8           1967               Gen. X  \n",
       "9           1967               Gen. X  \n",
       "10          1965               Gen. X  \n",
       "1574        1965               Gen. X  \n",
       "1575        1965               Gen. X  \n",
       "...          ...                  ...  \n",
       "4794        1994  Gen. Y (Millenials)  \n",
       "4795        1994  Gen. Y (Millenials)  \n",
       "4796        1994  Gen. Y (Millenials)  \n",
       "4797        1994  Gen. Y (Millenials)  \n",
       "4798        1994  Gen. Y (Millenials)  \n",
       "\n",
       "[3228 rows x 17 columns]"
      ]
     },
     "execution_count": 57,
     "metadata": {},
     "output_type": "execute_result"
    }
   ],
   "source": [
    "# code here\n",
    "employ_merge[employ_merge['generation'] != 'Boomers']"
   ]
  },
  {
   "cell_type": "markdown",
   "metadata": {},
   "source": [
    "**Business Question**: Bagian HR ingin meninjau pegawai dari departemen 'Customer Service'. Tampilkanlah data yang sesuai! "
   ]
  },
  {
   "cell_type": "code",
   "execution_count": 58,
   "metadata": {},
   "outputs": [],
   "source": [
    "# code here\n",
    "employ_cs = employ_merge[employ_merge['department_name'] == 'Customer Service']"
   ]
  },
  {
   "cell_type": "markdown",
   "metadata": {},
   "source": [
    "### Multiple Conditions\n",
    "\n",
    "Kita juga dapat menggunakan operator `&` (AND) dan `|` (OR) untuk melakukan subsetting lebih dari 1 kondisi. Misalnya kita ingin melihat data penjualan dari seorang pegawai bernama Elsa yang jumlahnya lebih dari 5000, maka kita dapat menggunakan syntax:\n",
    "```\n",
    "sales[(sales.salesperson == 'Elsa') & (sales.amount > 5000)]\n",
    "```\n",
    "\n",
    "Untuk subsetting dengan kondisi lebih dari 1, setiap kondisi diletakkan **di dalam tanda kurung `()`** atau bisa ditulis dengan syntax berikut:\n",
    "\n",
    "```\n",
    "df[(kondisi pertama) operator (kondisi kedua) operator (kondisi ketiga) dan seterusnya...]\n",
    "```\n",
    "\n",
    "**Poin:**\n",
    "- Operator AND: harus semua kondisi terpenuhi dalam satu baris agar muncul\n",
    "- Operator OR: salah satu kondisi saja sudah terpenuhi maka baris tsb muncul"
   ]
  },
  {
   "cell_type": "markdown",
   "metadata": {},
   "source": [
    "**Contoh sederhana penggunaan OR dan AND**"
   ]
  },
  {
   "cell_type": "code",
   "execution_count": 59,
   "metadata": {},
   "outputs": [
    {
     "data": {
      "text/html": [
       "<div>\n",
       "<style scoped>\n",
       "    .dataframe tbody tr th:only-of-type {\n",
       "        vertical-align: middle;\n",
       "    }\n",
       "\n",
       "    .dataframe tbody tr th {\n",
       "        vertical-align: top;\n",
       "    }\n",
       "\n",
       "    .dataframe thead th {\n",
       "        text-align: right;\n",
       "    }\n",
       "</style>\n",
       "<table border=\"1\" class=\"dataframe\">\n",
       "  <thead>\n",
       "    <tr style=\"text-align: right;\">\n",
       "      <th></th>\n",
       "      <th>angka</th>\n",
       "      <th>huruf</th>\n",
       "    </tr>\n",
       "  </thead>\n",
       "  <tbody>\n",
       "    <tr>\n",
       "      <th>0</th>\n",
       "      <td>1</td>\n",
       "      <td>a</td>\n",
       "    </tr>\n",
       "    <tr>\n",
       "      <th>1</th>\n",
       "      <td>2</td>\n",
       "      <td>b</td>\n",
       "    </tr>\n",
       "    <tr>\n",
       "      <th>2</th>\n",
       "      <td>3</td>\n",
       "      <td>c</td>\n",
       "    </tr>\n",
       "  </tbody>\n",
       "</table>\n",
       "</div>"
      ],
      "text/plain": [
       "   angka huruf\n",
       "0      1     a\n",
       "1      2     b\n",
       "2      3     c"
      ]
     },
     "execution_count": 59,
     "metadata": {},
     "output_type": "execute_result"
    }
   ],
   "source": [
    "df = pd.DataFrame({\n",
    "    'angka': [1,2,3],\n",
    "    'huruf': ['a','b','c']\n",
    "})\n",
    "df"
   ]
  },
  {
   "cell_type": "markdown",
   "metadata": {},
   "source": [
    "**OPERATOR AND**"
   ]
  },
  {
   "cell_type": "markdown",
   "metadata": {},
   "source": [
    "Menampilkan baris dengan `angka` 1 dan `huruf` a"
   ]
  },
  {
   "cell_type": "code",
   "execution_count": 60,
   "metadata": {},
   "outputs": [
    {
     "data": {
      "text/html": [
       "<div>\n",
       "<style scoped>\n",
       "    .dataframe tbody tr th:only-of-type {\n",
       "        vertical-align: middle;\n",
       "    }\n",
       "\n",
       "    .dataframe tbody tr th {\n",
       "        vertical-align: top;\n",
       "    }\n",
       "\n",
       "    .dataframe thead th {\n",
       "        text-align: right;\n",
       "    }\n",
       "</style>\n",
       "<table border=\"1\" class=\"dataframe\">\n",
       "  <thead>\n",
       "    <tr style=\"text-align: right;\">\n",
       "      <th></th>\n",
       "      <th>angka</th>\n",
       "      <th>huruf</th>\n",
       "    </tr>\n",
       "  </thead>\n",
       "  <tbody>\n",
       "    <tr>\n",
       "      <th>0</th>\n",
       "      <td>1</td>\n",
       "      <td>a</td>\n",
       "    </tr>\n",
       "  </tbody>\n",
       "</table>\n",
       "</div>"
      ],
      "text/plain": [
       "   angka huruf\n",
       "0      1     a"
      ]
     },
     "execution_count": 60,
     "metadata": {},
     "output_type": "execute_result"
    }
   ],
   "source": [
    "#code here\n",
    "df[(df['angka'] == 1) & (df['huruf'] == 'a')]"
   ]
  },
  {
   "cell_type": "markdown",
   "metadata": {},
   "source": [
    "Menampilkan baris dengan `angka` 1 dan `huruf` b"
   ]
  },
  {
   "cell_type": "code",
   "execution_count": 61,
   "metadata": {},
   "outputs": [
    {
     "data": {
      "text/html": [
       "<div>\n",
       "<style scoped>\n",
       "    .dataframe tbody tr th:only-of-type {\n",
       "        vertical-align: middle;\n",
       "    }\n",
       "\n",
       "    .dataframe tbody tr th {\n",
       "        vertical-align: top;\n",
       "    }\n",
       "\n",
       "    .dataframe thead th {\n",
       "        text-align: right;\n",
       "    }\n",
       "</style>\n",
       "<table border=\"1\" class=\"dataframe\">\n",
       "  <thead>\n",
       "    <tr style=\"text-align: right;\">\n",
       "      <th></th>\n",
       "      <th>angka</th>\n",
       "      <th>huruf</th>\n",
       "    </tr>\n",
       "  </thead>\n",
       "  <tbody>\n",
       "  </tbody>\n",
       "</table>\n",
       "</div>"
      ],
      "text/plain": [
       "Empty DataFrame\n",
       "Columns: [angka, huruf]\n",
       "Index: []"
      ]
     },
     "execution_count": 61,
     "metadata": {},
     "output_type": "execute_result"
    }
   ],
   "source": [
    "#code here\n",
    "df[(df['angka'] == 1) & (df['huruf'] == 'b')]"
   ]
  },
  {
   "cell_type": "markdown",
   "metadata": {},
   "source": [
    "**OPERATOR OR**"
   ]
  },
  {
   "cell_type": "markdown",
   "metadata": {},
   "source": [
    "Menampilkan baris dengan `angka` 1 atau `huruf` b"
   ]
  },
  {
   "cell_type": "code",
   "execution_count": 62,
   "metadata": {},
   "outputs": [
    {
     "data": {
      "text/html": [
       "<div>\n",
       "<style scoped>\n",
       "    .dataframe tbody tr th:only-of-type {\n",
       "        vertical-align: middle;\n",
       "    }\n",
       "\n",
       "    .dataframe tbody tr th {\n",
       "        vertical-align: top;\n",
       "    }\n",
       "\n",
       "    .dataframe thead th {\n",
       "        text-align: right;\n",
       "    }\n",
       "</style>\n",
       "<table border=\"1\" class=\"dataframe\">\n",
       "  <thead>\n",
       "    <tr style=\"text-align: right;\">\n",
       "      <th></th>\n",
       "      <th>angka</th>\n",
       "      <th>huruf</th>\n",
       "    </tr>\n",
       "  </thead>\n",
       "  <tbody>\n",
       "    <tr>\n",
       "      <th>0</th>\n",
       "      <td>1</td>\n",
       "      <td>a</td>\n",
       "    </tr>\n",
       "    <tr>\n",
       "      <th>1</th>\n",
       "      <td>2</td>\n",
       "      <td>b</td>\n",
       "    </tr>\n",
       "  </tbody>\n",
       "</table>\n",
       "</div>"
      ],
      "text/plain": [
       "   angka huruf\n",
       "0      1     a\n",
       "1      2     b"
      ]
     },
     "execution_count": 62,
     "metadata": {},
     "output_type": "execute_result"
    }
   ],
   "source": [
    "#code here\n",
    "df[(df['angka'] == 1) | (df['huruf'] == 'b')]"
   ]
  },
  {
   "cell_type": "markdown",
   "metadata": {},
   "source": [
    "**Task 1**: Ambil data pegawai wanita yang berusia di bawah 30 tahun!"
   ]
  },
  {
   "cell_type": "code",
   "execution_count": 63,
   "metadata": {},
   "outputs": [
    {
     "data": {
      "text/html": [
       "<div>\n",
       "<style scoped>\n",
       "    .dataframe tbody tr th:only-of-type {\n",
       "        vertical-align: middle;\n",
       "    }\n",
       "\n",
       "    .dataframe tbody tr th {\n",
       "        vertical-align: top;\n",
       "    }\n",
       "\n",
       "    .dataframe thead th {\n",
       "        text-align: right;\n",
       "    }\n",
       "</style>\n",
       "<table border=\"1\" class=\"dataframe\">\n",
       "  <thead>\n",
       "    <tr style=\"text-align: right;\">\n",
       "      <th></th>\n",
       "      <th>EmployeeID</th>\n",
       "      <th>NIK</th>\n",
       "      <th>orighiredate_key</th>\n",
       "      <th>department_name</th>\n",
       "      <th>job_title</th>\n",
       "      <th>BUSINESS_UNIT</th>\n",
       "      <th>province</th>\n",
       "      <th>city</th>\n",
       "      <th>district</th>\n",
       "      <th>gender</th>\n",
       "      <th>birth_datetime</th>\n",
       "      <th>birthday</th>\n",
       "      <th>age</th>\n",
       "      <th>regist_code</th>\n",
       "      <th>join_year</th>\n",
       "      <th>birth_year</th>\n",
       "      <th>generation</th>\n",
       "    </tr>\n",
       "  </thead>\n",
       "  <tbody>\n",
       "    <tr>\n",
       "      <th>4675</th>\n",
       "      <td>8204</td>\n",
       "      <td>1171066811930001</td>\n",
       "      <td>2013-05-15</td>\n",
       "      <td>Customer Service</td>\n",
       "      <td>Cashier</td>\n",
       "      <td>STORES</td>\n",
       "      <td>ACEH</td>\n",
       "      <td>KOTA BANDA ACEH</td>\n",
       "      <td>Kuta Raja</td>\n",
       "      <td>Female</td>\n",
       "      <td>1993-11-28</td>\n",
       "      <td>28 November 1993</td>\n",
       "      <td>29</td>\n",
       "      <td>1</td>\n",
       "      <td>2013</td>\n",
       "      <td>1993</td>\n",
       "      <td>Gen. Y (Millenials)</td>\n",
       "    </tr>\n",
       "    <tr>\n",
       "      <th>4676</th>\n",
       "      <td>8205</td>\n",
       "      <td>1605026911930018</td>\n",
       "      <td>2013-05-16</td>\n",
       "      <td>Customer Service</td>\n",
       "      <td>Cashier</td>\n",
       "      <td>STORES</td>\n",
       "      <td>SUMATERA SELATAN</td>\n",
       "      <td>KAB. MUSI RAWAS</td>\n",
       "      <td>Muara Lakitan</td>\n",
       "      <td>Female</td>\n",
       "      <td>1993-11-29</td>\n",
       "      <td>29 November 1993</td>\n",
       "      <td>29</td>\n",
       "      <td>18</td>\n",
       "      <td>2013</td>\n",
       "      <td>1993</td>\n",
       "      <td>Gen. Y (Millenials)</td>\n",
       "    </tr>\n",
       "    <tr>\n",
       "      <th>4677</th>\n",
       "      <td>8206</td>\n",
       "      <td>3206187011930013</td>\n",
       "      <td>2013-05-16</td>\n",
       "      <td>Customer Service</td>\n",
       "      <td>Cashier</td>\n",
       "      <td>STORES</td>\n",
       "      <td>JAWA BARAT</td>\n",
       "      <td>KAB. TASIKMALAYA</td>\n",
       "      <td>Salopa</td>\n",
       "      <td>Female</td>\n",
       "      <td>1993-11-30</td>\n",
       "      <td>30 November 1993</td>\n",
       "      <td>29</td>\n",
       "      <td>13</td>\n",
       "      <td>2013</td>\n",
       "      <td>1993</td>\n",
       "      <td>Gen. Y (Millenials)</td>\n",
       "    </tr>\n",
       "    <tr>\n",
       "      <th>4680</th>\n",
       "      <td>8209</td>\n",
       "      <td>5204295112930005</td>\n",
       "      <td>2013-05-22</td>\n",
       "      <td>Customer Service</td>\n",
       "      <td>Cashier</td>\n",
       "      <td>STORES</td>\n",
       "      <td>NUSA TENGGARA BARAT</td>\n",
       "      <td>KAB. SUMBAWA</td>\n",
       "      <td>Lantung</td>\n",
       "      <td>Female</td>\n",
       "      <td>1993-12-11</td>\n",
       "      <td>11 December 1993</td>\n",
       "      <td>29</td>\n",
       "      <td>5</td>\n",
       "      <td>2013</td>\n",
       "      <td>1993</td>\n",
       "      <td>Gen. Y (Millenials)</td>\n",
       "    </tr>\n",
       "    <tr>\n",
       "      <th>4681</th>\n",
       "      <td>8210</td>\n",
       "      <td>7504045512930005</td>\n",
       "      <td>2013-05-24</td>\n",
       "      <td>Customer Service</td>\n",
       "      <td>Cashier</td>\n",
       "      <td>STORES</td>\n",
       "      <td>GORONTALO</td>\n",
       "      <td>KAB. PAHUWATO</td>\n",
       "      <td>Marisa</td>\n",
       "      <td>Female</td>\n",
       "      <td>1993-12-15</td>\n",
       "      <td>15 December 1993</td>\n",
       "      <td>29</td>\n",
       "      <td>5</td>\n",
       "      <td>2013</td>\n",
       "      <td>1993</td>\n",
       "      <td>Gen. Y (Millenials)</td>\n",
       "    </tr>\n",
       "    <tr>\n",
       "      <th>...</th>\n",
       "      <td>...</td>\n",
       "      <td>...</td>\n",
       "      <td>...</td>\n",
       "      <td>...</td>\n",
       "      <td>...</td>\n",
       "      <td>...</td>\n",
       "      <td>...</td>\n",
       "      <td>...</td>\n",
       "      <td>...</td>\n",
       "      <td>...</td>\n",
       "      <td>...</td>\n",
       "      <td>...</td>\n",
       "      <td>...</td>\n",
       "      <td>...</td>\n",
       "      <td>...</td>\n",
       "      <td>...</td>\n",
       "      <td>...</td>\n",
       "    </tr>\n",
       "    <tr>\n",
       "      <th>4791</th>\n",
       "      <td>8329</td>\n",
       "      <td>1611035412940002</td>\n",
       "      <td>2013-12-02</td>\n",
       "      <td>Customer Service</td>\n",
       "      <td>Cashier</td>\n",
       "      <td>STORES</td>\n",
       "      <td>SUMATERA SELATAN</td>\n",
       "      <td>KAB. EMPAT LAWANG</td>\n",
       "      <td>Ulu Musi</td>\n",
       "      <td>Female</td>\n",
       "      <td>1994-12-14</td>\n",
       "      <td>14 December 1994</td>\n",
       "      <td>28</td>\n",
       "      <td>2</td>\n",
       "      <td>2013</td>\n",
       "      <td>1994</td>\n",
       "      <td>Gen. Y (Millenials)</td>\n",
       "    </tr>\n",
       "    <tr>\n",
       "      <th>4793</th>\n",
       "      <td>8331</td>\n",
       "      <td>7105175612940011</td>\n",
       "      <td>2013-12-03</td>\n",
       "      <td>Dairy</td>\n",
       "      <td>Dairy Person</td>\n",
       "      <td>STORES</td>\n",
       "      <td>SULAWESI UTARA</td>\n",
       "      <td>KAB. MINAHASA SELATAN</td>\n",
       "      <td>Amurang Barat</td>\n",
       "      <td>Female</td>\n",
       "      <td>1994-12-16</td>\n",
       "      <td>16 December 1994</td>\n",
       "      <td>28</td>\n",
       "      <td>11</td>\n",
       "      <td>2013</td>\n",
       "      <td>1994</td>\n",
       "      <td>Gen. Y (Millenials)</td>\n",
       "    </tr>\n",
       "    <tr>\n",
       "      <th>4794</th>\n",
       "      <td>8332</td>\n",
       "      <td>5314086012940001</td>\n",
       "      <td>2013-12-05</td>\n",
       "      <td>Customer Service</td>\n",
       "      <td>Cashier</td>\n",
       "      <td>STORES</td>\n",
       "      <td>NUSA TENGGARA TIMUR</td>\n",
       "      <td>KAB. ROTE NDAO</td>\n",
       "      <td>Rote Selatan</td>\n",
       "      <td>Female</td>\n",
       "      <td>1994-12-20</td>\n",
       "      <td>20 December 1994</td>\n",
       "      <td>28</td>\n",
       "      <td>1</td>\n",
       "      <td>2013</td>\n",
       "      <td>1994</td>\n",
       "      <td>Gen. Y (Millenials)</td>\n",
       "    </tr>\n",
       "    <tr>\n",
       "      <th>4796</th>\n",
       "      <td>8334</td>\n",
       "      <td>8108106712940019</td>\n",
       "      <td>2013-12-09</td>\n",
       "      <td>Customer Service</td>\n",
       "      <td>Cashier</td>\n",
       "      <td>STORES</td>\n",
       "      <td>MALUKU</td>\n",
       "      <td>KAB. MALUKU BARAT DAYA</td>\n",
       "      <td>Dawelor Dawera</td>\n",
       "      <td>Female</td>\n",
       "      <td>1994-12-27</td>\n",
       "      <td>27 December 1994</td>\n",
       "      <td>28</td>\n",
       "      <td>19</td>\n",
       "      <td>2013</td>\n",
       "      <td>1994</td>\n",
       "      <td>Gen. Y (Millenials)</td>\n",
       "    </tr>\n",
       "    <tr>\n",
       "      <th>4797</th>\n",
       "      <td>8335</td>\n",
       "      <td>3601026812940002</td>\n",
       "      <td>2013-12-10</td>\n",
       "      <td>Dairy</td>\n",
       "      <td>Dairy Person</td>\n",
       "      <td>STORES</td>\n",
       "      <td>BANTEN</td>\n",
       "      <td>KAB. PANDEGLANG</td>\n",
       "      <td>Cimanggu</td>\n",
       "      <td>Female</td>\n",
       "      <td>1994-12-28</td>\n",
       "      <td>28 December 1994</td>\n",
       "      <td>28</td>\n",
       "      <td>2</td>\n",
       "      <td>2013</td>\n",
       "      <td>1994</td>\n",
       "      <td>Gen. Y (Millenials)</td>\n",
       "    </tr>\n",
       "  </tbody>\n",
       "</table>\n",
       "<p>65 rows × 17 columns</p>\n",
       "</div>"
      ],
      "text/plain": [
       "     EmployeeID               NIK orighiredate_key   department_name  \\\n",
       "4675       8204  1171066811930001       2013-05-15  Customer Service   \n",
       "4676       8205  1605026911930018       2013-05-16  Customer Service   \n",
       "4677       8206  3206187011930013       2013-05-16  Customer Service   \n",
       "4680       8209  5204295112930005       2013-05-22  Customer Service   \n",
       "4681       8210  7504045512930005       2013-05-24  Customer Service   \n",
       "...         ...               ...              ...               ...   \n",
       "4791       8329  1611035412940002       2013-12-02  Customer Service   \n",
       "4793       8331  7105175612940011       2013-12-03             Dairy   \n",
       "4794       8332  5314086012940001       2013-12-05  Customer Service   \n",
       "4796       8334  8108106712940019       2013-12-09  Customer Service   \n",
       "4797       8335  3601026812940002       2013-12-10             Dairy   \n",
       "\n",
       "         job_title BUSINESS_UNIT             province                    city  \\\n",
       "4675       Cashier        STORES                 ACEH         KOTA BANDA ACEH   \n",
       "4676       Cashier        STORES     SUMATERA SELATAN         KAB. MUSI RAWAS   \n",
       "4677       Cashier        STORES           JAWA BARAT        KAB. TASIKMALAYA   \n",
       "4680       Cashier        STORES  NUSA TENGGARA BARAT            KAB. SUMBAWA   \n",
       "4681       Cashier        STORES            GORONTALO           KAB. PAHUWATO   \n",
       "...            ...           ...                  ...                     ...   \n",
       "4791       Cashier        STORES     SUMATERA SELATAN       KAB. EMPAT LAWANG   \n",
       "4793  Dairy Person        STORES       SULAWESI UTARA   KAB. MINAHASA SELATAN   \n",
       "4794       Cashier        STORES  NUSA TENGGARA TIMUR          KAB. ROTE NDAO   \n",
       "4796       Cashier        STORES               MALUKU  KAB. MALUKU BARAT DAYA   \n",
       "4797  Dairy Person        STORES               BANTEN         KAB. PANDEGLANG   \n",
       "\n",
       "            district  gender birth_datetime          birthday  age  \\\n",
       "4675       Kuta Raja  Female     1993-11-28  28 November 1993   29   \n",
       "4676   Muara Lakitan  Female     1993-11-29  29 November 1993   29   \n",
       "4677          Salopa  Female     1993-11-30  30 November 1993   29   \n",
       "4680         Lantung  Female     1993-12-11  11 December 1993   29   \n",
       "4681          Marisa  Female     1993-12-15  15 December 1993   29   \n",
       "...              ...     ...            ...               ...  ...   \n",
       "4791        Ulu Musi  Female     1994-12-14  14 December 1994   28   \n",
       "4793   Amurang Barat  Female     1994-12-16  16 December 1994   28   \n",
       "4794    Rote Selatan  Female     1994-12-20  20 December 1994   28   \n",
       "4796  Dawelor Dawera  Female     1994-12-27  27 December 1994   28   \n",
       "4797        Cimanggu  Female     1994-12-28  28 December 1994   28   \n",
       "\n",
       "      regist_code  join_year  birth_year           generation  \n",
       "4675            1       2013        1993  Gen. Y (Millenials)  \n",
       "4676           18       2013        1993  Gen. Y (Millenials)  \n",
       "4677           13       2013        1993  Gen. Y (Millenials)  \n",
       "4680            5       2013        1993  Gen. Y (Millenials)  \n",
       "4681            5       2013        1993  Gen. Y (Millenials)  \n",
       "...           ...        ...         ...                  ...  \n",
       "4791            2       2013        1994  Gen. Y (Millenials)  \n",
       "4793           11       2013        1994  Gen. Y (Millenials)  \n",
       "4794            1       2013        1994  Gen. Y (Millenials)  \n",
       "4796           19       2013        1994  Gen. Y (Millenials)  \n",
       "4797            2       2013        1994  Gen. Y (Millenials)  \n",
       "\n",
       "[65 rows x 17 columns]"
      ]
     },
     "execution_count": 63,
     "metadata": {},
     "output_type": "execute_result"
    }
   ],
   "source": [
    "# code here\n",
    "employ_merge[(employ_merge['gender'] == 'Female') & (employ_merge['age'] < 30)]"
   ]
  },
  {
   "cell_type": "markdown",
   "metadata": {},
   "source": [
    "**Task 2**: Ambil data pegawai yang bekerja pada departemen `Executive` dan `Store Management`"
   ]
  },
  {
   "cell_type": "code",
   "execution_count": 64,
   "metadata": {},
   "outputs": [
    {
     "data": {
      "text/html": [
       "<div>\n",
       "<style scoped>\n",
       "    .dataframe tbody tr th:only-of-type {\n",
       "        vertical-align: middle;\n",
       "    }\n",
       "\n",
       "    .dataframe tbody tr th {\n",
       "        vertical-align: top;\n",
       "    }\n",
       "\n",
       "    .dataframe thead th {\n",
       "        text-align: right;\n",
       "    }\n",
       "</style>\n",
       "<table border=\"1\" class=\"dataframe\">\n",
       "  <thead>\n",
       "    <tr style=\"text-align: right;\">\n",
       "      <th></th>\n",
       "      <th>EmployeeID</th>\n",
       "      <th>NIK</th>\n",
       "      <th>orighiredate_key</th>\n",
       "      <th>department_name</th>\n",
       "      <th>job_title</th>\n",
       "      <th>BUSINESS_UNIT</th>\n",
       "      <th>province</th>\n",
       "      <th>city</th>\n",
       "      <th>district</th>\n",
       "      <th>gender</th>\n",
       "      <th>birth_datetime</th>\n",
       "      <th>birthday</th>\n",
       "      <th>age</th>\n",
       "      <th>regist_code</th>\n",
       "      <th>join_year</th>\n",
       "      <th>birth_year</th>\n",
       "      <th>generation</th>\n",
       "    </tr>\n",
       "  </thead>\n",
       "  <tbody>\n",
       "    <tr>\n",
       "      <th>0</th>\n",
       "      <td>1318</td>\n",
       "      <td>3308040301540010</td>\n",
       "      <td>1989-08-28</td>\n",
       "      <td>Executive</td>\n",
       "      <td>CEO</td>\n",
       "      <td>HEADOFFICE</td>\n",
       "      <td>JAWA TENGAH</td>\n",
       "      <td>KAB. MAGELANG</td>\n",
       "      <td>Salam</td>\n",
       "      <td>Male</td>\n",
       "      <td>1954-01-03</td>\n",
       "      <td>03 January 1954</td>\n",
       "      <td>69</td>\n",
       "      <td>10</td>\n",
       "      <td>1989</td>\n",
       "      <td>1954</td>\n",
       "      <td>Boomers</td>\n",
       "    </tr>\n",
       "    <tr>\n",
       "      <th>1</th>\n",
       "      <td>1319</td>\n",
       "      <td>3524174301570009</td>\n",
       "      <td>1989-08-28</td>\n",
       "      <td>Executive</td>\n",
       "      <td>VP Stores</td>\n",
       "      <td>HEADOFFICE</td>\n",
       "      <td>JAWA TIMUR</td>\n",
       "      <td>KAB. LAMONGAN</td>\n",
       "      <td>Sukodadi</td>\n",
       "      <td>Female</td>\n",
       "      <td>1957-01-03</td>\n",
       "      <td>03 January 1957</td>\n",
       "      <td>66</td>\n",
       "      <td>9</td>\n",
       "      <td>1989</td>\n",
       "      <td>1957</td>\n",
       "      <td>Boomers</td>\n",
       "    </tr>\n",
       "    <tr>\n",
       "      <th>2</th>\n",
       "      <td>1320</td>\n",
       "      <td>7603044201550014</td>\n",
       "      <td>1989-08-28</td>\n",
       "      <td>Executive</td>\n",
       "      <td>Legal Counsel</td>\n",
       "      <td>HEADOFFICE</td>\n",
       "      <td>SULAWESI BARAT</td>\n",
       "      <td>KAB. MAMASA</td>\n",
       "      <td>Pana</td>\n",
       "      <td>Female</td>\n",
       "      <td>1955-01-02</td>\n",
       "      <td>02 January 1955</td>\n",
       "      <td>68</td>\n",
       "      <td>14</td>\n",
       "      <td>1989</td>\n",
       "      <td>1955</td>\n",
       "      <td>Boomers</td>\n",
       "    </tr>\n",
       "    <tr>\n",
       "      <th>3</th>\n",
       "      <td>1321</td>\n",
       "      <td>1571030201590009</td>\n",
       "      <td>1989-08-28</td>\n",
       "      <td>Executive</td>\n",
       "      <td>VP Human Resources</td>\n",
       "      <td>HEADOFFICE</td>\n",
       "      <td>JAMBI</td>\n",
       "      <td>KOTA JAMBI</td>\n",
       "      <td>Jambi Timur</td>\n",
       "      <td>Male</td>\n",
       "      <td>1959-01-02</td>\n",
       "      <td>02 January 1959</td>\n",
       "      <td>64</td>\n",
       "      <td>9</td>\n",
       "      <td>1989</td>\n",
       "      <td>1959</td>\n",
       "      <td>Boomers</td>\n",
       "    </tr>\n",
       "    <tr>\n",
       "      <th>4</th>\n",
       "      <td>1322</td>\n",
       "      <td>3528130901580018</td>\n",
       "      <td>1989-08-31</td>\n",
       "      <td>Executive</td>\n",
       "      <td>VP Finance</td>\n",
       "      <td>HEADOFFICE</td>\n",
       "      <td>JAWA TIMUR</td>\n",
       "      <td>KAB. PAMEKASAN</td>\n",
       "      <td>Pasean</td>\n",
       "      <td>Male</td>\n",
       "      <td>1958-01-09</td>\n",
       "      <td>09 January 1958</td>\n",
       "      <td>65</td>\n",
       "      <td>18</td>\n",
       "      <td>1989</td>\n",
       "      <td>1958</td>\n",
       "      <td>Boomers</td>\n",
       "    </tr>\n",
       "    <tr>\n",
       "      <th>5</th>\n",
       "      <td>1323</td>\n",
       "      <td>5204090901620010</td>\n",
       "      <td>1989-08-31</td>\n",
       "      <td>Executive</td>\n",
       "      <td>Exec Assistant, VP Stores</td>\n",
       "      <td>HEADOFFICE</td>\n",
       "      <td>NUSA TENGGARA BARAT</td>\n",
       "      <td>KAB. SUMBAWA</td>\n",
       "      <td>Moyo Hilir</td>\n",
       "      <td>Male</td>\n",
       "      <td>1962-01-09</td>\n",
       "      <td>09 January 1962</td>\n",
       "      <td>61</td>\n",
       "      <td>10</td>\n",
       "      <td>1989</td>\n",
       "      <td>1962</td>\n",
       "      <td>Boomers</td>\n",
       "    </tr>\n",
       "    <tr>\n",
       "      <th>6</th>\n",
       "      <td>1325</td>\n",
       "      <td>9201465301640014</td>\n",
       "      <td>1989-09-02</td>\n",
       "      <td>Executive</td>\n",
       "      <td>Exec Assistant, Legal Counsel</td>\n",
       "      <td>HEADOFFICE</td>\n",
       "      <td>PAPUA BARAT</td>\n",
       "      <td>KAB. SORONG</td>\n",
       "      <td>Sunook</td>\n",
       "      <td>Female</td>\n",
       "      <td>1964-01-13</td>\n",
       "      <td>13 January 1964</td>\n",
       "      <td>59</td>\n",
       "      <td>14</td>\n",
       "      <td>1989</td>\n",
       "      <td>1964</td>\n",
       "      <td>Boomers</td>\n",
       "    </tr>\n",
       "    <tr>\n",
       "      <th>7</th>\n",
       "      <td>1328</td>\n",
       "      <td>6402125701560016</td>\n",
       "      <td>1989-09-05</td>\n",
       "      <td>Executive</td>\n",
       "      <td>CHief Information Officer</td>\n",
       "      <td>HEADOFFICE</td>\n",
       "      <td>KALIMANTAN TIMUR</td>\n",
       "      <td>KAB. KUTAI KARTANEGARA</td>\n",
       "      <td>Tabang</td>\n",
       "      <td>Female</td>\n",
       "      <td>1956-01-17</td>\n",
       "      <td>17 January 1956</td>\n",
       "      <td>67</td>\n",
       "      <td>16</td>\n",
       "      <td>1989</td>\n",
       "      <td>1956</td>\n",
       "      <td>Boomers</td>\n",
       "    </tr>\n",
       "    <tr>\n",
       "      <th>8</th>\n",
       "      <td>1329</td>\n",
       "      <td>5204066301670007</td>\n",
       "      <td>1989-09-08</td>\n",
       "      <td>Store Management</td>\n",
       "      <td>Store Manager</td>\n",
       "      <td>STORES</td>\n",
       "      <td>NUSA TENGGARA BARAT</td>\n",
       "      <td>KAB. SUMBAWA</td>\n",
       "      <td>Utan</td>\n",
       "      <td>Female</td>\n",
       "      <td>1967-01-23</td>\n",
       "      <td>23 January 1967</td>\n",
       "      <td>56</td>\n",
       "      <td>7</td>\n",
       "      <td>1989</td>\n",
       "      <td>1967</td>\n",
       "      <td>Gen. X</td>\n",
       "    </tr>\n",
       "    <tr>\n",
       "      <th>10</th>\n",
       "      <td>1331</td>\n",
       "      <td>7322146801650005</td>\n",
       "      <td>1989-09-10</td>\n",
       "      <td>Store Management</td>\n",
       "      <td>Store Manager</td>\n",
       "      <td>STORES</td>\n",
       "      <td>SULAWESI SELATAN</td>\n",
       "      <td>KAB. LUWU UTARA</td>\n",
       "      <td>Baebunta Selatan</td>\n",
       "      <td>Female</td>\n",
       "      <td>1965-01-28</td>\n",
       "      <td>28 January 1965</td>\n",
       "      <td>58</td>\n",
       "      <td>5</td>\n",
       "      <td>1989</td>\n",
       "      <td>1965</td>\n",
       "      <td>Gen. X</td>\n",
       "    </tr>\n",
       "    <tr>\n",
       "      <th>11</th>\n",
       "      <td>1332</td>\n",
       "      <td>7108054502550014</td>\n",
       "      <td>1989-09-15</td>\n",
       "      <td>Executive</td>\n",
       "      <td>Exec Assistant, Human Resources</td>\n",
       "      <td>HEADOFFICE</td>\n",
       "      <td>SULAWESI UTARA</td>\n",
       "      <td>KAB. BOLAANG MONGONDOWUTARA</td>\n",
       "      <td>Kaidipang</td>\n",
       "      <td>Female</td>\n",
       "      <td>1955-02-05</td>\n",
       "      <td>05 February 1955</td>\n",
       "      <td>68</td>\n",
       "      <td>14</td>\n",
       "      <td>1989</td>\n",
       "      <td>1955</td>\n",
       "      <td>Boomers</td>\n",
       "    </tr>\n",
       "    <tr>\n",
       "      <th>12</th>\n",
       "      <td>1334</td>\n",
       "      <td>8107080602610006</td>\n",
       "      <td>1989-09-15</td>\n",
       "      <td>Executive</td>\n",
       "      <td>Exec Assistant, Finance</td>\n",
       "      <td>HEADOFFICE</td>\n",
       "      <td>MALUKU</td>\n",
       "      <td>KAB. KEPULAUAN ARU</td>\n",
       "      <td>Aru Tengah Selatan</td>\n",
       "      <td>Male</td>\n",
       "      <td>1961-02-06</td>\n",
       "      <td>06 February 1961</td>\n",
       "      <td>62</td>\n",
       "      <td>6</td>\n",
       "      <td>1989</td>\n",
       "      <td>1961</td>\n",
       "      <td>Boomers</td>\n",
       "    </tr>\n",
       "    <tr>\n",
       "      <th>32</th>\n",
       "      <td>1736</td>\n",
       "      <td>1704012303510009</td>\n",
       "      <td>1990-10-30</td>\n",
       "      <td>Store Management</td>\n",
       "      <td>Store Manager</td>\n",
       "      <td>STORES</td>\n",
       "      <td>BENGKULU</td>\n",
       "      <td>KAB. KAUR</td>\n",
       "      <td>Kinal</td>\n",
       "      <td>Male</td>\n",
       "      <td>1951-03-23</td>\n",
       "      <td>23 March 1951</td>\n",
       "      <td>72</td>\n",
       "      <td>9</td>\n",
       "      <td>1990</td>\n",
       "      <td>1951</td>\n",
       "      <td>Boomers</td>\n",
       "    </tr>\n",
       "    <tr>\n",
       "      <th>47</th>\n",
       "      <td>1768</td>\n",
       "      <td>1212100306510006</td>\n",
       "      <td>1990-12-07</td>\n",
       "      <td>Store Management</td>\n",
       "      <td>Store Manager</td>\n",
       "      <td>STORES</td>\n",
       "      <td>SUMATERA UTARA</td>\n",
       "      <td>KAB. TOBA SAMOSIR</td>\n",
       "      <td>Uluan</td>\n",
       "      <td>Male</td>\n",
       "      <td>1951-06-03</td>\n",
       "      <td>03 June 1951</td>\n",
       "      <td>72</td>\n",
       "      <td>6</td>\n",
       "      <td>1990</td>\n",
       "      <td>1951</td>\n",
       "      <td>Boomers</td>\n",
       "    </tr>\n",
       "  </tbody>\n",
       "</table>\n",
       "</div>"
      ],
      "text/plain": [
       "   EmployeeID               NIK orighiredate_key   department_name  \\\n",
       "0        1318  3308040301540010       1989-08-28         Executive   \n",
       "1        1319  3524174301570009       1989-08-28         Executive   \n",
       "2        1320  7603044201550014       1989-08-28         Executive   \n",
       "3        1321  1571030201590009       1989-08-28         Executive   \n",
       "4        1322  3528130901580018       1989-08-31         Executive   \n",
       "5        1323  5204090901620010       1989-08-31         Executive   \n",
       "6        1325  9201465301640014       1989-09-02         Executive   \n",
       "7        1328  6402125701560016       1989-09-05         Executive   \n",
       "8        1329  5204066301670007       1989-09-08  Store Management   \n",
       "10       1331  7322146801650005       1989-09-10  Store Management   \n",
       "11       1332  7108054502550014       1989-09-15         Executive   \n",
       "12       1334  8107080602610006       1989-09-15         Executive   \n",
       "32       1736  1704012303510009       1990-10-30  Store Management   \n",
       "47       1768  1212100306510006       1990-12-07  Store Management   \n",
       "\n",
       "                          job_title BUSINESS_UNIT             province  \\\n",
       "0                               CEO    HEADOFFICE          JAWA TENGAH   \n",
       "1                         VP Stores    HEADOFFICE           JAWA TIMUR   \n",
       "2                     Legal Counsel    HEADOFFICE       SULAWESI BARAT   \n",
       "3                VP Human Resources    HEADOFFICE                JAMBI   \n",
       "4                        VP Finance    HEADOFFICE           JAWA TIMUR   \n",
       "5         Exec Assistant, VP Stores    HEADOFFICE  NUSA TENGGARA BARAT   \n",
       "6     Exec Assistant, Legal Counsel    HEADOFFICE          PAPUA BARAT   \n",
       "7         CHief Information Officer    HEADOFFICE     KALIMANTAN TIMUR   \n",
       "8                     Store Manager        STORES  NUSA TENGGARA BARAT   \n",
       "10                    Store Manager        STORES     SULAWESI SELATAN   \n",
       "11  Exec Assistant, Human Resources    HEADOFFICE       SULAWESI UTARA   \n",
       "12          Exec Assistant, Finance    HEADOFFICE               MALUKU   \n",
       "32                    Store Manager        STORES             BENGKULU   \n",
       "47                    Store Manager        STORES       SUMATERA UTARA   \n",
       "\n",
       "                           city            district  gender birth_datetime  \\\n",
       "0                 KAB. MAGELANG               Salam    Male     1954-01-03   \n",
       "1                 KAB. LAMONGAN            Sukodadi  Female     1957-01-03   \n",
       "2                   KAB. MAMASA                Pana  Female     1955-01-02   \n",
       "3                    KOTA JAMBI         Jambi Timur    Male     1959-01-02   \n",
       "4                KAB. PAMEKASAN              Pasean    Male     1958-01-09   \n",
       "5                  KAB. SUMBAWA          Moyo Hilir    Male     1962-01-09   \n",
       "6                   KAB. SORONG              Sunook  Female     1964-01-13   \n",
       "7        KAB. KUTAI KARTANEGARA              Tabang  Female     1956-01-17   \n",
       "8                  KAB. SUMBAWA                Utan  Female     1967-01-23   \n",
       "10              KAB. LUWU UTARA    Baebunta Selatan  Female     1965-01-28   \n",
       "11  KAB. BOLAANG MONGONDOWUTARA           Kaidipang  Female     1955-02-05   \n",
       "12           KAB. KEPULAUAN ARU  Aru Tengah Selatan    Male     1961-02-06   \n",
       "32                    KAB. KAUR               Kinal    Male     1951-03-23   \n",
       "47            KAB. TOBA SAMOSIR               Uluan    Male     1951-06-03   \n",
       "\n",
       "            birthday  age  regist_code  join_year  birth_year generation  \n",
       "0    03 January 1954   69           10       1989        1954    Boomers  \n",
       "1    03 January 1957   66            9       1989        1957    Boomers  \n",
       "2    02 January 1955   68           14       1989        1955    Boomers  \n",
       "3    02 January 1959   64            9       1989        1959    Boomers  \n",
       "4    09 January 1958   65           18       1989        1958    Boomers  \n",
       "5    09 January 1962   61           10       1989        1962    Boomers  \n",
       "6    13 January 1964   59           14       1989        1964    Boomers  \n",
       "7    17 January 1956   67           16       1989        1956    Boomers  \n",
       "8    23 January 1967   56            7       1989        1967     Gen. X  \n",
       "10   28 January 1965   58            5       1989        1965     Gen. X  \n",
       "11  05 February 1955   68           14       1989        1955    Boomers  \n",
       "12  06 February 1961   62            6       1989        1961    Boomers  \n",
       "32     23 March 1951   72            9       1990        1951    Boomers  \n",
       "47      03 June 1951   72            6       1990        1951    Boomers  "
      ]
     },
     "execution_count": 64,
     "metadata": {},
     "output_type": "execute_result"
    }
   ],
   "source": [
    "# code here\n",
    "employ_merge[(employ_merge['department_name'] == 'Executive') | (employ_merge['department_name'] == 'Store Management')]"
   ]
  },
  {
   "cell_type": "markdown",
   "metadata": {},
   "source": [
    "**Task 2**: Ambil data pegawai yang berusia di antara 20 hingga 50 tahun (inclusive, termasuk yang berusia 20 dan 50 tahun)"
   ]
  },
  {
   "cell_type": "code",
   "execution_count": 65,
   "metadata": {},
   "outputs": [
    {
     "data": {
      "text/html": [
       "<div>\n",
       "<style scoped>\n",
       "    .dataframe tbody tr th:only-of-type {\n",
       "        vertical-align: middle;\n",
       "    }\n",
       "\n",
       "    .dataframe tbody tr th {\n",
       "        vertical-align: top;\n",
       "    }\n",
       "\n",
       "    .dataframe thead th {\n",
       "        text-align: right;\n",
       "    }\n",
       "</style>\n",
       "<table border=\"1\" class=\"dataframe\">\n",
       "  <thead>\n",
       "    <tr style=\"text-align: right;\">\n",
       "      <th></th>\n",
       "      <th>EmployeeID</th>\n",
       "      <th>NIK</th>\n",
       "      <th>orighiredate_key</th>\n",
       "      <th>department_name</th>\n",
       "      <th>job_title</th>\n",
       "      <th>BUSINESS_UNIT</th>\n",
       "      <th>province</th>\n",
       "      <th>city</th>\n",
       "      <th>district</th>\n",
       "      <th>gender</th>\n",
       "      <th>birth_datetime</th>\n",
       "      <th>birthday</th>\n",
       "      <th>age</th>\n",
       "      <th>regist_code</th>\n",
       "      <th>join_year</th>\n",
       "      <th>birth_year</th>\n",
       "      <th>generation</th>\n",
       "    </tr>\n",
       "  </thead>\n",
       "  <tbody>\n",
       "    <tr>\n",
       "      <th>2415</th>\n",
       "      <td>5516</td>\n",
       "      <td>3326136511720018</td>\n",
       "      <td>2002-04-11</td>\n",
       "      <td>Dairy</td>\n",
       "      <td>Dairy Person</td>\n",
       "      <td>STORES</td>\n",
       "      <td>JAWA TENGAH</td>\n",
       "      <td>KAB. PEKALONGAN</td>\n",
       "      <td>Kedungwuni</td>\n",
       "      <td>Female</td>\n",
       "      <td>1972-11-25</td>\n",
       "      <td>25 November 1972</td>\n",
       "      <td>50</td>\n",
       "      <td>18</td>\n",
       "      <td>2002</td>\n",
       "      <td>1972</td>\n",
       "      <td>Gen. X</td>\n",
       "    </tr>\n",
       "    <tr>\n",
       "      <th>2416</th>\n",
       "      <td>5518</td>\n",
       "      <td>7172066911720005</td>\n",
       "      <td>2002-04-13</td>\n",
       "      <td>Bakery</td>\n",
       "      <td>Baker</td>\n",
       "      <td>STORES</td>\n",
       "      <td>SULAWESI UTARA</td>\n",
       "      <td>KOTA BITUNG</td>\n",
       "      <td>Girian</td>\n",
       "      <td>Female</td>\n",
       "      <td>1972-11-29</td>\n",
       "      <td>29 November 1972</td>\n",
       "      <td>50</td>\n",
       "      <td>5</td>\n",
       "      <td>2002</td>\n",
       "      <td>1972</td>\n",
       "      <td>Gen. X</td>\n",
       "    </tr>\n",
       "    <tr>\n",
       "      <th>2417</th>\n",
       "      <td>5519</td>\n",
       "      <td>9102417011720008</td>\n",
       "      <td>2002-04-13</td>\n",
       "      <td>Customer Service</td>\n",
       "      <td>Cashier</td>\n",
       "      <td>STORES</td>\n",
       "      <td>PAPUA</td>\n",
       "      <td>KAB. JAYAWIJAYA</td>\n",
       "      <td>Napua</td>\n",
       "      <td>Female</td>\n",
       "      <td>1972-11-30</td>\n",
       "      <td>30 November 1972</td>\n",
       "      <td>50</td>\n",
       "      <td>8</td>\n",
       "      <td>2002</td>\n",
       "      <td>1972</td>\n",
       "      <td>Gen. X</td>\n",
       "    </tr>\n",
       "    <tr>\n",
       "      <th>2418</th>\n",
       "      <td>5521</td>\n",
       "      <td>3210010412720010</td>\n",
       "      <td>2002-04-15</td>\n",
       "      <td>Bakery</td>\n",
       "      <td>Baker</td>\n",
       "      <td>STORES</td>\n",
       "      <td>JAWA BARAT</td>\n",
       "      <td>KAB. MAJALENGKA</td>\n",
       "      <td>Lemahsugih</td>\n",
       "      <td>Male</td>\n",
       "      <td>1972-12-04</td>\n",
       "      <td>04 December 1972</td>\n",
       "      <td>50</td>\n",
       "      <td>10</td>\n",
       "      <td>2002</td>\n",
       "      <td>1972</td>\n",
       "      <td>Gen. X</td>\n",
       "    </tr>\n",
       "    <tr>\n",
       "      <th>2419</th>\n",
       "      <td>5522</td>\n",
       "      <td>6103084412720012</td>\n",
       "      <td>2002-04-15</td>\n",
       "      <td>Dairy</td>\n",
       "      <td>Dairy Person</td>\n",
       "      <td>STORES</td>\n",
       "      <td>KALIMANTAN BARAT</td>\n",
       "      <td>KAB. SANGGAU</td>\n",
       "      <td>Kembayan</td>\n",
       "      <td>Female</td>\n",
       "      <td>1972-12-04</td>\n",
       "      <td>04 December 1972</td>\n",
       "      <td>50</td>\n",
       "      <td>12</td>\n",
       "      <td>2002</td>\n",
       "      <td>1972</td>\n",
       "      <td>Gen. X</td>\n",
       "    </tr>\n",
       "    <tr>\n",
       "      <th>...</th>\n",
       "      <td>...</td>\n",
       "      <td>...</td>\n",
       "      <td>...</td>\n",
       "      <td>...</td>\n",
       "      <td>...</td>\n",
       "      <td>...</td>\n",
       "      <td>...</td>\n",
       "      <td>...</td>\n",
       "      <td>...</td>\n",
       "      <td>...</td>\n",
       "      <td>...</td>\n",
       "      <td>...</td>\n",
       "      <td>...</td>\n",
       "      <td>...</td>\n",
       "      <td>...</td>\n",
       "      <td>...</td>\n",
       "      <td>...</td>\n",
       "    </tr>\n",
       "    <tr>\n",
       "      <th>4794</th>\n",
       "      <td>8332</td>\n",
       "      <td>5314086012940001</td>\n",
       "      <td>2013-12-05</td>\n",
       "      <td>Customer Service</td>\n",
       "      <td>Cashier</td>\n",
       "      <td>STORES</td>\n",
       "      <td>NUSA TENGGARA TIMUR</td>\n",
       "      <td>KAB. ROTE NDAO</td>\n",
       "      <td>Rote Selatan</td>\n",
       "      <td>Female</td>\n",
       "      <td>1994-12-20</td>\n",
       "      <td>20 December 1994</td>\n",
       "      <td>28</td>\n",
       "      <td>1</td>\n",
       "      <td>2013</td>\n",
       "      <td>1994</td>\n",
       "      <td>Gen. Y (Millenials)</td>\n",
       "    </tr>\n",
       "    <tr>\n",
       "      <th>4795</th>\n",
       "      <td>8333</td>\n",
       "      <td>3306091912940014</td>\n",
       "      <td>2013-12-05</td>\n",
       "      <td>Customer Service</td>\n",
       "      <td>Cashier</td>\n",
       "      <td>STORES</td>\n",
       "      <td>JAWA TENGAH</td>\n",
       "      <td>KAB. PURWOREJO</td>\n",
       "      <td>Kutoarjo</td>\n",
       "      <td>Male</td>\n",
       "      <td>1994-12-19</td>\n",
       "      <td>19 December 1994</td>\n",
       "      <td>28</td>\n",
       "      <td>14</td>\n",
       "      <td>2013</td>\n",
       "      <td>1994</td>\n",
       "      <td>Gen. Y (Millenials)</td>\n",
       "    </tr>\n",
       "    <tr>\n",
       "      <th>4796</th>\n",
       "      <td>8334</td>\n",
       "      <td>8108106712940019</td>\n",
       "      <td>2013-12-09</td>\n",
       "      <td>Customer Service</td>\n",
       "      <td>Cashier</td>\n",
       "      <td>STORES</td>\n",
       "      <td>MALUKU</td>\n",
       "      <td>KAB. MALUKU BARAT DAYA</td>\n",
       "      <td>Dawelor Dawera</td>\n",
       "      <td>Female</td>\n",
       "      <td>1994-12-27</td>\n",
       "      <td>27 December 1994</td>\n",
       "      <td>28</td>\n",
       "      <td>19</td>\n",
       "      <td>2013</td>\n",
       "      <td>1994</td>\n",
       "      <td>Gen. Y (Millenials)</td>\n",
       "    </tr>\n",
       "    <tr>\n",
       "      <th>4797</th>\n",
       "      <td>8335</td>\n",
       "      <td>3601026812940002</td>\n",
       "      <td>2013-12-10</td>\n",
       "      <td>Dairy</td>\n",
       "      <td>Dairy Person</td>\n",
       "      <td>STORES</td>\n",
       "      <td>BANTEN</td>\n",
       "      <td>KAB. PANDEGLANG</td>\n",
       "      <td>Cimanggu</td>\n",
       "      <td>Female</td>\n",
       "      <td>1994-12-28</td>\n",
       "      <td>28 December 1994</td>\n",
       "      <td>28</td>\n",
       "      <td>2</td>\n",
       "      <td>2013</td>\n",
       "      <td>1994</td>\n",
       "      <td>Gen. Y (Millenials)</td>\n",
       "    </tr>\n",
       "    <tr>\n",
       "      <th>4798</th>\n",
       "      <td>8336</td>\n",
       "      <td>3312143112940008</td>\n",
       "      <td>2013-12-11</td>\n",
       "      <td>Dairy</td>\n",
       "      <td>Dairy Person</td>\n",
       "      <td>STORES</td>\n",
       "      <td>JAWA TENGAH</td>\n",
       "      <td>KAB. WONOGIRI</td>\n",
       "      <td>Sidoharjo</td>\n",
       "      <td>Male</td>\n",
       "      <td>1994-12-31</td>\n",
       "      <td>31 December 1994</td>\n",
       "      <td>28</td>\n",
       "      <td>8</td>\n",
       "      <td>2013</td>\n",
       "      <td>1994</td>\n",
       "      <td>Gen. Y (Millenials)</td>\n",
       "    </tr>\n",
       "  </tbody>\n",
       "</table>\n",
       "<p>2384 rows × 17 columns</p>\n",
       "</div>"
      ],
      "text/plain": [
       "     EmployeeID               NIK orighiredate_key   department_name  \\\n",
       "2415       5516  3326136511720018       2002-04-11             Dairy   \n",
       "2416       5518  7172066911720005       2002-04-13            Bakery   \n",
       "2417       5519  9102417011720008       2002-04-13  Customer Service   \n",
       "2418       5521  3210010412720010       2002-04-15            Bakery   \n",
       "2419       5522  6103084412720012       2002-04-15             Dairy   \n",
       "...         ...               ...              ...               ...   \n",
       "4794       8332  5314086012940001       2013-12-05  Customer Service   \n",
       "4795       8333  3306091912940014       2013-12-05  Customer Service   \n",
       "4796       8334  8108106712940019       2013-12-09  Customer Service   \n",
       "4797       8335  3601026812940002       2013-12-10             Dairy   \n",
       "4798       8336  3312143112940008       2013-12-11             Dairy   \n",
       "\n",
       "         job_title BUSINESS_UNIT             province                    city  \\\n",
       "2415  Dairy Person        STORES          JAWA TENGAH         KAB. PEKALONGAN   \n",
       "2416         Baker        STORES       SULAWESI UTARA             KOTA BITUNG   \n",
       "2417       Cashier        STORES                PAPUA         KAB. JAYAWIJAYA   \n",
       "2418         Baker        STORES           JAWA BARAT         KAB. MAJALENGKA   \n",
       "2419  Dairy Person        STORES     KALIMANTAN BARAT            KAB. SANGGAU   \n",
       "...            ...           ...                  ...                     ...   \n",
       "4794       Cashier        STORES  NUSA TENGGARA TIMUR          KAB. ROTE NDAO   \n",
       "4795       Cashier        STORES          JAWA TENGAH          KAB. PURWOREJO   \n",
       "4796       Cashier        STORES               MALUKU  KAB. MALUKU BARAT DAYA   \n",
       "4797  Dairy Person        STORES               BANTEN         KAB. PANDEGLANG   \n",
       "4798  Dairy Person        STORES          JAWA TENGAH           KAB. WONOGIRI   \n",
       "\n",
       "            district  gender birth_datetime          birthday  age  \\\n",
       "2415      Kedungwuni  Female     1972-11-25  25 November 1972   50   \n",
       "2416          Girian  Female     1972-11-29  29 November 1972   50   \n",
       "2417           Napua  Female     1972-11-30  30 November 1972   50   \n",
       "2418      Lemahsugih    Male     1972-12-04  04 December 1972   50   \n",
       "2419        Kembayan  Female     1972-12-04  04 December 1972   50   \n",
       "...              ...     ...            ...               ...  ...   \n",
       "4794    Rote Selatan  Female     1994-12-20  20 December 1994   28   \n",
       "4795        Kutoarjo    Male     1994-12-19  19 December 1994   28   \n",
       "4796  Dawelor Dawera  Female     1994-12-27  27 December 1994   28   \n",
       "4797        Cimanggu  Female     1994-12-28  28 December 1994   28   \n",
       "4798       Sidoharjo    Male     1994-12-31  31 December 1994   28   \n",
       "\n",
       "      regist_code  join_year  birth_year           generation  \n",
       "2415           18       2002        1972               Gen. X  \n",
       "2416            5       2002        1972               Gen. X  \n",
       "2417            8       2002        1972               Gen. X  \n",
       "2418           10       2002        1972               Gen. X  \n",
       "2419           12       2002        1972               Gen. X  \n",
       "...           ...        ...         ...                  ...  \n",
       "4794            1       2013        1994  Gen. Y (Millenials)  \n",
       "4795           14       2013        1994  Gen. Y (Millenials)  \n",
       "4796           19       2013        1994  Gen. Y (Millenials)  \n",
       "4797            2       2013        1994  Gen. Y (Millenials)  \n",
       "4798            8       2013        1994  Gen. Y (Millenials)  \n",
       "\n",
       "[2384 rows x 17 columns]"
      ]
     },
     "execution_count": 65,
     "metadata": {},
     "output_type": "execute_result"
    }
   ],
   "source": [
    "# code here\n",
    "employ_merge[(employ_merge['age'] >= 20) & (employ_merge['age'] <= 50)]"
   ]
  },
  {
   "cell_type": "markdown",
   "metadata": {},
   "source": [
    "### [Additional] `.between()`\n",
    "\n",
    "Untuk mengambil data dengan range nilai tertentu, kita dapat menggunakan `.between()`, dengan parameter:\n",
    "- `left`: batas kiri\n",
    "- `right`: batas kanan\n",
    "\n",
    "Secara default, method `.between()` akan mengambil data secara inclusive (left dan right termasuk)"
   ]
  },
  {
   "cell_type": "code",
   "execution_count": 66,
   "metadata": {},
   "outputs": [
    {
     "data": {
      "text/html": [
       "<div>\n",
       "<style scoped>\n",
       "    .dataframe tbody tr th:only-of-type {\n",
       "        vertical-align: middle;\n",
       "    }\n",
       "\n",
       "    .dataframe tbody tr th {\n",
       "        vertical-align: top;\n",
       "    }\n",
       "\n",
       "    .dataframe thead th {\n",
       "        text-align: right;\n",
       "    }\n",
       "</style>\n",
       "<table border=\"1\" class=\"dataframe\">\n",
       "  <thead>\n",
       "    <tr style=\"text-align: right;\">\n",
       "      <th></th>\n",
       "      <th>EmployeeID</th>\n",
       "      <th>NIK</th>\n",
       "      <th>orighiredate_key</th>\n",
       "      <th>department_name</th>\n",
       "      <th>job_title</th>\n",
       "      <th>BUSINESS_UNIT</th>\n",
       "      <th>province</th>\n",
       "      <th>city</th>\n",
       "      <th>district</th>\n",
       "      <th>gender</th>\n",
       "      <th>birth_datetime</th>\n",
       "      <th>birthday</th>\n",
       "      <th>age</th>\n",
       "      <th>regist_code</th>\n",
       "      <th>join_year</th>\n",
       "      <th>birth_year</th>\n",
       "      <th>generation</th>\n",
       "    </tr>\n",
       "  </thead>\n",
       "  <tbody>\n",
       "    <tr>\n",
       "      <th>2415</th>\n",
       "      <td>5516</td>\n",
       "      <td>3326136511720018</td>\n",
       "      <td>2002-04-11</td>\n",
       "      <td>Dairy</td>\n",
       "      <td>Dairy Person</td>\n",
       "      <td>STORES</td>\n",
       "      <td>JAWA TENGAH</td>\n",
       "      <td>KAB. PEKALONGAN</td>\n",
       "      <td>Kedungwuni</td>\n",
       "      <td>Female</td>\n",
       "      <td>1972-11-25</td>\n",
       "      <td>25 November 1972</td>\n",
       "      <td>50</td>\n",
       "      <td>18</td>\n",
       "      <td>2002</td>\n",
       "      <td>1972</td>\n",
       "      <td>Gen. X</td>\n",
       "    </tr>\n",
       "    <tr>\n",
       "      <th>2416</th>\n",
       "      <td>5518</td>\n",
       "      <td>7172066911720005</td>\n",
       "      <td>2002-04-13</td>\n",
       "      <td>Bakery</td>\n",
       "      <td>Baker</td>\n",
       "      <td>STORES</td>\n",
       "      <td>SULAWESI UTARA</td>\n",
       "      <td>KOTA BITUNG</td>\n",
       "      <td>Girian</td>\n",
       "      <td>Female</td>\n",
       "      <td>1972-11-29</td>\n",
       "      <td>29 November 1972</td>\n",
       "      <td>50</td>\n",
       "      <td>5</td>\n",
       "      <td>2002</td>\n",
       "      <td>1972</td>\n",
       "      <td>Gen. X</td>\n",
       "    </tr>\n",
       "    <tr>\n",
       "      <th>2417</th>\n",
       "      <td>5519</td>\n",
       "      <td>9102417011720008</td>\n",
       "      <td>2002-04-13</td>\n",
       "      <td>Customer Service</td>\n",
       "      <td>Cashier</td>\n",
       "      <td>STORES</td>\n",
       "      <td>PAPUA</td>\n",
       "      <td>KAB. JAYAWIJAYA</td>\n",
       "      <td>Napua</td>\n",
       "      <td>Female</td>\n",
       "      <td>1972-11-30</td>\n",
       "      <td>30 November 1972</td>\n",
       "      <td>50</td>\n",
       "      <td>8</td>\n",
       "      <td>2002</td>\n",
       "      <td>1972</td>\n",
       "      <td>Gen. X</td>\n",
       "    </tr>\n",
       "    <tr>\n",
       "      <th>2418</th>\n",
       "      <td>5521</td>\n",
       "      <td>3210010412720010</td>\n",
       "      <td>2002-04-15</td>\n",
       "      <td>Bakery</td>\n",
       "      <td>Baker</td>\n",
       "      <td>STORES</td>\n",
       "      <td>JAWA BARAT</td>\n",
       "      <td>KAB. MAJALENGKA</td>\n",
       "      <td>Lemahsugih</td>\n",
       "      <td>Male</td>\n",
       "      <td>1972-12-04</td>\n",
       "      <td>04 December 1972</td>\n",
       "      <td>50</td>\n",
       "      <td>10</td>\n",
       "      <td>2002</td>\n",
       "      <td>1972</td>\n",
       "      <td>Gen. X</td>\n",
       "    </tr>\n",
       "    <tr>\n",
       "      <th>2419</th>\n",
       "      <td>5522</td>\n",
       "      <td>6103084412720012</td>\n",
       "      <td>2002-04-15</td>\n",
       "      <td>Dairy</td>\n",
       "      <td>Dairy Person</td>\n",
       "      <td>STORES</td>\n",
       "      <td>KALIMANTAN BARAT</td>\n",
       "      <td>KAB. SANGGAU</td>\n",
       "      <td>Kembayan</td>\n",
       "      <td>Female</td>\n",
       "      <td>1972-12-04</td>\n",
       "      <td>04 December 1972</td>\n",
       "      <td>50</td>\n",
       "      <td>12</td>\n",
       "      <td>2002</td>\n",
       "      <td>1972</td>\n",
       "      <td>Gen. X</td>\n",
       "    </tr>\n",
       "    <tr>\n",
       "      <th>...</th>\n",
       "      <td>...</td>\n",
       "      <td>...</td>\n",
       "      <td>...</td>\n",
       "      <td>...</td>\n",
       "      <td>...</td>\n",
       "      <td>...</td>\n",
       "      <td>...</td>\n",
       "      <td>...</td>\n",
       "      <td>...</td>\n",
       "      <td>...</td>\n",
       "      <td>...</td>\n",
       "      <td>...</td>\n",
       "      <td>...</td>\n",
       "      <td>...</td>\n",
       "      <td>...</td>\n",
       "      <td>...</td>\n",
       "      <td>...</td>\n",
       "    </tr>\n",
       "    <tr>\n",
       "      <th>4794</th>\n",
       "      <td>8332</td>\n",
       "      <td>5314086012940001</td>\n",
       "      <td>2013-12-05</td>\n",
       "      <td>Customer Service</td>\n",
       "      <td>Cashier</td>\n",
       "      <td>STORES</td>\n",
       "      <td>NUSA TENGGARA TIMUR</td>\n",
       "      <td>KAB. ROTE NDAO</td>\n",
       "      <td>Rote Selatan</td>\n",
       "      <td>Female</td>\n",
       "      <td>1994-12-20</td>\n",
       "      <td>20 December 1994</td>\n",
       "      <td>28</td>\n",
       "      <td>1</td>\n",
       "      <td>2013</td>\n",
       "      <td>1994</td>\n",
       "      <td>Gen. Y (Millenials)</td>\n",
       "    </tr>\n",
       "    <tr>\n",
       "      <th>4795</th>\n",
       "      <td>8333</td>\n",
       "      <td>3306091912940014</td>\n",
       "      <td>2013-12-05</td>\n",
       "      <td>Customer Service</td>\n",
       "      <td>Cashier</td>\n",
       "      <td>STORES</td>\n",
       "      <td>JAWA TENGAH</td>\n",
       "      <td>KAB. PURWOREJO</td>\n",
       "      <td>Kutoarjo</td>\n",
       "      <td>Male</td>\n",
       "      <td>1994-12-19</td>\n",
       "      <td>19 December 1994</td>\n",
       "      <td>28</td>\n",
       "      <td>14</td>\n",
       "      <td>2013</td>\n",
       "      <td>1994</td>\n",
       "      <td>Gen. Y (Millenials)</td>\n",
       "    </tr>\n",
       "    <tr>\n",
       "      <th>4796</th>\n",
       "      <td>8334</td>\n",
       "      <td>8108106712940019</td>\n",
       "      <td>2013-12-09</td>\n",
       "      <td>Customer Service</td>\n",
       "      <td>Cashier</td>\n",
       "      <td>STORES</td>\n",
       "      <td>MALUKU</td>\n",
       "      <td>KAB. MALUKU BARAT DAYA</td>\n",
       "      <td>Dawelor Dawera</td>\n",
       "      <td>Female</td>\n",
       "      <td>1994-12-27</td>\n",
       "      <td>27 December 1994</td>\n",
       "      <td>28</td>\n",
       "      <td>19</td>\n",
       "      <td>2013</td>\n",
       "      <td>1994</td>\n",
       "      <td>Gen. Y (Millenials)</td>\n",
       "    </tr>\n",
       "    <tr>\n",
       "      <th>4797</th>\n",
       "      <td>8335</td>\n",
       "      <td>3601026812940002</td>\n",
       "      <td>2013-12-10</td>\n",
       "      <td>Dairy</td>\n",
       "      <td>Dairy Person</td>\n",
       "      <td>STORES</td>\n",
       "      <td>BANTEN</td>\n",
       "      <td>KAB. PANDEGLANG</td>\n",
       "      <td>Cimanggu</td>\n",
       "      <td>Female</td>\n",
       "      <td>1994-12-28</td>\n",
       "      <td>28 December 1994</td>\n",
       "      <td>28</td>\n",
       "      <td>2</td>\n",
       "      <td>2013</td>\n",
       "      <td>1994</td>\n",
       "      <td>Gen. Y (Millenials)</td>\n",
       "    </tr>\n",
       "    <tr>\n",
       "      <th>4798</th>\n",
       "      <td>8336</td>\n",
       "      <td>3312143112940008</td>\n",
       "      <td>2013-12-11</td>\n",
       "      <td>Dairy</td>\n",
       "      <td>Dairy Person</td>\n",
       "      <td>STORES</td>\n",
       "      <td>JAWA TENGAH</td>\n",
       "      <td>KAB. WONOGIRI</td>\n",
       "      <td>Sidoharjo</td>\n",
       "      <td>Male</td>\n",
       "      <td>1994-12-31</td>\n",
       "      <td>31 December 1994</td>\n",
       "      <td>28</td>\n",
       "      <td>8</td>\n",
       "      <td>2013</td>\n",
       "      <td>1994</td>\n",
       "      <td>Gen. Y (Millenials)</td>\n",
       "    </tr>\n",
       "  </tbody>\n",
       "</table>\n",
       "<p>2384 rows × 17 columns</p>\n",
       "</div>"
      ],
      "text/plain": [
       "     EmployeeID               NIK orighiredate_key   department_name  \\\n",
       "2415       5516  3326136511720018       2002-04-11             Dairy   \n",
       "2416       5518  7172066911720005       2002-04-13            Bakery   \n",
       "2417       5519  9102417011720008       2002-04-13  Customer Service   \n",
       "2418       5521  3210010412720010       2002-04-15            Bakery   \n",
       "2419       5522  6103084412720012       2002-04-15             Dairy   \n",
       "...         ...               ...              ...               ...   \n",
       "4794       8332  5314086012940001       2013-12-05  Customer Service   \n",
       "4795       8333  3306091912940014       2013-12-05  Customer Service   \n",
       "4796       8334  8108106712940019       2013-12-09  Customer Service   \n",
       "4797       8335  3601026812940002       2013-12-10             Dairy   \n",
       "4798       8336  3312143112940008       2013-12-11             Dairy   \n",
       "\n",
       "         job_title BUSINESS_UNIT             province                    city  \\\n",
       "2415  Dairy Person        STORES          JAWA TENGAH         KAB. PEKALONGAN   \n",
       "2416         Baker        STORES       SULAWESI UTARA             KOTA BITUNG   \n",
       "2417       Cashier        STORES                PAPUA         KAB. JAYAWIJAYA   \n",
       "2418         Baker        STORES           JAWA BARAT         KAB. MAJALENGKA   \n",
       "2419  Dairy Person        STORES     KALIMANTAN BARAT            KAB. SANGGAU   \n",
       "...            ...           ...                  ...                     ...   \n",
       "4794       Cashier        STORES  NUSA TENGGARA TIMUR          KAB. ROTE NDAO   \n",
       "4795       Cashier        STORES          JAWA TENGAH          KAB. PURWOREJO   \n",
       "4796       Cashier        STORES               MALUKU  KAB. MALUKU BARAT DAYA   \n",
       "4797  Dairy Person        STORES               BANTEN         KAB. PANDEGLANG   \n",
       "4798  Dairy Person        STORES          JAWA TENGAH           KAB. WONOGIRI   \n",
       "\n",
       "            district  gender birth_datetime          birthday  age  \\\n",
       "2415      Kedungwuni  Female     1972-11-25  25 November 1972   50   \n",
       "2416          Girian  Female     1972-11-29  29 November 1972   50   \n",
       "2417           Napua  Female     1972-11-30  30 November 1972   50   \n",
       "2418      Lemahsugih    Male     1972-12-04  04 December 1972   50   \n",
       "2419        Kembayan  Female     1972-12-04  04 December 1972   50   \n",
       "...              ...     ...            ...               ...  ...   \n",
       "4794    Rote Selatan  Female     1994-12-20  20 December 1994   28   \n",
       "4795        Kutoarjo    Male     1994-12-19  19 December 1994   28   \n",
       "4796  Dawelor Dawera  Female     1994-12-27  27 December 1994   28   \n",
       "4797        Cimanggu  Female     1994-12-28  28 December 1994   28   \n",
       "4798       Sidoharjo    Male     1994-12-31  31 December 1994   28   \n",
       "\n",
       "      regist_code  join_year  birth_year           generation  \n",
       "2415           18       2002        1972               Gen. X  \n",
       "2416            5       2002        1972               Gen. X  \n",
       "2417            8       2002        1972               Gen. X  \n",
       "2418           10       2002        1972               Gen. X  \n",
       "2419           12       2002        1972               Gen. X  \n",
       "...           ...        ...         ...                  ...  \n",
       "4794            1       2013        1994  Gen. Y (Millenials)  \n",
       "4795           14       2013        1994  Gen. Y (Millenials)  \n",
       "4796           19       2013        1994  Gen. Y (Millenials)  \n",
       "4797            2       2013        1994  Gen. Y (Millenials)  \n",
       "4798            8       2013        1994  Gen. Y (Millenials)  \n",
       "\n",
       "[2384 rows x 17 columns]"
      ]
     },
     "execution_count": 66,
     "metadata": {},
     "output_type": "execute_result"
    }
   ],
   "source": [
    "employ_age = employ_merge[employ_merge['age'].between(left=20, right=50)]\n",
    "employ_age"
   ]
  },
  {
   "cell_type": "markdown",
   "metadata": {},
   "source": [
    "# Data Wrangling\n",
    "\n",
    "Data wrangling adalah proses mengubah bentuk data agar siap untuk proses analisis selanjutnya, dalam kasus kita adalah untuk proses visualisasi. Salah satu proses data wrangling yang paling umum dilakukan adalah membentuk *frequency table*. Frequency table merupakan tabel yang berisi nilai frekuensi/kemunculan suatu kategori."
   ]
  },
  {
   "cell_type": "markdown",
   "metadata": {},
   "source": [
    "### Cross Tabulation\n",
    "\n",
    "Selain menggunakan method `value_counts()`, kita juga dapat menggunakan fungsi `crosstab()` yang telah disediakan oleh `pandas` untuk menghitung frekuensi pada data. Syntax yang digunakan untuk menggunakan fungsi `crosstab()` adalah :\n",
    "\n",
    "```python\n",
    "pd.crosstab(index=x,\n",
    "            columns=y)\n",
    "```\n",
    "\n",
    "Parameter :\n",
    "- `index` : kolom yang akan dijadikan index baris (axis 0)\n",
    "- `columns` : kolom yang akan dijadikan index kolom (axis 1)"
   ]
  },
  {
   "cell_type": "markdown",
   "metadata": {},
   "source": [
    "#### Frequency of 1 Variable\n",
    "\n",
    "🔻 Mari kita lihat jumlah pegawai di tiap departemen menggunakan fungsi **`crosstab()`**"
   ]
  },
  {
   "cell_type": "markdown",
   "metadata": {},
   "source": [
    "💡 Tips: gunakan parameter `colnames=[None]` agar tidak muncul nama kolom di atas index"
   ]
  },
  {
   "cell_type": "code",
   "execution_count": 70,
   "metadata": {},
   "outputs": [
    {
     "data": {
      "text/html": [
       "<div>\n",
       "<style scoped>\n",
       "    .dataframe tbody tr th:only-of-type {\n",
       "        vertical-align: middle;\n",
       "    }\n",
       "\n",
       "    .dataframe tbody tr th {\n",
       "        vertical-align: top;\n",
       "    }\n",
       "\n",
       "    .dataframe thead th {\n",
       "        text-align: right;\n",
       "    }\n",
       "</style>\n",
       "<table border=\"1\" class=\"dataframe\">\n",
       "  <thead>\n",
       "    <tr style=\"text-align: right;\">\n",
       "      <th></th>\n",
       "      <th>Jumlah Pegawai</th>\n",
       "    </tr>\n",
       "    <tr>\n",
       "      <th>department_name</th>\n",
       "      <th></th>\n",
       "    </tr>\n",
       "  </thead>\n",
       "  <tbody>\n",
       "    <tr>\n",
       "      <th>Bakery</th>\n",
       "      <td>786</td>\n",
       "    </tr>\n",
       "    <tr>\n",
       "      <th>Customer Service</th>\n",
       "      <td>928</td>\n",
       "    </tr>\n",
       "    <tr>\n",
       "      <th>Dairy</th>\n",
       "      <td>842</td>\n",
       "    </tr>\n",
       "    <tr>\n",
       "      <th>Executive</th>\n",
       "      <td>10</td>\n",
       "    </tr>\n",
       "    <tr>\n",
       "      <th>Meats</th>\n",
       "      <td>875</td>\n",
       "    </tr>\n",
       "    <tr>\n",
       "      <th>Processed Foods</th>\n",
       "      <td>646</td>\n",
       "    </tr>\n",
       "    <tr>\n",
       "      <th>Produce</th>\n",
       "      <td>707</td>\n",
       "    </tr>\n",
       "    <tr>\n",
       "      <th>Recruitment</th>\n",
       "      <td>1</td>\n",
       "    </tr>\n",
       "    <tr>\n",
       "      <th>Store Management</th>\n",
       "      <td>4</td>\n",
       "    </tr>\n",
       "  </tbody>\n",
       "</table>\n",
       "</div>"
      ],
      "text/plain": [
       "                  Jumlah Pegawai\n",
       "department_name                 \n",
       "Bakery                       786\n",
       "Customer Service             928\n",
       "Dairy                        842\n",
       "Executive                     10\n",
       "Meats                        875\n",
       "Processed Foods              646\n",
       "Produce                      707\n",
       "Recruitment                    1\n",
       "Store Management               4"
      ]
     },
     "execution_count": 70,
     "metadata": {},
     "output_type": "execute_result"
    }
   ],
   "source": [
    "# code here\n",
    "dept = pd.crosstab(index = employ_merge['department_name'], columns = 'Jumlah Pegawai', colnames=[None])\n",
    "dept"
   ]
  },
  {
   "cell_type": "markdown",
   "metadata": {},
   "source": [
    "#### Sorting\n",
    "\n",
    "Mengurutkan nilai pada sebuah kolom menggunakan method `.sort_values()`, parameter:\n",
    "- `by`: nama kolom\n",
    "- `ascending=False`: mengurutkan nilai dari terbesar ke terkecil"
   ]
  },
  {
   "cell_type": "markdown",
   "metadata": {},
   "source": [
    "❓ Departemen apa yang memiliki jumlah karyawan paling banyak dan berapa frekuensinya?"
   ]
  },
  {
   "cell_type": "code",
   "execution_count": 106,
   "metadata": {},
   "outputs": [
    {
     "data": {
      "text/html": [
       "<div>\n",
       "<style scoped>\n",
       "    .dataframe tbody tr th:only-of-type {\n",
       "        vertical-align: middle;\n",
       "    }\n",
       "\n",
       "    .dataframe tbody tr th {\n",
       "        vertical-align: top;\n",
       "    }\n",
       "\n",
       "    .dataframe thead th {\n",
       "        text-align: right;\n",
       "    }\n",
       "</style>\n",
       "<table border=\"1\" class=\"dataframe\">\n",
       "  <thead>\n",
       "    <tr style=\"text-align: right;\">\n",
       "      <th></th>\n",
       "      <th>Jumlah Pegawai</th>\n",
       "    </tr>\n",
       "    <tr>\n",
       "      <th>department_name</th>\n",
       "      <th></th>\n",
       "    </tr>\n",
       "  </thead>\n",
       "  <tbody>\n",
       "    <tr>\n",
       "      <th>Recruitment</th>\n",
       "      <td>1</td>\n",
       "    </tr>\n",
       "    <tr>\n",
       "      <th>Store Management</th>\n",
       "      <td>4</td>\n",
       "    </tr>\n",
       "    <tr>\n",
       "      <th>Executive</th>\n",
       "      <td>10</td>\n",
       "    </tr>\n",
       "    <tr>\n",
       "      <th>Processed Foods</th>\n",
       "      <td>646</td>\n",
       "    </tr>\n",
       "    <tr>\n",
       "      <th>Produce</th>\n",
       "      <td>707</td>\n",
       "    </tr>\n",
       "    <tr>\n",
       "      <th>Bakery</th>\n",
       "      <td>786</td>\n",
       "    </tr>\n",
       "    <tr>\n",
       "      <th>Dairy</th>\n",
       "      <td>842</td>\n",
       "    </tr>\n",
       "    <tr>\n",
       "      <th>Meats</th>\n",
       "      <td>875</td>\n",
       "    </tr>\n",
       "    <tr>\n",
       "      <th>Customer Service</th>\n",
       "      <td>928</td>\n",
       "    </tr>\n",
       "  </tbody>\n",
       "</table>\n",
       "</div>"
      ],
      "text/plain": [
       "                  Jumlah Pegawai\n",
       "department_name                 \n",
       "Recruitment                    1\n",
       "Store Management               4\n",
       "Executive                     10\n",
       "Processed Foods              646\n",
       "Produce                      707\n",
       "Bakery                       786\n",
       "Dairy                        842\n",
       "Meats                        875\n",
       "Customer Service             928"
      ]
     },
     "execution_count": 106,
     "metadata": {},
     "output_type": "execute_result"
    }
   ],
   "source": [
    "# code here\n",
    "dept.sort_values(by='Jumlah Pegawai', ascending=False)"
   ]
  },
  {
   "cell_type": "markdown",
   "metadata": {},
   "source": [
    "❓ Dari data `employ_cs` (pegawai Customer Service), generasi apa dengan jumlah karyawan paling banyak dan berapa frekuensinya?"
   ]
  },
  {
   "cell_type": "code",
   "execution_count": 72,
   "metadata": {},
   "outputs": [
    {
     "data": {
      "text/html": [
       "<div>\n",
       "<style scoped>\n",
       "    .dataframe tbody tr th:only-of-type {\n",
       "        vertical-align: middle;\n",
       "    }\n",
       "\n",
       "    .dataframe tbody tr th {\n",
       "        vertical-align: top;\n",
       "    }\n",
       "\n",
       "    .dataframe thead th {\n",
       "        text-align: right;\n",
       "    }\n",
       "</style>\n",
       "<table border=\"1\" class=\"dataframe\">\n",
       "  <thead>\n",
       "    <tr style=\"text-align: right;\">\n",
       "      <th></th>\n",
       "      <th>EmployeeID</th>\n",
       "      <th>NIK</th>\n",
       "      <th>orighiredate_key</th>\n",
       "      <th>department_name</th>\n",
       "      <th>job_title</th>\n",
       "      <th>BUSINESS_UNIT</th>\n",
       "      <th>province</th>\n",
       "      <th>city</th>\n",
       "      <th>district</th>\n",
       "      <th>gender</th>\n",
       "      <th>birth_datetime</th>\n",
       "      <th>birthday</th>\n",
       "      <th>age</th>\n",
       "      <th>regist_code</th>\n",
       "      <th>join_year</th>\n",
       "      <th>birth_year</th>\n",
       "      <th>generation</th>\n",
       "    </tr>\n",
       "  </thead>\n",
       "  <tbody>\n",
       "    <tr>\n",
       "      <th>17</th>\n",
       "      <td>1710</td>\n",
       "      <td>7326152401510019</td>\n",
       "      <td>1990-09-29</td>\n",
       "      <td>Customer Service</td>\n",
       "      <td>Customer Service Manager</td>\n",
       "      <td>STORES</td>\n",
       "      <td>SULAWESI SELATAN</td>\n",
       "      <td>KAB. TORAJA UTARA</td>\n",
       "      <td>Kesu</td>\n",
       "      <td>Male</td>\n",
       "      <td>1951-01-24</td>\n",
       "      <td>24 January 1951</td>\n",
       "      <td>72</td>\n",
       "      <td>19</td>\n",
       "      <td>1990</td>\n",
       "      <td>1951</td>\n",
       "      <td>Boomers</td>\n",
       "    </tr>\n",
       "    <tr>\n",
       "      <th>30</th>\n",
       "      <td>1734</td>\n",
       "      <td>7318015303510010</td>\n",
       "      <td>1990-10-25</td>\n",
       "      <td>Customer Service</td>\n",
       "      <td>Customer Service Manager</td>\n",
       "      <td>STORES</td>\n",
       "      <td>SULAWESI SELATAN</td>\n",
       "      <td>KAB. TANA TORAJA</td>\n",
       "      <td>Saluputi</td>\n",
       "      <td>Female</td>\n",
       "      <td>1951-03-13</td>\n",
       "      <td>13 March 1951</td>\n",
       "      <td>72</td>\n",
       "      <td>10</td>\n",
       "      <td>1990</td>\n",
       "      <td>1951</td>\n",
       "      <td>Boomers</td>\n",
       "    </tr>\n",
       "    <tr>\n",
       "      <th>31</th>\n",
       "      <td>1735</td>\n",
       "      <td>7403341503510005</td>\n",
       "      <td>1990-10-26</td>\n",
       "      <td>Customer Service</td>\n",
       "      <td>Customer Service Manager</td>\n",
       "      <td>STORES</td>\n",
       "      <td>SULAWESI TENGGARA</td>\n",
       "      <td>KAB. MUNA</td>\n",
       "      <td>Batukara</td>\n",
       "      <td>Male</td>\n",
       "      <td>1951-03-15</td>\n",
       "      <td>15 March 1951</td>\n",
       "      <td>72</td>\n",
       "      <td>5</td>\n",
       "      <td>1990</td>\n",
       "      <td>1951</td>\n",
       "      <td>Boomers</td>\n",
       "    </tr>\n",
       "    <tr>\n",
       "      <th>54</th>\n",
       "      <td>1776</td>\n",
       "      <td>5319071806510012</td>\n",
       "      <td>1990-12-15</td>\n",
       "      <td>Customer Service</td>\n",
       "      <td>Customer Service Manager</td>\n",
       "      <td>STORES</td>\n",
       "      <td>NUSA TENGGARA TIMUR</td>\n",
       "      <td>KAB. MANGGARAI TIMUR</td>\n",
       "      <td>Rana Mese</td>\n",
       "      <td>Male</td>\n",
       "      <td>1951-06-18</td>\n",
       "      <td>18 June 1951</td>\n",
       "      <td>72</td>\n",
       "      <td>12</td>\n",
       "      <td>1990</td>\n",
       "      <td>1951</td>\n",
       "      <td>Boomers</td>\n",
       "    </tr>\n",
       "    <tr>\n",
       "      <th>61</th>\n",
       "      <td>1794</td>\n",
       "      <td>3210082107510003</td>\n",
       "      <td>1991-01-01</td>\n",
       "      <td>Customer Service</td>\n",
       "      <td>Customer Service Manager</td>\n",
       "      <td>STORES</td>\n",
       "      <td>JAWA BARAT</td>\n",
       "      <td>KAB. MAJALENGKA</td>\n",
       "      <td>Sukahaji</td>\n",
       "      <td>Male</td>\n",
       "      <td>1951-07-21</td>\n",
       "      <td>21 July 1951</td>\n",
       "      <td>72</td>\n",
       "      <td>3</td>\n",
       "      <td>1991</td>\n",
       "      <td>1951</td>\n",
       "      <td>Boomers</td>\n",
       "    </tr>\n",
       "  </tbody>\n",
       "</table>\n",
       "</div>"
      ],
      "text/plain": [
       "   EmployeeID               NIK orighiredate_key   department_name  \\\n",
       "17       1710  7326152401510019       1990-09-29  Customer Service   \n",
       "30       1734  7318015303510010       1990-10-25  Customer Service   \n",
       "31       1735  7403341503510005       1990-10-26  Customer Service   \n",
       "54       1776  5319071806510012       1990-12-15  Customer Service   \n",
       "61       1794  3210082107510003       1991-01-01  Customer Service   \n",
       "\n",
       "                   job_title BUSINESS_UNIT             province  \\\n",
       "17  Customer Service Manager        STORES     SULAWESI SELATAN   \n",
       "30  Customer Service Manager        STORES     SULAWESI SELATAN   \n",
       "31  Customer Service Manager        STORES    SULAWESI TENGGARA   \n",
       "54  Customer Service Manager        STORES  NUSA TENGGARA TIMUR   \n",
       "61  Customer Service Manager        STORES           JAWA BARAT   \n",
       "\n",
       "                    city   district  gender birth_datetime         birthday  \\\n",
       "17     KAB. TORAJA UTARA       Kesu    Male     1951-01-24  24 January 1951   \n",
       "30      KAB. TANA TORAJA   Saluputi  Female     1951-03-13    13 March 1951   \n",
       "31             KAB. MUNA   Batukara    Male     1951-03-15    15 March 1951   \n",
       "54  KAB. MANGGARAI TIMUR  Rana Mese    Male     1951-06-18     18 June 1951   \n",
       "61       KAB. MAJALENGKA   Sukahaji    Male     1951-07-21     21 July 1951   \n",
       "\n",
       "    age  regist_code  join_year  birth_year generation  \n",
       "17   72           19       1990        1951    Boomers  \n",
       "30   72           10       1990        1951    Boomers  \n",
       "31   72            5       1990        1951    Boomers  \n",
       "54   72           12       1990        1951    Boomers  \n",
       "61   72            3       1991        1951    Boomers  "
      ]
     },
     "execution_count": 72,
     "metadata": {},
     "output_type": "execute_result"
    }
   ],
   "source": [
    "employ_cs.head()"
   ]
  },
  {
   "cell_type": "code",
   "execution_count": 73,
   "metadata": {},
   "outputs": [
    {
     "data": {
      "text/html": [
       "<div>\n",
       "<style scoped>\n",
       "    .dataframe tbody tr th:only-of-type {\n",
       "        vertical-align: middle;\n",
       "    }\n",
       "\n",
       "    .dataframe tbody tr th {\n",
       "        vertical-align: top;\n",
       "    }\n",
       "\n",
       "    .dataframe thead th {\n",
       "        text-align: right;\n",
       "    }\n",
       "</style>\n",
       "<table border=\"1\" class=\"dataframe\">\n",
       "  <thead>\n",
       "    <tr style=\"text-align: right;\">\n",
       "      <th></th>\n",
       "      <th>num_people</th>\n",
       "    </tr>\n",
       "    <tr>\n",
       "      <th>generation</th>\n",
       "      <th></th>\n",
       "    </tr>\n",
       "  </thead>\n",
       "  <tbody>\n",
       "    <tr>\n",
       "      <th>Boomers</th>\n",
       "      <td>59</td>\n",
       "    </tr>\n",
       "    <tr>\n",
       "      <th>Gen. X</th>\n",
       "      <td>203</td>\n",
       "    </tr>\n",
       "    <tr>\n",
       "      <th>Gen. Y (Millenials)</th>\n",
       "      <td>666</td>\n",
       "    </tr>\n",
       "  </tbody>\n",
       "</table>\n",
       "</div>"
      ],
      "text/plain": [
       "                     num_people\n",
       "generation                     \n",
       "Boomers                      59\n",
       "Gen. X                      203\n",
       "Gen. Y (Millenials)         666"
      ]
     },
     "execution_count": 73,
     "metadata": {},
     "output_type": "execute_result"
    }
   ],
   "source": [
    "df_gen = pd.crosstab(index=employ_cs['generation'], columns='num_people', colnames=[None])\n",
    "df_gen"
   ]
  },
  {
   "cell_type": "markdown",
   "metadata": {},
   "source": [
    "❓ Bagaimana jumlah karyawan pada 5 tahun pertama?"
   ]
  },
  {
   "cell_type": "code",
   "execution_count": 74,
   "metadata": {},
   "outputs": [
    {
     "data": {
      "text/html": [
       "<div>\n",
       "<style scoped>\n",
       "    .dataframe tbody tr th:only-of-type {\n",
       "        vertical-align: middle;\n",
       "    }\n",
       "\n",
       "    .dataframe tbody tr th {\n",
       "        vertical-align: top;\n",
       "    }\n",
       "\n",
       "    .dataframe thead th {\n",
       "        text-align: right;\n",
       "    }\n",
       "</style>\n",
       "<table border=\"1\" class=\"dataframe\">\n",
       "  <thead>\n",
       "    <tr style=\"text-align: right;\">\n",
       "      <th></th>\n",
       "      <th>join_count</th>\n",
       "    </tr>\n",
       "    <tr>\n",
       "      <th>join_year</th>\n",
       "      <th></th>\n",
       "    </tr>\n",
       "  </thead>\n",
       "  <tbody>\n",
       "    <tr>\n",
       "      <th>1989</th>\n",
       "      <td>14</td>\n",
       "    </tr>\n",
       "    <tr>\n",
       "      <th>1990</th>\n",
       "      <td>47</td>\n",
       "    </tr>\n",
       "    <tr>\n",
       "      <th>1991</th>\n",
       "      <td>187</td>\n",
       "    </tr>\n",
       "    <tr>\n",
       "      <th>1992</th>\n",
       "      <td>215</td>\n",
       "    </tr>\n",
       "    <tr>\n",
       "      <th>1993</th>\n",
       "      <td>216</td>\n",
       "    </tr>\n",
       "  </tbody>\n",
       "</table>\n",
       "</div>"
      ],
      "text/plain": [
       "           join_count\n",
       "join_year            \n",
       "1989               14\n",
       "1990               47\n",
       "1991              187\n",
       "1992              215\n",
       "1993              216"
      ]
     },
     "execution_count": 74,
     "metadata": {},
     "output_type": "execute_result"
    }
   ],
   "source": [
    "df_join = pd.crosstab(index=employ_merge['join_year'],\n",
    "                       columns='join_count', \n",
    "                       colnames=[None])\n",
    "df_join.head()"
   ]
  },
  {
   "cell_type": "markdown",
   "metadata": {},
   "source": [
    "#### Frequency of 2 Variables\n",
    "\n",
    "Sebelumnya kita telah menghitung frekuensi dari satu kolom kategorik. Bagaimana jika kita ingin melihat frekuensi dari dua data kategorik?\n",
    "\n",
    "🔻 Dari tiap BUSINESS UNIT, berapa jumlah pegawai untuk tiap gender?"
   ]
  },
  {
   "cell_type": "code",
   "execution_count": 75,
   "metadata": {},
   "outputs": [
    {
     "data": {
      "text/html": [
       "<div>\n",
       "<style scoped>\n",
       "    .dataframe tbody tr th:only-of-type {\n",
       "        vertical-align: middle;\n",
       "    }\n",
       "\n",
       "    .dataframe tbody tr th {\n",
       "        vertical-align: top;\n",
       "    }\n",
       "\n",
       "    .dataframe thead th {\n",
       "        text-align: right;\n",
       "    }\n",
       "</style>\n",
       "<table border=\"1\" class=\"dataframe\">\n",
       "  <thead>\n",
       "    <tr style=\"text-align: right;\">\n",
       "      <th></th>\n",
       "      <th>Female</th>\n",
       "      <th>Male</th>\n",
       "    </tr>\n",
       "    <tr>\n",
       "      <th>BUSINESS_UNIT</th>\n",
       "      <th></th>\n",
       "      <th></th>\n",
       "    </tr>\n",
       "  </thead>\n",
       "  <tbody>\n",
       "    <tr>\n",
       "      <th>HEADOFFICE</th>\n",
       "      <td>6</td>\n",
       "      <td>5</td>\n",
       "    </tr>\n",
       "    <tr>\n",
       "      <th>STORES</th>\n",
       "      <td>2357</td>\n",
       "      <td>2431</td>\n",
       "    </tr>\n",
       "  </tbody>\n",
       "</table>\n",
       "</div>"
      ],
      "text/plain": [
       "               Female  Male\n",
       "BUSINESS_UNIT              \n",
       "HEADOFFICE          6     5\n",
       "STORES           2357  2431"
      ]
     },
     "execution_count": 75,
     "metadata": {},
     "output_type": "execute_result"
    }
   ],
   "source": [
    "pd.crosstab(index=employ_merge['BUSINESS_UNIT'],\n",
    "            columns=employ_merge['gender'], colnames=[None])"
   ]
  },
  {
   "cell_type": "markdown",
   "metadata": {},
   "source": [
    "❓ Pada tiap provinsi, berapa jumlah pegawai untuk tiap gender?"
   ]
  },
  {
   "cell_type": "code",
   "execution_count": 76,
   "metadata": {},
   "outputs": [
    {
     "data": {
      "text/html": [
       "<div>\n",
       "<style scoped>\n",
       "    .dataframe tbody tr th:only-of-type {\n",
       "        vertical-align: middle;\n",
       "    }\n",
       "\n",
       "    .dataframe tbody tr th {\n",
       "        vertical-align: top;\n",
       "    }\n",
       "\n",
       "    .dataframe thead th {\n",
       "        text-align: right;\n",
       "    }\n",
       "</style>\n",
       "<table border=\"1\" class=\"dataframe\">\n",
       "  <thead>\n",
       "    <tr style=\"text-align: right;\">\n",
       "      <th></th>\n",
       "      <th>Female</th>\n",
       "      <th>Male</th>\n",
       "    </tr>\n",
       "    <tr>\n",
       "      <th>province</th>\n",
       "      <th></th>\n",
       "      <th></th>\n",
       "    </tr>\n",
       "  </thead>\n",
       "  <tbody>\n",
       "    <tr>\n",
       "      <th>ACEH</th>\n",
       "      <td>91</td>\n",
       "      <td>109</td>\n",
       "    </tr>\n",
       "    <tr>\n",
       "      <th>BALI</th>\n",
       "      <td>17</td>\n",
       "      <td>12</td>\n",
       "    </tr>\n",
       "    <tr>\n",
       "      <th>BANTEN</th>\n",
       "      <td>62</td>\n",
       "      <td>56</td>\n",
       "    </tr>\n",
       "    <tr>\n",
       "      <th>BENGKULU</th>\n",
       "      <td>37</td>\n",
       "      <td>42</td>\n",
       "    </tr>\n",
       "    <tr>\n",
       "      <th>DAERAH ISTIMEWA YOGYAKARTA</th>\n",
       "      <td>24</td>\n",
       "      <td>26</td>\n",
       "    </tr>\n",
       "    <tr>\n",
       "      <th>DKI JAKARTA</th>\n",
       "      <td>18</td>\n",
       "      <td>20</td>\n",
       "    </tr>\n",
       "    <tr>\n",
       "      <th>GORONTALO</th>\n",
       "      <td>36</td>\n",
       "      <td>27</td>\n",
       "    </tr>\n",
       "    <tr>\n",
       "      <th>JAMBI</th>\n",
       "      <td>39</td>\n",
       "      <td>40</td>\n",
       "    </tr>\n",
       "    <tr>\n",
       "      <th>JAWA BARAT</th>\n",
       "      <td>191</td>\n",
       "      <td>221</td>\n",
       "    </tr>\n",
       "    <tr>\n",
       "      <th>JAWA TENGAH</th>\n",
       "      <td>166</td>\n",
       "      <td>193</td>\n",
       "    </tr>\n",
       "    <tr>\n",
       "      <th>JAWA TIMUR</th>\n",
       "      <td>207</td>\n",
       "      <td>223</td>\n",
       "    </tr>\n",
       "    <tr>\n",
       "      <th>KALIMANTAN BARAT</th>\n",
       "      <td>68</td>\n",
       "      <td>58</td>\n",
       "    </tr>\n",
       "    <tr>\n",
       "      <th>KALIMANTAN SELATAN</th>\n",
       "      <td>50</td>\n",
       "      <td>61</td>\n",
       "    </tr>\n",
       "    <tr>\n",
       "      <th>KALIMANTAN TENGAH</th>\n",
       "      <td>56</td>\n",
       "      <td>36</td>\n",
       "    </tr>\n",
       "    <tr>\n",
       "      <th>KALIMANTAN TIMUR</th>\n",
       "      <td>28</td>\n",
       "      <td>32</td>\n",
       "    </tr>\n",
       "    <tr>\n",
       "      <th>KALIMANTAN UTARA</th>\n",
       "      <td>19</td>\n",
       "      <td>21</td>\n",
       "    </tr>\n",
       "    <tr>\n",
       "      <th>KEPULAUAN BANGKA BELITUNG</th>\n",
       "      <td>14</td>\n",
       "      <td>14</td>\n",
       "    </tr>\n",
       "    <tr>\n",
       "      <th>KEPULAUAN RIAU</th>\n",
       "      <td>22</td>\n",
       "      <td>27</td>\n",
       "    </tr>\n",
       "    <tr>\n",
       "      <th>LAMPUNG</th>\n",
       "      <td>96</td>\n",
       "      <td>82</td>\n",
       "    </tr>\n",
       "    <tr>\n",
       "      <th>MALUKU</th>\n",
       "      <td>43</td>\n",
       "      <td>40</td>\n",
       "    </tr>\n",
       "    <tr>\n",
       "      <th>MALUKU UTARA</th>\n",
       "      <td>42</td>\n",
       "      <td>37</td>\n",
       "    </tr>\n",
       "    <tr>\n",
       "      <th>NUSA TENGGARA BARAT</th>\n",
       "      <td>50</td>\n",
       "      <td>44</td>\n",
       "    </tr>\n",
       "    <tr>\n",
       "      <th>NUSA TENGGARA TIMUR</th>\n",
       "      <td>87</td>\n",
       "      <td>112</td>\n",
       "    </tr>\n",
       "    <tr>\n",
       "      <th>PAPUA</th>\n",
       "      <td>180</td>\n",
       "      <td>190</td>\n",
       "    </tr>\n",
       "    <tr>\n",
       "      <th>PAPUA BARAT</th>\n",
       "      <td>64</td>\n",
       "      <td>69</td>\n",
       "    </tr>\n",
       "    <tr>\n",
       "      <th>RIAU</th>\n",
       "      <td>45</td>\n",
       "      <td>43</td>\n",
       "    </tr>\n",
       "    <tr>\n",
       "      <th>SULAWESI BARAT</th>\n",
       "      <td>27</td>\n",
       "      <td>35</td>\n",
       "    </tr>\n",
       "    <tr>\n",
       "      <th>SULAWESI SELATAN</th>\n",
       "      <td>100</td>\n",
       "      <td>98</td>\n",
       "    </tr>\n",
       "    <tr>\n",
       "      <th>SULAWESI TENGAH</th>\n",
       "      <td>42</td>\n",
       "      <td>57</td>\n",
       "    </tr>\n",
       "    <tr>\n",
       "      <th>SULAWESI TENGGARA</th>\n",
       "      <td>85</td>\n",
       "      <td>73</td>\n",
       "    </tr>\n",
       "    <tr>\n",
       "      <th>SULAWESI UTARA</th>\n",
       "      <td>67</td>\n",
       "      <td>69</td>\n",
       "    </tr>\n",
       "    <tr>\n",
       "      <th>SUMATERA BARAT</th>\n",
       "      <td>70</td>\n",
       "      <td>53</td>\n",
       "    </tr>\n",
       "    <tr>\n",
       "      <th>SUMATERA SELATAN</th>\n",
       "      <td>76</td>\n",
       "      <td>73</td>\n",
       "    </tr>\n",
       "    <tr>\n",
       "      <th>SUMATERA UTARA</th>\n",
       "      <td>144</td>\n",
       "      <td>143</td>\n",
       "    </tr>\n",
       "  </tbody>\n",
       "</table>\n",
       "</div>"
      ],
      "text/plain": [
       "                            Female  Male\n",
       "province                                \n",
       "ACEH                            91   109\n",
       "BALI                            17    12\n",
       "BANTEN                          62    56\n",
       "BENGKULU                        37    42\n",
       "DAERAH ISTIMEWA YOGYAKARTA      24    26\n",
       "DKI JAKARTA                     18    20\n",
       "GORONTALO                       36    27\n",
       "JAMBI                           39    40\n",
       "JAWA BARAT                     191   221\n",
       "JAWA TENGAH                    166   193\n",
       "JAWA TIMUR                     207   223\n",
       "KALIMANTAN BARAT                68    58\n",
       "KALIMANTAN SELATAN              50    61\n",
       "KALIMANTAN TENGAH               56    36\n",
       "KALIMANTAN TIMUR                28    32\n",
       "KALIMANTAN UTARA                19    21\n",
       "KEPULAUAN BANGKA BELITUNG       14    14\n",
       "KEPULAUAN RIAU                  22    27\n",
       "LAMPUNG                         96    82\n",
       "MALUKU                          43    40\n",
       "MALUKU UTARA                    42    37\n",
       "NUSA TENGGARA BARAT             50    44\n",
       "NUSA TENGGARA TIMUR             87   112\n",
       "PAPUA                          180   190\n",
       "PAPUA BARAT                     64    69\n",
       "RIAU                            45    43\n",
       "SULAWESI BARAT                  27    35\n",
       "SULAWESI SELATAN               100    98\n",
       "SULAWESI TENGAH                 42    57\n",
       "SULAWESI TENGGARA               85    73\n",
       "SULAWESI UTARA                  67    69\n",
       "SUMATERA BARAT                  70    53\n",
       "SUMATERA SELATAN                76    73\n",
       "SUMATERA UTARA                 144   143"
      ]
     },
     "execution_count": 76,
     "metadata": {},
     "output_type": "execute_result"
    }
   ],
   "source": [
    "prov_gender = pd.crosstab(index=employ_merge['province'],\n",
    "                        columns=employ_merge['gender'], colnames=[None])\n",
    "prov_gender"
   ]
  },
  {
   "cell_type": "markdown",
   "metadata": {},
   "source": [
    "❓ Dari pegawai yang berusia 20 - 50 tahun (data `employ_age`), untuk tiap departemen, berapa jumlah pegawai untuk tiap gender?"
   ]
  },
  {
   "cell_type": "code",
   "execution_count": 77,
   "metadata": {},
   "outputs": [
    {
     "data": {
      "text/html": [
       "<div>\n",
       "<style scoped>\n",
       "    .dataframe tbody tr th:only-of-type {\n",
       "        vertical-align: middle;\n",
       "    }\n",
       "\n",
       "    .dataframe tbody tr th {\n",
       "        vertical-align: top;\n",
       "    }\n",
       "\n",
       "    .dataframe thead th {\n",
       "        text-align: right;\n",
       "    }\n",
       "</style>\n",
       "<table border=\"1\" class=\"dataframe\">\n",
       "  <thead>\n",
       "    <tr style=\"text-align: right;\">\n",
       "      <th></th>\n",
       "      <th>Female</th>\n",
       "      <th>Male</th>\n",
       "    </tr>\n",
       "    <tr>\n",
       "      <th>department_name</th>\n",
       "      <th></th>\n",
       "      <th></th>\n",
       "    </tr>\n",
       "  </thead>\n",
       "  <tbody>\n",
       "    <tr>\n",
       "      <th>Bakery</th>\n",
       "      <td>127</td>\n",
       "      <td>124</td>\n",
       "    </tr>\n",
       "    <tr>\n",
       "      <th>Customer Service</th>\n",
       "      <td>365</td>\n",
       "      <td>365</td>\n",
       "    </tr>\n",
       "    <tr>\n",
       "      <th>Dairy</th>\n",
       "      <td>309</td>\n",
       "      <td>354</td>\n",
       "    </tr>\n",
       "    <tr>\n",
       "      <th>Meats</th>\n",
       "      <td>38</td>\n",
       "      <td>60</td>\n",
       "    </tr>\n",
       "    <tr>\n",
       "      <th>Processed Foods</th>\n",
       "      <td>235</td>\n",
       "      <td>277</td>\n",
       "    </tr>\n",
       "    <tr>\n",
       "      <th>Produce</th>\n",
       "      <td>75</td>\n",
       "      <td>55</td>\n",
       "    </tr>\n",
       "  </tbody>\n",
       "</table>\n",
       "</div>"
      ],
      "text/plain": [
       "                  Female  Male\n",
       "department_name               \n",
       "Bakery               127   124\n",
       "Customer Service     365   365\n",
       "Dairy                309   354\n",
       "Meats                 38    60\n",
       "Processed Foods      235   277\n",
       "Produce               75    55"
      ]
     },
     "execution_count": 77,
     "metadata": {},
     "output_type": "execute_result"
    }
   ],
   "source": [
    "dept_gender = pd.crosstab(index=employ_age['department_name'],\n",
    "                          columns=employ_age['gender'],\n",
    "                          colnames=[None])\n",
    "dept_gender"
   ]
  },
  {
   "cell_type": "markdown",
   "metadata": {},
   "source": [
    "# Visualization"
   ]
  },
  {
   "cell_type": "markdown",
   "metadata": {},
   "source": [
    "## Types of Visualization\n",
    "\n",
    "Ketika kita akan membuat visualisasi, jenis plot yang kita pilih harus sesuai dengan tujuan komunikasi yang ingin kita capai\n",
    "-   **Distribusi**: histogram, boxplot\n",
    "-   **Korelasi**: scatterplot\n",
    "-   **Ranking**: barplot\n",
    "-   **Trend/Evolusi**: line plot\n",
    "-   **Wilayah**: map plot\n",
    "\n",
    "Good Reference: [data-to-viz](https://www.data-to-viz.com/)"
   ]
  },
  {
   "cell_type": "markdown",
   "metadata": {},
   "source": [
    "## Interactive Visualization\n",
    "\n",
    "**Plot interaktif** adalah visualisasi data yang memungkinkan pengguna untuk berinteraksi dengan data yang ditampilkan, seperti *zoom in* dan *out*, *panning* (menggeser plot), dan hovering (mengarahkan kursor ke titik data). \n",
    "\n",
    "**Plotly Express**, sebagai library visualisasi data yang kuat, menyediakan fungsi-fungsi yang sederhana dan intuitif untuk membuat plot interaktif. Dengan sintaks yang sederhana dan fitur yang kaya, Plotly Express memungkinkan pengguna untuk membuat visualisasi yang menarik secara efektif."
   ]
  },
  {
   "cell_type": "markdown",
   "metadata": {},
   "source": [
    "### Line Plot: Joining Frequency over Time\n",
    "\n",
    "Kita akan membuat sebuah line plot yang menggambarkan pergerakan jumlah pegawai yang bergabung dengan perusahaan kita per tahunnya, mulai dari awal mula perusahaan ini berdiri hingga saat ini. Untuk itu, mari kita gunakan data `df_join` "
   ]
  },
  {
   "cell_type": "code",
   "execution_count": 78,
   "metadata": {},
   "outputs": [
    {
     "data": {
      "text/html": [
       "<div>\n",
       "<style scoped>\n",
       "    .dataframe tbody tr th:only-of-type {\n",
       "        vertical-align: middle;\n",
       "    }\n",
       "\n",
       "    .dataframe tbody tr th {\n",
       "        vertical-align: top;\n",
       "    }\n",
       "\n",
       "    .dataframe thead th {\n",
       "        text-align: right;\n",
       "    }\n",
       "</style>\n",
       "<table border=\"1\" class=\"dataframe\">\n",
       "  <thead>\n",
       "    <tr style=\"text-align: right;\">\n",
       "      <th></th>\n",
       "      <th>join_count</th>\n",
       "    </tr>\n",
       "    <tr>\n",
       "      <th>join_year</th>\n",
       "      <th></th>\n",
       "    </tr>\n",
       "  </thead>\n",
       "  <tbody>\n",
       "    <tr>\n",
       "      <th>1989</th>\n",
       "      <td>14</td>\n",
       "    </tr>\n",
       "    <tr>\n",
       "      <th>1990</th>\n",
       "      <td>47</td>\n",
       "    </tr>\n",
       "    <tr>\n",
       "      <th>1991</th>\n",
       "      <td>187</td>\n",
       "    </tr>\n",
       "    <tr>\n",
       "      <th>1992</th>\n",
       "      <td>215</td>\n",
       "    </tr>\n",
       "    <tr>\n",
       "      <th>1993</th>\n",
       "      <td>216</td>\n",
       "    </tr>\n",
       "  </tbody>\n",
       "</table>\n",
       "</div>"
      ],
      "text/plain": [
       "           join_count\n",
       "join_year            \n",
       "1989               14\n",
       "1990               47\n",
       "1991              187\n",
       "1992              215\n",
       "1993              216"
      ]
     },
     "execution_count": 78,
     "metadata": {},
     "output_type": "execute_result"
    }
   ],
   "source": [
    "# head\n",
    "df_join.head()"
   ]
  },
  {
   "cell_type": "markdown",
   "metadata": {},
   "source": [
    "Dalam sebuah DataFrame, bagian paling kiri merupakan **index**. Dari data kita, dapat dilihat bahwa `join_year` merupakan index, **bukan sebuah kolom**. Bentuk DataFrame seperti ini tidak dapat digunakan untuk visualisasi, oleh karena itu kita perlu melakukan `.reset_index()`, untuk mengubah index menjadi kolom."
   ]
  },
  {
   "cell_type": "code",
   "execution_count": 79,
   "metadata": {},
   "outputs": [
    {
     "data": {
      "text/html": [
       "<div>\n",
       "<style scoped>\n",
       "    .dataframe tbody tr th:only-of-type {\n",
       "        vertical-align: middle;\n",
       "    }\n",
       "\n",
       "    .dataframe tbody tr th {\n",
       "        vertical-align: top;\n",
       "    }\n",
       "\n",
       "    .dataframe thead th {\n",
       "        text-align: right;\n",
       "    }\n",
       "</style>\n",
       "<table border=\"1\" class=\"dataframe\">\n",
       "  <thead>\n",
       "    <tr style=\"text-align: right;\">\n",
       "      <th></th>\n",
       "      <th>join_year</th>\n",
       "      <th>join_count</th>\n",
       "    </tr>\n",
       "  </thead>\n",
       "  <tbody>\n",
       "    <tr>\n",
       "      <th>0</th>\n",
       "      <td>1989</td>\n",
       "      <td>14</td>\n",
       "    </tr>\n",
       "    <tr>\n",
       "      <th>1</th>\n",
       "      <td>1990</td>\n",
       "      <td>47</td>\n",
       "    </tr>\n",
       "    <tr>\n",
       "      <th>2</th>\n",
       "      <td>1991</td>\n",
       "      <td>187</td>\n",
       "    </tr>\n",
       "    <tr>\n",
       "      <th>3</th>\n",
       "      <td>1992</td>\n",
       "      <td>215</td>\n",
       "    </tr>\n",
       "    <tr>\n",
       "      <th>4</th>\n",
       "      <td>1993</td>\n",
       "      <td>216</td>\n",
       "    </tr>\n",
       "  </tbody>\n",
       "</table>\n",
       "</div>"
      ],
      "text/plain": [
       "   join_year  join_count\n",
       "0       1989          14\n",
       "1       1990          47\n",
       "2       1991         187\n",
       "3       1992         215\n",
       "4       1993         216"
      ]
     },
     "execution_count": 79,
     "metadata": {},
     "output_type": "execute_result"
    }
   ],
   "source": [
    "# reset index\n",
    "df_join = df_join.reset_index()\n",
    "df_join.head()"
   ]
  },
  {
   "cell_type": "markdown",
   "metadata": {},
   "source": [
    "Setelah mempersiapkan data, kita dapat membuat visualisasi interaktif. Untuk membuat line plot, kita dapat menggunakan fungsi `.line()`, dengan parameter:\n",
    "- `data_frame`: dataframe yang digunakan\n",
    "- `x`: kolom untuk sumbu x\n",
    "- `y`: kolom untuk sumbu y\n",
    "- `markers`: (`True`/`False`) memunculkan titik data\n",
    "- `labels`: custom label sesuai nama kolom"
   ]
  },
  {
   "cell_type": "code",
   "execution_count": 80,
   "metadata": {},
   "outputs": [
    {
     "data": {
      "application/vnd.plotly.v1+json": {
       "config": {
        "plotlyServerURL": "https://plot.ly"
       },
       "data": [
        {
         "hovertemplate": "Year=%{x}<br>Employee Joining=%{y}<extra></extra>",
         "legendgroup": "",
         "line": {
          "color": "#636efa",
          "dash": "solid"
         },
         "marker": {
          "symbol": "circle"
         },
         "mode": "markers+lines",
         "name": "",
         "orientation": "v",
         "showlegend": false,
         "type": "scatter",
         "x": [
          1989,
          1990,
          1991,
          1992,
          1993,
          1994,
          1995,
          1996,
          1997,
          1998,
          1999,
          2000,
          2001,
          2002,
          2003,
          2004,
          2005,
          2006,
          2007,
          2008,
          2009,
          2010,
          2011,
          2012,
          2013
         ],
         "xaxis": "x",
         "y": [
          14,
          47,
          187,
          215,
          216,
          208,
          237,
          204,
          219,
          214,
          179,
          229,
          194,
          215,
          204,
          196,
          237,
          209,
          177,
          191,
          204,
          205,
          207,
          223,
          168
         ],
         "yaxis": "y"
        }
       ],
       "layout": {
        "legend": {
         "tracegroupgap": 0
        },
        "margin": {
         "t": 60
        },
        "template": {
         "data": {
          "bar": [
           {
            "error_x": {
             "color": "#2a3f5f"
            },
            "error_y": {
             "color": "#2a3f5f"
            },
            "marker": {
             "line": {
              "color": "#E5ECF6",
              "width": 0.5
             },
             "pattern": {
              "fillmode": "overlay",
              "size": 10,
              "solidity": 0.2
             }
            },
            "type": "bar"
           }
          ],
          "barpolar": [
           {
            "marker": {
             "line": {
              "color": "#E5ECF6",
              "width": 0.5
             },
             "pattern": {
              "fillmode": "overlay",
              "size": 10,
              "solidity": 0.2
             }
            },
            "type": "barpolar"
           }
          ],
          "carpet": [
           {
            "aaxis": {
             "endlinecolor": "#2a3f5f",
             "gridcolor": "white",
             "linecolor": "white",
             "minorgridcolor": "white",
             "startlinecolor": "#2a3f5f"
            },
            "baxis": {
             "endlinecolor": "#2a3f5f",
             "gridcolor": "white",
             "linecolor": "white",
             "minorgridcolor": "white",
             "startlinecolor": "#2a3f5f"
            },
            "type": "carpet"
           }
          ],
          "choropleth": [
           {
            "colorbar": {
             "outlinewidth": 0,
             "ticks": ""
            },
            "type": "choropleth"
           }
          ],
          "contour": [
           {
            "colorbar": {
             "outlinewidth": 0,
             "ticks": ""
            },
            "colorscale": [
             [
              0,
              "#0d0887"
             ],
             [
              0.1111111111111111,
              "#46039f"
             ],
             [
              0.2222222222222222,
              "#7201a8"
             ],
             [
              0.3333333333333333,
              "#9c179e"
             ],
             [
              0.4444444444444444,
              "#bd3786"
             ],
             [
              0.5555555555555556,
              "#d8576b"
             ],
             [
              0.6666666666666666,
              "#ed7953"
             ],
             [
              0.7777777777777778,
              "#fb9f3a"
             ],
             [
              0.8888888888888888,
              "#fdca26"
             ],
             [
              1,
              "#f0f921"
             ]
            ],
            "type": "contour"
           }
          ],
          "contourcarpet": [
           {
            "colorbar": {
             "outlinewidth": 0,
             "ticks": ""
            },
            "type": "contourcarpet"
           }
          ],
          "heatmap": [
           {
            "colorbar": {
             "outlinewidth": 0,
             "ticks": ""
            },
            "colorscale": [
             [
              0,
              "#0d0887"
             ],
             [
              0.1111111111111111,
              "#46039f"
             ],
             [
              0.2222222222222222,
              "#7201a8"
             ],
             [
              0.3333333333333333,
              "#9c179e"
             ],
             [
              0.4444444444444444,
              "#bd3786"
             ],
             [
              0.5555555555555556,
              "#d8576b"
             ],
             [
              0.6666666666666666,
              "#ed7953"
             ],
             [
              0.7777777777777778,
              "#fb9f3a"
             ],
             [
              0.8888888888888888,
              "#fdca26"
             ],
             [
              1,
              "#f0f921"
             ]
            ],
            "type": "heatmap"
           }
          ],
          "heatmapgl": [
           {
            "colorbar": {
             "outlinewidth": 0,
             "ticks": ""
            },
            "colorscale": [
             [
              0,
              "#0d0887"
             ],
             [
              0.1111111111111111,
              "#46039f"
             ],
             [
              0.2222222222222222,
              "#7201a8"
             ],
             [
              0.3333333333333333,
              "#9c179e"
             ],
             [
              0.4444444444444444,
              "#bd3786"
             ],
             [
              0.5555555555555556,
              "#d8576b"
             ],
             [
              0.6666666666666666,
              "#ed7953"
             ],
             [
              0.7777777777777778,
              "#fb9f3a"
             ],
             [
              0.8888888888888888,
              "#fdca26"
             ],
             [
              1,
              "#f0f921"
             ]
            ],
            "type": "heatmapgl"
           }
          ],
          "histogram": [
           {
            "marker": {
             "pattern": {
              "fillmode": "overlay",
              "size": 10,
              "solidity": 0.2
             }
            },
            "type": "histogram"
           }
          ],
          "histogram2d": [
           {
            "colorbar": {
             "outlinewidth": 0,
             "ticks": ""
            },
            "colorscale": [
             [
              0,
              "#0d0887"
             ],
             [
              0.1111111111111111,
              "#46039f"
             ],
             [
              0.2222222222222222,
              "#7201a8"
             ],
             [
              0.3333333333333333,
              "#9c179e"
             ],
             [
              0.4444444444444444,
              "#bd3786"
             ],
             [
              0.5555555555555556,
              "#d8576b"
             ],
             [
              0.6666666666666666,
              "#ed7953"
             ],
             [
              0.7777777777777778,
              "#fb9f3a"
             ],
             [
              0.8888888888888888,
              "#fdca26"
             ],
             [
              1,
              "#f0f921"
             ]
            ],
            "type": "histogram2d"
           }
          ],
          "histogram2dcontour": [
           {
            "colorbar": {
             "outlinewidth": 0,
             "ticks": ""
            },
            "colorscale": [
             [
              0,
              "#0d0887"
             ],
             [
              0.1111111111111111,
              "#46039f"
             ],
             [
              0.2222222222222222,
              "#7201a8"
             ],
             [
              0.3333333333333333,
              "#9c179e"
             ],
             [
              0.4444444444444444,
              "#bd3786"
             ],
             [
              0.5555555555555556,
              "#d8576b"
             ],
             [
              0.6666666666666666,
              "#ed7953"
             ],
             [
              0.7777777777777778,
              "#fb9f3a"
             ],
             [
              0.8888888888888888,
              "#fdca26"
             ],
             [
              1,
              "#f0f921"
             ]
            ],
            "type": "histogram2dcontour"
           }
          ],
          "mesh3d": [
           {
            "colorbar": {
             "outlinewidth": 0,
             "ticks": ""
            },
            "type": "mesh3d"
           }
          ],
          "parcoords": [
           {
            "line": {
             "colorbar": {
              "outlinewidth": 0,
              "ticks": ""
             }
            },
            "type": "parcoords"
           }
          ],
          "pie": [
           {
            "automargin": true,
            "type": "pie"
           }
          ],
          "scatter": [
           {
            "fillpattern": {
             "fillmode": "overlay",
             "size": 10,
             "solidity": 0.2
            },
            "type": "scatter"
           }
          ],
          "scatter3d": [
           {
            "line": {
             "colorbar": {
              "outlinewidth": 0,
              "ticks": ""
             }
            },
            "marker": {
             "colorbar": {
              "outlinewidth": 0,
              "ticks": ""
             }
            },
            "type": "scatter3d"
           }
          ],
          "scattercarpet": [
           {
            "marker": {
             "colorbar": {
              "outlinewidth": 0,
              "ticks": ""
             }
            },
            "type": "scattercarpet"
           }
          ],
          "scattergeo": [
           {
            "marker": {
             "colorbar": {
              "outlinewidth": 0,
              "ticks": ""
             }
            },
            "type": "scattergeo"
           }
          ],
          "scattergl": [
           {
            "marker": {
             "colorbar": {
              "outlinewidth": 0,
              "ticks": ""
             }
            },
            "type": "scattergl"
           }
          ],
          "scattermapbox": [
           {
            "marker": {
             "colorbar": {
              "outlinewidth": 0,
              "ticks": ""
             }
            },
            "type": "scattermapbox"
           }
          ],
          "scatterpolar": [
           {
            "marker": {
             "colorbar": {
              "outlinewidth": 0,
              "ticks": ""
             }
            },
            "type": "scatterpolar"
           }
          ],
          "scatterpolargl": [
           {
            "marker": {
             "colorbar": {
              "outlinewidth": 0,
              "ticks": ""
             }
            },
            "type": "scatterpolargl"
           }
          ],
          "scatterternary": [
           {
            "marker": {
             "colorbar": {
              "outlinewidth": 0,
              "ticks": ""
             }
            },
            "type": "scatterternary"
           }
          ],
          "surface": [
           {
            "colorbar": {
             "outlinewidth": 0,
             "ticks": ""
            },
            "colorscale": [
             [
              0,
              "#0d0887"
             ],
             [
              0.1111111111111111,
              "#46039f"
             ],
             [
              0.2222222222222222,
              "#7201a8"
             ],
             [
              0.3333333333333333,
              "#9c179e"
             ],
             [
              0.4444444444444444,
              "#bd3786"
             ],
             [
              0.5555555555555556,
              "#d8576b"
             ],
             [
              0.6666666666666666,
              "#ed7953"
             ],
             [
              0.7777777777777778,
              "#fb9f3a"
             ],
             [
              0.8888888888888888,
              "#fdca26"
             ],
             [
              1,
              "#f0f921"
             ]
            ],
            "type": "surface"
           }
          ],
          "table": [
           {
            "cells": {
             "fill": {
              "color": "#EBF0F8"
             },
             "line": {
              "color": "white"
             }
            },
            "header": {
             "fill": {
              "color": "#C8D4E3"
             },
             "line": {
              "color": "white"
             }
            },
            "type": "table"
           }
          ]
         },
         "layout": {
          "annotationdefaults": {
           "arrowcolor": "#2a3f5f",
           "arrowhead": 0,
           "arrowwidth": 1
          },
          "autotypenumbers": "strict",
          "coloraxis": {
           "colorbar": {
            "outlinewidth": 0,
            "ticks": ""
           }
          },
          "colorscale": {
           "diverging": [
            [
             0,
             "#8e0152"
            ],
            [
             0.1,
             "#c51b7d"
            ],
            [
             0.2,
             "#de77ae"
            ],
            [
             0.3,
             "#f1b6da"
            ],
            [
             0.4,
             "#fde0ef"
            ],
            [
             0.5,
             "#f7f7f7"
            ],
            [
             0.6,
             "#e6f5d0"
            ],
            [
             0.7,
             "#b8e186"
            ],
            [
             0.8,
             "#7fbc41"
            ],
            [
             0.9,
             "#4d9221"
            ],
            [
             1,
             "#276419"
            ]
           ],
           "sequential": [
            [
             0,
             "#0d0887"
            ],
            [
             0.1111111111111111,
             "#46039f"
            ],
            [
             0.2222222222222222,
             "#7201a8"
            ],
            [
             0.3333333333333333,
             "#9c179e"
            ],
            [
             0.4444444444444444,
             "#bd3786"
            ],
            [
             0.5555555555555556,
             "#d8576b"
            ],
            [
             0.6666666666666666,
             "#ed7953"
            ],
            [
             0.7777777777777778,
             "#fb9f3a"
            ],
            [
             0.8888888888888888,
             "#fdca26"
            ],
            [
             1,
             "#f0f921"
            ]
           ],
           "sequentialminus": [
            [
             0,
             "#0d0887"
            ],
            [
             0.1111111111111111,
             "#46039f"
            ],
            [
             0.2222222222222222,
             "#7201a8"
            ],
            [
             0.3333333333333333,
             "#9c179e"
            ],
            [
             0.4444444444444444,
             "#bd3786"
            ],
            [
             0.5555555555555556,
             "#d8576b"
            ],
            [
             0.6666666666666666,
             "#ed7953"
            ],
            [
             0.7777777777777778,
             "#fb9f3a"
            ],
            [
             0.8888888888888888,
             "#fdca26"
            ],
            [
             1,
             "#f0f921"
            ]
           ]
          },
          "colorway": [
           "#636efa",
           "#EF553B",
           "#00cc96",
           "#ab63fa",
           "#FFA15A",
           "#19d3f3",
           "#FF6692",
           "#B6E880",
           "#FF97FF",
           "#FECB52"
          ],
          "font": {
           "color": "#2a3f5f"
          },
          "geo": {
           "bgcolor": "white",
           "lakecolor": "white",
           "landcolor": "#E5ECF6",
           "showlakes": true,
           "showland": true,
           "subunitcolor": "white"
          },
          "hoverlabel": {
           "align": "left"
          },
          "hovermode": "closest",
          "mapbox": {
           "style": "light"
          },
          "paper_bgcolor": "white",
          "plot_bgcolor": "#E5ECF6",
          "polar": {
           "angularaxis": {
            "gridcolor": "white",
            "linecolor": "white",
            "ticks": ""
           },
           "bgcolor": "#E5ECF6",
           "radialaxis": {
            "gridcolor": "white",
            "linecolor": "white",
            "ticks": ""
           }
          },
          "scene": {
           "xaxis": {
            "backgroundcolor": "#E5ECF6",
            "gridcolor": "white",
            "gridwidth": 2,
            "linecolor": "white",
            "showbackground": true,
            "ticks": "",
            "zerolinecolor": "white"
           },
           "yaxis": {
            "backgroundcolor": "#E5ECF6",
            "gridcolor": "white",
            "gridwidth": 2,
            "linecolor": "white",
            "showbackground": true,
            "ticks": "",
            "zerolinecolor": "white"
           },
           "zaxis": {
            "backgroundcolor": "#E5ECF6",
            "gridcolor": "white",
            "gridwidth": 2,
            "linecolor": "white",
            "showbackground": true,
            "ticks": "",
            "zerolinecolor": "white"
           }
          },
          "shapedefaults": {
           "line": {
            "color": "#2a3f5f"
           }
          },
          "ternary": {
           "aaxis": {
            "gridcolor": "white",
            "linecolor": "white",
            "ticks": ""
           },
           "baxis": {
            "gridcolor": "white",
            "linecolor": "white",
            "ticks": ""
           },
           "bgcolor": "#E5ECF6",
           "caxis": {
            "gridcolor": "white",
            "linecolor": "white",
            "ticks": ""
           }
          },
          "title": {
           "x": 0.05
          },
          "xaxis": {
           "automargin": true,
           "gridcolor": "white",
           "linecolor": "white",
           "ticks": "",
           "title": {
            "standoff": 15
           },
           "zerolinecolor": "white",
           "zerolinewidth": 2
          },
          "yaxis": {
           "automargin": true,
           "gridcolor": "white",
           "linecolor": "white",
           "ticks": "",
           "title": {
            "standoff": 15
           },
           "zerolinecolor": "white",
           "zerolinewidth": 2
          }
         }
        },
        "xaxis": {
         "anchor": "y",
         "domain": [
          0,
          1
         ],
         "title": {
          "text": "Year"
         }
        },
        "yaxis": {
         "anchor": "x",
         "domain": [
          0,
          1
         ],
         "title": {
          "text": "Employee Joining"
         }
        }
       }
      }
     },
     "metadata": {},
     "output_type": "display_data"
    }
   ],
   "source": [
    "import plotly.express as px\n",
    "\n",
    "# px.line\n",
    "plot_join = px.line(df_join, x='join_year', y='join_count', markers=True,\n",
    "                     labels = {\n",
    "                         'join_year' : 'Year',\n",
    "                         'join_count' : 'Employee Joining'})\n",
    "\n",
    "plot_join"
   ]
  },
  {
   "cell_type": "markdown",
   "metadata": {},
   "source": [
    "### Barplot: Employee Count per Generation in Customer Service Dept.\n",
    "\n",
    "Selanjutnya kita ingin membuat barplot yang menunjukkan jumlah pegawai dari tiap generasi. Oleh karena itu, kita dapat menggunakan data `df_gen`."
   ]
  },
  {
   "cell_type": "code",
   "execution_count": 81,
   "metadata": {},
   "outputs": [
    {
     "data": {
      "text/html": [
       "<div>\n",
       "<style scoped>\n",
       "    .dataframe tbody tr th:only-of-type {\n",
       "        vertical-align: middle;\n",
       "    }\n",
       "\n",
       "    .dataframe tbody tr th {\n",
       "        vertical-align: top;\n",
       "    }\n",
       "\n",
       "    .dataframe thead th {\n",
       "        text-align: right;\n",
       "    }\n",
       "</style>\n",
       "<table border=\"1\" class=\"dataframe\">\n",
       "  <thead>\n",
       "    <tr style=\"text-align: right;\">\n",
       "      <th></th>\n",
       "      <th>num_people</th>\n",
       "    </tr>\n",
       "    <tr>\n",
       "      <th>generation</th>\n",
       "      <th></th>\n",
       "    </tr>\n",
       "  </thead>\n",
       "  <tbody>\n",
       "    <tr>\n",
       "      <th>Boomers</th>\n",
       "      <td>59</td>\n",
       "    </tr>\n",
       "    <tr>\n",
       "      <th>Gen. X</th>\n",
       "      <td>203</td>\n",
       "    </tr>\n",
       "    <tr>\n",
       "      <th>Gen. Y (Millenials)</th>\n",
       "      <td>666</td>\n",
       "    </tr>\n",
       "  </tbody>\n",
       "</table>\n",
       "</div>"
      ],
      "text/plain": [
       "                     num_people\n",
       "generation                     \n",
       "Boomers                      59\n",
       "Gen. X                      203\n",
       "Gen. Y (Millenials)         666"
      ]
     },
     "execution_count": 81,
     "metadata": {},
     "output_type": "execute_result"
    }
   ],
   "source": [
    "# head\n",
    "df_gen.head()"
   ]
  },
  {
   "cell_type": "markdown",
   "metadata": {},
   "source": [
    "Dari data kita, dapat dilihat bahwa `generation` merupakan index, **bukan sebuah kolom**. Bentuk DataFrame seperti ini tidak dapat digunakan untuk visualisasi, oleh karena itu kita perlu melakukan `.reset_index()`, untuk mengubah index menjadi kolom."
   ]
  },
  {
   "cell_type": "code",
   "execution_count": 82,
   "metadata": {},
   "outputs": [
    {
     "data": {
      "text/html": [
       "<div>\n",
       "<style scoped>\n",
       "    .dataframe tbody tr th:only-of-type {\n",
       "        vertical-align: middle;\n",
       "    }\n",
       "\n",
       "    .dataframe tbody tr th {\n",
       "        vertical-align: top;\n",
       "    }\n",
       "\n",
       "    .dataframe thead th {\n",
       "        text-align: right;\n",
       "    }\n",
       "</style>\n",
       "<table border=\"1\" class=\"dataframe\">\n",
       "  <thead>\n",
       "    <tr style=\"text-align: right;\">\n",
       "      <th></th>\n",
       "      <th>generation</th>\n",
       "      <th>num_people</th>\n",
       "    </tr>\n",
       "  </thead>\n",
       "  <tbody>\n",
       "    <tr>\n",
       "      <th>0</th>\n",
       "      <td>Boomers</td>\n",
       "      <td>59</td>\n",
       "    </tr>\n",
       "    <tr>\n",
       "      <th>1</th>\n",
       "      <td>Gen. X</td>\n",
       "      <td>203</td>\n",
       "    </tr>\n",
       "    <tr>\n",
       "      <th>2</th>\n",
       "      <td>Gen. Y (Millenials)</td>\n",
       "      <td>666</td>\n",
       "    </tr>\n",
       "  </tbody>\n",
       "</table>\n",
       "</div>"
      ],
      "text/plain": [
       "            generation  num_people\n",
       "0              Boomers          59\n",
       "1               Gen. X         203\n",
       "2  Gen. Y (Millenials)         666"
      ]
     },
     "execution_count": 82,
     "metadata": {},
     "output_type": "execute_result"
    }
   ],
   "source": [
    "# reset index\n",
    "df_gen = df_gen.reset_index()\n",
    "df_gen.head()"
   ]
  },
  {
   "cell_type": "markdown",
   "metadata": {},
   "source": [
    "Untuk membuat barplot, kita dapat menggunakan fungsi `.bar()`, dengan parameter:\n",
    "- `data_frame`: dataframe yang digunakan\n",
    "- `x`: kolom untuk sumbu x\n",
    "- `y`: kolom untuk sumbu y\n",
    "- `labels`: custom label sesuai nama kolom"
   ]
  },
  {
   "cell_type": "code",
   "execution_count": 83,
   "metadata": {},
   "outputs": [
    {
     "data": {
      "application/vnd.plotly.v1+json": {
       "config": {
        "plotlyServerURL": "https://plot.ly"
       },
       "data": [
        {
         "alignmentgroup": "True",
         "hovertemplate": "Generation=%{x}<br>Employee Count=%{y}<extra></extra>",
         "legendgroup": "",
         "marker": {
          "color": "#636efa",
          "pattern": {
           "shape": ""
          }
         },
         "name": "",
         "offsetgroup": "",
         "orientation": "v",
         "showlegend": false,
         "textposition": "auto",
         "type": "bar",
         "x": [
          "Boomers",
          "Gen. X",
          "Gen. Y (Millenials)"
         ],
         "xaxis": "x",
         "y": [
          59,
          203,
          666
         ],
         "yaxis": "y"
        }
       ],
       "layout": {
        "barmode": "relative",
        "legend": {
         "tracegroupgap": 0
        },
        "margin": {
         "t": 60
        },
        "template": {
         "data": {
          "bar": [
           {
            "error_x": {
             "color": "#2a3f5f"
            },
            "error_y": {
             "color": "#2a3f5f"
            },
            "marker": {
             "line": {
              "color": "#E5ECF6",
              "width": 0.5
             },
             "pattern": {
              "fillmode": "overlay",
              "size": 10,
              "solidity": 0.2
             }
            },
            "type": "bar"
           }
          ],
          "barpolar": [
           {
            "marker": {
             "line": {
              "color": "#E5ECF6",
              "width": 0.5
             },
             "pattern": {
              "fillmode": "overlay",
              "size": 10,
              "solidity": 0.2
             }
            },
            "type": "barpolar"
           }
          ],
          "carpet": [
           {
            "aaxis": {
             "endlinecolor": "#2a3f5f",
             "gridcolor": "white",
             "linecolor": "white",
             "minorgridcolor": "white",
             "startlinecolor": "#2a3f5f"
            },
            "baxis": {
             "endlinecolor": "#2a3f5f",
             "gridcolor": "white",
             "linecolor": "white",
             "minorgridcolor": "white",
             "startlinecolor": "#2a3f5f"
            },
            "type": "carpet"
           }
          ],
          "choropleth": [
           {
            "colorbar": {
             "outlinewidth": 0,
             "ticks": ""
            },
            "type": "choropleth"
           }
          ],
          "contour": [
           {
            "colorbar": {
             "outlinewidth": 0,
             "ticks": ""
            },
            "colorscale": [
             [
              0,
              "#0d0887"
             ],
             [
              0.1111111111111111,
              "#46039f"
             ],
             [
              0.2222222222222222,
              "#7201a8"
             ],
             [
              0.3333333333333333,
              "#9c179e"
             ],
             [
              0.4444444444444444,
              "#bd3786"
             ],
             [
              0.5555555555555556,
              "#d8576b"
             ],
             [
              0.6666666666666666,
              "#ed7953"
             ],
             [
              0.7777777777777778,
              "#fb9f3a"
             ],
             [
              0.8888888888888888,
              "#fdca26"
             ],
             [
              1,
              "#f0f921"
             ]
            ],
            "type": "contour"
           }
          ],
          "contourcarpet": [
           {
            "colorbar": {
             "outlinewidth": 0,
             "ticks": ""
            },
            "type": "contourcarpet"
           }
          ],
          "heatmap": [
           {
            "colorbar": {
             "outlinewidth": 0,
             "ticks": ""
            },
            "colorscale": [
             [
              0,
              "#0d0887"
             ],
             [
              0.1111111111111111,
              "#46039f"
             ],
             [
              0.2222222222222222,
              "#7201a8"
             ],
             [
              0.3333333333333333,
              "#9c179e"
             ],
             [
              0.4444444444444444,
              "#bd3786"
             ],
             [
              0.5555555555555556,
              "#d8576b"
             ],
             [
              0.6666666666666666,
              "#ed7953"
             ],
             [
              0.7777777777777778,
              "#fb9f3a"
             ],
             [
              0.8888888888888888,
              "#fdca26"
             ],
             [
              1,
              "#f0f921"
             ]
            ],
            "type": "heatmap"
           }
          ],
          "heatmapgl": [
           {
            "colorbar": {
             "outlinewidth": 0,
             "ticks": ""
            },
            "colorscale": [
             [
              0,
              "#0d0887"
             ],
             [
              0.1111111111111111,
              "#46039f"
             ],
             [
              0.2222222222222222,
              "#7201a8"
             ],
             [
              0.3333333333333333,
              "#9c179e"
             ],
             [
              0.4444444444444444,
              "#bd3786"
             ],
             [
              0.5555555555555556,
              "#d8576b"
             ],
             [
              0.6666666666666666,
              "#ed7953"
             ],
             [
              0.7777777777777778,
              "#fb9f3a"
             ],
             [
              0.8888888888888888,
              "#fdca26"
             ],
             [
              1,
              "#f0f921"
             ]
            ],
            "type": "heatmapgl"
           }
          ],
          "histogram": [
           {
            "marker": {
             "pattern": {
              "fillmode": "overlay",
              "size": 10,
              "solidity": 0.2
             }
            },
            "type": "histogram"
           }
          ],
          "histogram2d": [
           {
            "colorbar": {
             "outlinewidth": 0,
             "ticks": ""
            },
            "colorscale": [
             [
              0,
              "#0d0887"
             ],
             [
              0.1111111111111111,
              "#46039f"
             ],
             [
              0.2222222222222222,
              "#7201a8"
             ],
             [
              0.3333333333333333,
              "#9c179e"
             ],
             [
              0.4444444444444444,
              "#bd3786"
             ],
             [
              0.5555555555555556,
              "#d8576b"
             ],
             [
              0.6666666666666666,
              "#ed7953"
             ],
             [
              0.7777777777777778,
              "#fb9f3a"
             ],
             [
              0.8888888888888888,
              "#fdca26"
             ],
             [
              1,
              "#f0f921"
             ]
            ],
            "type": "histogram2d"
           }
          ],
          "histogram2dcontour": [
           {
            "colorbar": {
             "outlinewidth": 0,
             "ticks": ""
            },
            "colorscale": [
             [
              0,
              "#0d0887"
             ],
             [
              0.1111111111111111,
              "#46039f"
             ],
             [
              0.2222222222222222,
              "#7201a8"
             ],
             [
              0.3333333333333333,
              "#9c179e"
             ],
             [
              0.4444444444444444,
              "#bd3786"
             ],
             [
              0.5555555555555556,
              "#d8576b"
             ],
             [
              0.6666666666666666,
              "#ed7953"
             ],
             [
              0.7777777777777778,
              "#fb9f3a"
             ],
             [
              0.8888888888888888,
              "#fdca26"
             ],
             [
              1,
              "#f0f921"
             ]
            ],
            "type": "histogram2dcontour"
           }
          ],
          "mesh3d": [
           {
            "colorbar": {
             "outlinewidth": 0,
             "ticks": ""
            },
            "type": "mesh3d"
           }
          ],
          "parcoords": [
           {
            "line": {
             "colorbar": {
              "outlinewidth": 0,
              "ticks": ""
             }
            },
            "type": "parcoords"
           }
          ],
          "pie": [
           {
            "automargin": true,
            "type": "pie"
           }
          ],
          "scatter": [
           {
            "fillpattern": {
             "fillmode": "overlay",
             "size": 10,
             "solidity": 0.2
            },
            "type": "scatter"
           }
          ],
          "scatter3d": [
           {
            "line": {
             "colorbar": {
              "outlinewidth": 0,
              "ticks": ""
             }
            },
            "marker": {
             "colorbar": {
              "outlinewidth": 0,
              "ticks": ""
             }
            },
            "type": "scatter3d"
           }
          ],
          "scattercarpet": [
           {
            "marker": {
             "colorbar": {
              "outlinewidth": 0,
              "ticks": ""
             }
            },
            "type": "scattercarpet"
           }
          ],
          "scattergeo": [
           {
            "marker": {
             "colorbar": {
              "outlinewidth": 0,
              "ticks": ""
             }
            },
            "type": "scattergeo"
           }
          ],
          "scattergl": [
           {
            "marker": {
             "colorbar": {
              "outlinewidth": 0,
              "ticks": ""
             }
            },
            "type": "scattergl"
           }
          ],
          "scattermapbox": [
           {
            "marker": {
             "colorbar": {
              "outlinewidth": 0,
              "ticks": ""
             }
            },
            "type": "scattermapbox"
           }
          ],
          "scatterpolar": [
           {
            "marker": {
             "colorbar": {
              "outlinewidth": 0,
              "ticks": ""
             }
            },
            "type": "scatterpolar"
           }
          ],
          "scatterpolargl": [
           {
            "marker": {
             "colorbar": {
              "outlinewidth": 0,
              "ticks": ""
             }
            },
            "type": "scatterpolargl"
           }
          ],
          "scatterternary": [
           {
            "marker": {
             "colorbar": {
              "outlinewidth": 0,
              "ticks": ""
             }
            },
            "type": "scatterternary"
           }
          ],
          "surface": [
           {
            "colorbar": {
             "outlinewidth": 0,
             "ticks": ""
            },
            "colorscale": [
             [
              0,
              "#0d0887"
             ],
             [
              0.1111111111111111,
              "#46039f"
             ],
             [
              0.2222222222222222,
              "#7201a8"
             ],
             [
              0.3333333333333333,
              "#9c179e"
             ],
             [
              0.4444444444444444,
              "#bd3786"
             ],
             [
              0.5555555555555556,
              "#d8576b"
             ],
             [
              0.6666666666666666,
              "#ed7953"
             ],
             [
              0.7777777777777778,
              "#fb9f3a"
             ],
             [
              0.8888888888888888,
              "#fdca26"
             ],
             [
              1,
              "#f0f921"
             ]
            ],
            "type": "surface"
           }
          ],
          "table": [
           {
            "cells": {
             "fill": {
              "color": "#EBF0F8"
             },
             "line": {
              "color": "white"
             }
            },
            "header": {
             "fill": {
              "color": "#C8D4E3"
             },
             "line": {
              "color": "white"
             }
            },
            "type": "table"
           }
          ]
         },
         "layout": {
          "annotationdefaults": {
           "arrowcolor": "#2a3f5f",
           "arrowhead": 0,
           "arrowwidth": 1
          },
          "autotypenumbers": "strict",
          "coloraxis": {
           "colorbar": {
            "outlinewidth": 0,
            "ticks": ""
           }
          },
          "colorscale": {
           "diverging": [
            [
             0,
             "#8e0152"
            ],
            [
             0.1,
             "#c51b7d"
            ],
            [
             0.2,
             "#de77ae"
            ],
            [
             0.3,
             "#f1b6da"
            ],
            [
             0.4,
             "#fde0ef"
            ],
            [
             0.5,
             "#f7f7f7"
            ],
            [
             0.6,
             "#e6f5d0"
            ],
            [
             0.7,
             "#b8e186"
            ],
            [
             0.8,
             "#7fbc41"
            ],
            [
             0.9,
             "#4d9221"
            ],
            [
             1,
             "#276419"
            ]
           ],
           "sequential": [
            [
             0,
             "#0d0887"
            ],
            [
             0.1111111111111111,
             "#46039f"
            ],
            [
             0.2222222222222222,
             "#7201a8"
            ],
            [
             0.3333333333333333,
             "#9c179e"
            ],
            [
             0.4444444444444444,
             "#bd3786"
            ],
            [
             0.5555555555555556,
             "#d8576b"
            ],
            [
             0.6666666666666666,
             "#ed7953"
            ],
            [
             0.7777777777777778,
             "#fb9f3a"
            ],
            [
             0.8888888888888888,
             "#fdca26"
            ],
            [
             1,
             "#f0f921"
            ]
           ],
           "sequentialminus": [
            [
             0,
             "#0d0887"
            ],
            [
             0.1111111111111111,
             "#46039f"
            ],
            [
             0.2222222222222222,
             "#7201a8"
            ],
            [
             0.3333333333333333,
             "#9c179e"
            ],
            [
             0.4444444444444444,
             "#bd3786"
            ],
            [
             0.5555555555555556,
             "#d8576b"
            ],
            [
             0.6666666666666666,
             "#ed7953"
            ],
            [
             0.7777777777777778,
             "#fb9f3a"
            ],
            [
             0.8888888888888888,
             "#fdca26"
            ],
            [
             1,
             "#f0f921"
            ]
           ]
          },
          "colorway": [
           "#636efa",
           "#EF553B",
           "#00cc96",
           "#ab63fa",
           "#FFA15A",
           "#19d3f3",
           "#FF6692",
           "#B6E880",
           "#FF97FF",
           "#FECB52"
          ],
          "font": {
           "color": "#2a3f5f"
          },
          "geo": {
           "bgcolor": "white",
           "lakecolor": "white",
           "landcolor": "#E5ECF6",
           "showlakes": true,
           "showland": true,
           "subunitcolor": "white"
          },
          "hoverlabel": {
           "align": "left"
          },
          "hovermode": "closest",
          "mapbox": {
           "style": "light"
          },
          "paper_bgcolor": "white",
          "plot_bgcolor": "#E5ECF6",
          "polar": {
           "angularaxis": {
            "gridcolor": "white",
            "linecolor": "white",
            "ticks": ""
           },
           "bgcolor": "#E5ECF6",
           "radialaxis": {
            "gridcolor": "white",
            "linecolor": "white",
            "ticks": ""
           }
          },
          "scene": {
           "xaxis": {
            "backgroundcolor": "#E5ECF6",
            "gridcolor": "white",
            "gridwidth": 2,
            "linecolor": "white",
            "showbackground": true,
            "ticks": "",
            "zerolinecolor": "white"
           },
           "yaxis": {
            "backgroundcolor": "#E5ECF6",
            "gridcolor": "white",
            "gridwidth": 2,
            "linecolor": "white",
            "showbackground": true,
            "ticks": "",
            "zerolinecolor": "white"
           },
           "zaxis": {
            "backgroundcolor": "#E5ECF6",
            "gridcolor": "white",
            "gridwidth": 2,
            "linecolor": "white",
            "showbackground": true,
            "ticks": "",
            "zerolinecolor": "white"
           }
          },
          "shapedefaults": {
           "line": {
            "color": "#2a3f5f"
           }
          },
          "ternary": {
           "aaxis": {
            "gridcolor": "white",
            "linecolor": "white",
            "ticks": ""
           },
           "baxis": {
            "gridcolor": "white",
            "linecolor": "white",
            "ticks": ""
           },
           "bgcolor": "#E5ECF6",
           "caxis": {
            "gridcolor": "white",
            "linecolor": "white",
            "ticks": ""
           }
          },
          "title": {
           "x": 0.05
          },
          "xaxis": {
           "automargin": true,
           "gridcolor": "white",
           "linecolor": "white",
           "ticks": "",
           "title": {
            "standoff": 15
           },
           "zerolinecolor": "white",
           "zerolinewidth": 2
          },
          "yaxis": {
           "automargin": true,
           "gridcolor": "white",
           "linecolor": "white",
           "ticks": "",
           "title": {
            "standoff": 15
           },
           "zerolinecolor": "white",
           "zerolinewidth": 2
          }
         }
        },
        "xaxis": {
         "anchor": "y",
         "domain": [
          0,
          1
         ],
         "title": {
          "text": "Generation"
         }
        },
        "yaxis": {
         "anchor": "x",
         "domain": [
          0,
          1
         ],
         "title": {
          "text": "Employee Count"
         }
        }
       }
      }
     },
     "metadata": {},
     "output_type": "display_data"
    }
   ],
   "source": [
    "# px.bar\n",
    "plot_gen = px.bar(df_gen, x='generation', y='num_people', \n",
    "                   labels = {'generation' : 'Generation',\n",
    "                             'num_people' : 'Employee Count'})\n",
    "\n",
    "plot_gen"
   ]
  },
  {
   "cell_type": "markdown",
   "metadata": {},
   "source": [
    "### Multivariate: Gender per Department, Age 20 to 50\n",
    "\n",
    "Selanjutnya kita ingin membuat multivariate barplot yang menunjukkan jumlah pegawai dari tiap departemen untuk tiap gender. Oleh karena itu, kita dapat menggunakan data `dept_gender`."
   ]
  },
  {
   "cell_type": "code",
   "execution_count": 84,
   "metadata": {},
   "outputs": [
    {
     "data": {
      "text/html": [
       "<div>\n",
       "<style scoped>\n",
       "    .dataframe tbody tr th:only-of-type {\n",
       "        vertical-align: middle;\n",
       "    }\n",
       "\n",
       "    .dataframe tbody tr th {\n",
       "        vertical-align: top;\n",
       "    }\n",
       "\n",
       "    .dataframe thead th {\n",
       "        text-align: right;\n",
       "    }\n",
       "</style>\n",
       "<table border=\"1\" class=\"dataframe\">\n",
       "  <thead>\n",
       "    <tr style=\"text-align: right;\">\n",
       "      <th></th>\n",
       "      <th>Female</th>\n",
       "      <th>Male</th>\n",
       "    </tr>\n",
       "    <tr>\n",
       "      <th>department_name</th>\n",
       "      <th></th>\n",
       "      <th></th>\n",
       "    </tr>\n",
       "  </thead>\n",
       "  <tbody>\n",
       "    <tr>\n",
       "      <th>Bakery</th>\n",
       "      <td>127</td>\n",
       "      <td>124</td>\n",
       "    </tr>\n",
       "    <tr>\n",
       "      <th>Customer Service</th>\n",
       "      <td>365</td>\n",
       "      <td>365</td>\n",
       "    </tr>\n",
       "    <tr>\n",
       "      <th>Dairy</th>\n",
       "      <td>309</td>\n",
       "      <td>354</td>\n",
       "    </tr>\n",
       "    <tr>\n",
       "      <th>Meats</th>\n",
       "      <td>38</td>\n",
       "      <td>60</td>\n",
       "    </tr>\n",
       "    <tr>\n",
       "      <th>Processed Foods</th>\n",
       "      <td>235</td>\n",
       "      <td>277</td>\n",
       "    </tr>\n",
       "  </tbody>\n",
       "</table>\n",
       "</div>"
      ],
      "text/plain": [
       "                  Female  Male\n",
       "department_name               \n",
       "Bakery               127   124\n",
       "Customer Service     365   365\n",
       "Dairy                309   354\n",
       "Meats                 38    60\n",
       "Processed Foods      235   277"
      ]
     },
     "execution_count": 84,
     "metadata": {},
     "output_type": "execute_result"
    }
   ],
   "source": [
    "# head\n",
    "dept_gender.head()"
   ]
  },
  {
   "cell_type": "markdown",
   "metadata": {},
   "source": [
    "#### Data Reshaping: `.melt()`\n",
    "\n",
    "Ketika kita ingin membuat suatu plot multivariate, kita tidak dapat memiliki 2 kolom numerik, oleh karena itu kita perlu meleburnya menjadi 1 kolom kategorik + 1 kolom numerik\n",
    "\n",
    "Syntax: `DataFrame.melt()`\n",
    "> Melebur beberapa kolom menjadi 1 kolom (variable) dan nilai di dalamnya menjadi value.\n",
    "\n",
    "<img src=\"assets/reshaping_melt.png\" width=\"600\"/>"
   ]
  },
  {
   "cell_type": "markdown",
   "metadata": {},
   "source": [
    "Dalam method `melt()`, agar index tidak hilang, kita dapat masukkan parameter `ignore_index = False`\n",
    "\n",
    "Tambahan parameter:\n",
    "\n",
    "- `var_name` untuk memberi nama terhadap kolom `variable`\n",
    "- `value_name` untuk memberi nama terhadap kolom `value`"
   ]
  },
  {
   "cell_type": "code",
   "execution_count": 85,
   "metadata": {},
   "outputs": [
    {
     "data": {
      "text/html": [
       "<div>\n",
       "<style scoped>\n",
       "    .dataframe tbody tr th:only-of-type {\n",
       "        vertical-align: middle;\n",
       "    }\n",
       "\n",
       "    .dataframe tbody tr th {\n",
       "        vertical-align: top;\n",
       "    }\n",
       "\n",
       "    .dataframe thead th {\n",
       "        text-align: right;\n",
       "    }\n",
       "</style>\n",
       "<table border=\"1\" class=\"dataframe\">\n",
       "  <thead>\n",
       "    <tr style=\"text-align: right;\">\n",
       "      <th></th>\n",
       "      <th>gender</th>\n",
       "      <th>value</th>\n",
       "    </tr>\n",
       "    <tr>\n",
       "      <th>department_name</th>\n",
       "      <th></th>\n",
       "      <th></th>\n",
       "    </tr>\n",
       "  </thead>\n",
       "  <tbody>\n",
       "    <tr>\n",
       "      <th>Bakery</th>\n",
       "      <td>Female</td>\n",
       "      <td>127</td>\n",
       "    </tr>\n",
       "    <tr>\n",
       "      <th>Customer Service</th>\n",
       "      <td>Female</td>\n",
       "      <td>365</td>\n",
       "    </tr>\n",
       "    <tr>\n",
       "      <th>Dairy</th>\n",
       "      <td>Female</td>\n",
       "      <td>309</td>\n",
       "    </tr>\n",
       "    <tr>\n",
       "      <th>Meats</th>\n",
       "      <td>Female</td>\n",
       "      <td>38</td>\n",
       "    </tr>\n",
       "    <tr>\n",
       "      <th>Processed Foods</th>\n",
       "      <td>Female</td>\n",
       "      <td>235</td>\n",
       "    </tr>\n",
       "  </tbody>\n",
       "</table>\n",
       "</div>"
      ],
      "text/plain": [
       "                  gender  value\n",
       "department_name                \n",
       "Bakery            Female    127\n",
       "Customer Service  Female    365\n",
       "Dairy             Female    309\n",
       "Meats             Female     38\n",
       "Processed Foods   Female    235"
      ]
     },
     "execution_count": 85,
     "metadata": {},
     "output_type": "execute_result"
    }
   ],
   "source": [
    "# melt\n",
    "dept_gender_melt = dept_gender.melt(ignore_index=False, var_name='gender')\n",
    "dept_gender_melt.head()"
   ]
  },
  {
   "cell_type": "markdown",
   "metadata": {},
   "source": [
    "Sama seperti data-data kita sebelumnya, dapat dilihat bahwa `department_name` merupakan index, **bukan sebuah kolom**. Bentuk DataFrame seperti ini tidak dapat digunakan untuk visualisasi, oleh karena itu kita perlu melakukan `.reset_index()`, untuk mengubah index menjadi kolom."
   ]
  },
  {
   "cell_type": "code",
   "execution_count": 86,
   "metadata": {},
   "outputs": [
    {
     "data": {
      "text/html": [
       "<div>\n",
       "<style scoped>\n",
       "    .dataframe tbody tr th:only-of-type {\n",
       "        vertical-align: middle;\n",
       "    }\n",
       "\n",
       "    .dataframe tbody tr th {\n",
       "        vertical-align: top;\n",
       "    }\n",
       "\n",
       "    .dataframe thead th {\n",
       "        text-align: right;\n",
       "    }\n",
       "</style>\n",
       "<table border=\"1\" class=\"dataframe\">\n",
       "  <thead>\n",
       "    <tr style=\"text-align: right;\">\n",
       "      <th></th>\n",
       "      <th>department_name</th>\n",
       "      <th>gender</th>\n",
       "      <th>value</th>\n",
       "    </tr>\n",
       "  </thead>\n",
       "  <tbody>\n",
       "    <tr>\n",
       "      <th>0</th>\n",
       "      <td>Bakery</td>\n",
       "      <td>Female</td>\n",
       "      <td>127</td>\n",
       "    </tr>\n",
       "    <tr>\n",
       "      <th>1</th>\n",
       "      <td>Customer Service</td>\n",
       "      <td>Female</td>\n",
       "      <td>365</td>\n",
       "    </tr>\n",
       "    <tr>\n",
       "      <th>2</th>\n",
       "      <td>Dairy</td>\n",
       "      <td>Female</td>\n",
       "      <td>309</td>\n",
       "    </tr>\n",
       "    <tr>\n",
       "      <th>3</th>\n",
       "      <td>Meats</td>\n",
       "      <td>Female</td>\n",
       "      <td>38</td>\n",
       "    </tr>\n",
       "    <tr>\n",
       "      <th>4</th>\n",
       "      <td>Processed Foods</td>\n",
       "      <td>Female</td>\n",
       "      <td>235</td>\n",
       "    </tr>\n",
       "    <tr>\n",
       "      <th>5</th>\n",
       "      <td>Produce</td>\n",
       "      <td>Female</td>\n",
       "      <td>75</td>\n",
       "    </tr>\n",
       "    <tr>\n",
       "      <th>6</th>\n",
       "      <td>Bakery</td>\n",
       "      <td>Male</td>\n",
       "      <td>124</td>\n",
       "    </tr>\n",
       "    <tr>\n",
       "      <th>7</th>\n",
       "      <td>Customer Service</td>\n",
       "      <td>Male</td>\n",
       "      <td>365</td>\n",
       "    </tr>\n",
       "    <tr>\n",
       "      <th>8</th>\n",
       "      <td>Dairy</td>\n",
       "      <td>Male</td>\n",
       "      <td>354</td>\n",
       "    </tr>\n",
       "    <tr>\n",
       "      <th>9</th>\n",
       "      <td>Meats</td>\n",
       "      <td>Male</td>\n",
       "      <td>60</td>\n",
       "    </tr>\n",
       "    <tr>\n",
       "      <th>10</th>\n",
       "      <td>Processed Foods</td>\n",
       "      <td>Male</td>\n",
       "      <td>277</td>\n",
       "    </tr>\n",
       "    <tr>\n",
       "      <th>11</th>\n",
       "      <td>Produce</td>\n",
       "      <td>Male</td>\n",
       "      <td>55</td>\n",
       "    </tr>\n",
       "  </tbody>\n",
       "</table>\n",
       "</div>"
      ],
      "text/plain": [
       "     department_name  gender  value\n",
       "0             Bakery  Female    127\n",
       "1   Customer Service  Female    365\n",
       "2              Dairy  Female    309\n",
       "3              Meats  Female     38\n",
       "4    Processed Foods  Female    235\n",
       "5            Produce  Female     75\n",
       "6             Bakery    Male    124\n",
       "7   Customer Service    Male    365\n",
       "8              Dairy    Male    354\n",
       "9              Meats    Male     60\n",
       "10   Processed Foods    Male    277\n",
       "11           Produce    Male     55"
      ]
     },
     "execution_count": 86,
     "metadata": {},
     "output_type": "execute_result"
    }
   ],
   "source": [
    "# reset index\n",
    "dept_gender_melt = dept_gender_melt.reset_index()\n",
    "dept_gender_melt"
   ]
  },
  {
   "cell_type": "markdown",
   "metadata": {},
   "source": [
    "Untuk membuat barplot, kita dapat menggunakan fungsi `.bar()`, dengan parameter:\n",
    "- `data_frame`: dataframe yang digunakan\n",
    "- `x`: kolom untuk sumbu x\n",
    "- `y`: kolom untuk sumbu y\n",
    "- `labels`: custom label sesuai nama kolom\n",
    "\n",
    "Untuk membuatnya menjadi multivariate, kita dapat membedakan antara gender Male dan Female melalui warna. Beberapa parameter yang dapat digunakan:\n",
    "- `color`: kolom yang ingin dibedakan berdasarkan warna\n",
    "- `barmode`:\n",
    "    - `relative` (default): saling menyusun\n",
    "    - `overlay`: saling menimpa\n",
    "    - `group`: saling bersebelahan"
   ]
  },
  {
   "cell_type": "code",
   "execution_count": 111,
   "metadata": {},
   "outputs": [
    {
     "data": {
      "application/vnd.plotly.v1+json": {
       "config": {
        "plotlyServerURL": "https://plot.ly"
       },
       "data": [
        {
         "alignmentgroup": "True",
         "hovertemplate": "Gender=Female<br>Employee Count=%{x}<br>Department=%{y}<extra></extra>",
         "legendgroup": "Female",
         "marker": {
          "color": "#636efa",
          "pattern": {
           "shape": ""
          }
         },
         "name": "Female",
         "offsetgroup": "Female",
         "orientation": "h",
         "showlegend": true,
         "textposition": "auto",
         "type": "bar",
         "x": [
          38,
          75,
          127,
          235,
          309,
          365
         ],
         "xaxis": "x",
         "y": [
          "Meats",
          "Produce",
          "Bakery",
          "Processed Foods",
          "Dairy",
          "Customer Service"
         ],
         "yaxis": "y"
        },
        {
         "alignmentgroup": "True",
         "hovertemplate": "Gender=Male<br>Employee Count=%{x}<br>Department=%{y}<extra></extra>",
         "legendgroup": "Male",
         "marker": {
          "color": "#EF553B",
          "pattern": {
           "shape": ""
          }
         },
         "name": "Male",
         "offsetgroup": "Male",
         "orientation": "h",
         "showlegend": true,
         "textposition": "auto",
         "type": "bar",
         "x": [
          55,
          60,
          124,
          277,
          354,
          365
         ],
         "xaxis": "x",
         "y": [
          "Produce",
          "Meats",
          "Bakery",
          "Processed Foods",
          "Dairy",
          "Customer Service"
         ],
         "yaxis": "y"
        }
       ],
       "layout": {
        "barmode": "group",
        "legend": {
         "title": {
          "text": "Gender"
         },
         "tracegroupgap": 0
        },
        "margin": {
         "t": 60
        },
        "template": {
         "data": {
          "bar": [
           {
            "error_x": {
             "color": "#2a3f5f"
            },
            "error_y": {
             "color": "#2a3f5f"
            },
            "marker": {
             "line": {
              "color": "#E5ECF6",
              "width": 0.5
             },
             "pattern": {
              "fillmode": "overlay",
              "size": 10,
              "solidity": 0.2
             }
            },
            "type": "bar"
           }
          ],
          "barpolar": [
           {
            "marker": {
             "line": {
              "color": "#E5ECF6",
              "width": 0.5
             },
             "pattern": {
              "fillmode": "overlay",
              "size": 10,
              "solidity": 0.2
             }
            },
            "type": "barpolar"
           }
          ],
          "carpet": [
           {
            "aaxis": {
             "endlinecolor": "#2a3f5f",
             "gridcolor": "white",
             "linecolor": "white",
             "minorgridcolor": "white",
             "startlinecolor": "#2a3f5f"
            },
            "baxis": {
             "endlinecolor": "#2a3f5f",
             "gridcolor": "white",
             "linecolor": "white",
             "minorgridcolor": "white",
             "startlinecolor": "#2a3f5f"
            },
            "type": "carpet"
           }
          ],
          "choropleth": [
           {
            "colorbar": {
             "outlinewidth": 0,
             "ticks": ""
            },
            "type": "choropleth"
           }
          ],
          "contour": [
           {
            "colorbar": {
             "outlinewidth": 0,
             "ticks": ""
            },
            "colorscale": [
             [
              0,
              "#0d0887"
             ],
             [
              0.1111111111111111,
              "#46039f"
             ],
             [
              0.2222222222222222,
              "#7201a8"
             ],
             [
              0.3333333333333333,
              "#9c179e"
             ],
             [
              0.4444444444444444,
              "#bd3786"
             ],
             [
              0.5555555555555556,
              "#d8576b"
             ],
             [
              0.6666666666666666,
              "#ed7953"
             ],
             [
              0.7777777777777778,
              "#fb9f3a"
             ],
             [
              0.8888888888888888,
              "#fdca26"
             ],
             [
              1,
              "#f0f921"
             ]
            ],
            "type": "contour"
           }
          ],
          "contourcarpet": [
           {
            "colorbar": {
             "outlinewidth": 0,
             "ticks": ""
            },
            "type": "contourcarpet"
           }
          ],
          "heatmap": [
           {
            "colorbar": {
             "outlinewidth": 0,
             "ticks": ""
            },
            "colorscale": [
             [
              0,
              "#0d0887"
             ],
             [
              0.1111111111111111,
              "#46039f"
             ],
             [
              0.2222222222222222,
              "#7201a8"
             ],
             [
              0.3333333333333333,
              "#9c179e"
             ],
             [
              0.4444444444444444,
              "#bd3786"
             ],
             [
              0.5555555555555556,
              "#d8576b"
             ],
             [
              0.6666666666666666,
              "#ed7953"
             ],
             [
              0.7777777777777778,
              "#fb9f3a"
             ],
             [
              0.8888888888888888,
              "#fdca26"
             ],
             [
              1,
              "#f0f921"
             ]
            ],
            "type": "heatmap"
           }
          ],
          "heatmapgl": [
           {
            "colorbar": {
             "outlinewidth": 0,
             "ticks": ""
            },
            "colorscale": [
             [
              0,
              "#0d0887"
             ],
             [
              0.1111111111111111,
              "#46039f"
             ],
             [
              0.2222222222222222,
              "#7201a8"
             ],
             [
              0.3333333333333333,
              "#9c179e"
             ],
             [
              0.4444444444444444,
              "#bd3786"
             ],
             [
              0.5555555555555556,
              "#d8576b"
             ],
             [
              0.6666666666666666,
              "#ed7953"
             ],
             [
              0.7777777777777778,
              "#fb9f3a"
             ],
             [
              0.8888888888888888,
              "#fdca26"
             ],
             [
              1,
              "#f0f921"
             ]
            ],
            "type": "heatmapgl"
           }
          ],
          "histogram": [
           {
            "marker": {
             "pattern": {
              "fillmode": "overlay",
              "size": 10,
              "solidity": 0.2
             }
            },
            "type": "histogram"
           }
          ],
          "histogram2d": [
           {
            "colorbar": {
             "outlinewidth": 0,
             "ticks": ""
            },
            "colorscale": [
             [
              0,
              "#0d0887"
             ],
             [
              0.1111111111111111,
              "#46039f"
             ],
             [
              0.2222222222222222,
              "#7201a8"
             ],
             [
              0.3333333333333333,
              "#9c179e"
             ],
             [
              0.4444444444444444,
              "#bd3786"
             ],
             [
              0.5555555555555556,
              "#d8576b"
             ],
             [
              0.6666666666666666,
              "#ed7953"
             ],
             [
              0.7777777777777778,
              "#fb9f3a"
             ],
             [
              0.8888888888888888,
              "#fdca26"
             ],
             [
              1,
              "#f0f921"
             ]
            ],
            "type": "histogram2d"
           }
          ],
          "histogram2dcontour": [
           {
            "colorbar": {
             "outlinewidth": 0,
             "ticks": ""
            },
            "colorscale": [
             [
              0,
              "#0d0887"
             ],
             [
              0.1111111111111111,
              "#46039f"
             ],
             [
              0.2222222222222222,
              "#7201a8"
             ],
             [
              0.3333333333333333,
              "#9c179e"
             ],
             [
              0.4444444444444444,
              "#bd3786"
             ],
             [
              0.5555555555555556,
              "#d8576b"
             ],
             [
              0.6666666666666666,
              "#ed7953"
             ],
             [
              0.7777777777777778,
              "#fb9f3a"
             ],
             [
              0.8888888888888888,
              "#fdca26"
             ],
             [
              1,
              "#f0f921"
             ]
            ],
            "type": "histogram2dcontour"
           }
          ],
          "mesh3d": [
           {
            "colorbar": {
             "outlinewidth": 0,
             "ticks": ""
            },
            "type": "mesh3d"
           }
          ],
          "parcoords": [
           {
            "line": {
             "colorbar": {
              "outlinewidth": 0,
              "ticks": ""
             }
            },
            "type": "parcoords"
           }
          ],
          "pie": [
           {
            "automargin": true,
            "type": "pie"
           }
          ],
          "scatter": [
           {
            "fillpattern": {
             "fillmode": "overlay",
             "size": 10,
             "solidity": 0.2
            },
            "type": "scatter"
           }
          ],
          "scatter3d": [
           {
            "line": {
             "colorbar": {
              "outlinewidth": 0,
              "ticks": ""
             }
            },
            "marker": {
             "colorbar": {
              "outlinewidth": 0,
              "ticks": ""
             }
            },
            "type": "scatter3d"
           }
          ],
          "scattercarpet": [
           {
            "marker": {
             "colorbar": {
              "outlinewidth": 0,
              "ticks": ""
             }
            },
            "type": "scattercarpet"
           }
          ],
          "scattergeo": [
           {
            "marker": {
             "colorbar": {
              "outlinewidth": 0,
              "ticks": ""
             }
            },
            "type": "scattergeo"
           }
          ],
          "scattergl": [
           {
            "marker": {
             "colorbar": {
              "outlinewidth": 0,
              "ticks": ""
             }
            },
            "type": "scattergl"
           }
          ],
          "scattermapbox": [
           {
            "marker": {
             "colorbar": {
              "outlinewidth": 0,
              "ticks": ""
             }
            },
            "type": "scattermapbox"
           }
          ],
          "scatterpolar": [
           {
            "marker": {
             "colorbar": {
              "outlinewidth": 0,
              "ticks": ""
             }
            },
            "type": "scatterpolar"
           }
          ],
          "scatterpolargl": [
           {
            "marker": {
             "colorbar": {
              "outlinewidth": 0,
              "ticks": ""
             }
            },
            "type": "scatterpolargl"
           }
          ],
          "scatterternary": [
           {
            "marker": {
             "colorbar": {
              "outlinewidth": 0,
              "ticks": ""
             }
            },
            "type": "scatterternary"
           }
          ],
          "surface": [
           {
            "colorbar": {
             "outlinewidth": 0,
             "ticks": ""
            },
            "colorscale": [
             [
              0,
              "#0d0887"
             ],
             [
              0.1111111111111111,
              "#46039f"
             ],
             [
              0.2222222222222222,
              "#7201a8"
             ],
             [
              0.3333333333333333,
              "#9c179e"
             ],
             [
              0.4444444444444444,
              "#bd3786"
             ],
             [
              0.5555555555555556,
              "#d8576b"
             ],
             [
              0.6666666666666666,
              "#ed7953"
             ],
             [
              0.7777777777777778,
              "#fb9f3a"
             ],
             [
              0.8888888888888888,
              "#fdca26"
             ],
             [
              1,
              "#f0f921"
             ]
            ],
            "type": "surface"
           }
          ],
          "table": [
           {
            "cells": {
             "fill": {
              "color": "#EBF0F8"
             },
             "line": {
              "color": "white"
             }
            },
            "header": {
             "fill": {
              "color": "#C8D4E3"
             },
             "line": {
              "color": "white"
             }
            },
            "type": "table"
           }
          ]
         },
         "layout": {
          "annotationdefaults": {
           "arrowcolor": "#2a3f5f",
           "arrowhead": 0,
           "arrowwidth": 1
          },
          "autotypenumbers": "strict",
          "coloraxis": {
           "colorbar": {
            "outlinewidth": 0,
            "ticks": ""
           }
          },
          "colorscale": {
           "diverging": [
            [
             0,
             "#8e0152"
            ],
            [
             0.1,
             "#c51b7d"
            ],
            [
             0.2,
             "#de77ae"
            ],
            [
             0.3,
             "#f1b6da"
            ],
            [
             0.4,
             "#fde0ef"
            ],
            [
             0.5,
             "#f7f7f7"
            ],
            [
             0.6,
             "#e6f5d0"
            ],
            [
             0.7,
             "#b8e186"
            ],
            [
             0.8,
             "#7fbc41"
            ],
            [
             0.9,
             "#4d9221"
            ],
            [
             1,
             "#276419"
            ]
           ],
           "sequential": [
            [
             0,
             "#0d0887"
            ],
            [
             0.1111111111111111,
             "#46039f"
            ],
            [
             0.2222222222222222,
             "#7201a8"
            ],
            [
             0.3333333333333333,
             "#9c179e"
            ],
            [
             0.4444444444444444,
             "#bd3786"
            ],
            [
             0.5555555555555556,
             "#d8576b"
            ],
            [
             0.6666666666666666,
             "#ed7953"
            ],
            [
             0.7777777777777778,
             "#fb9f3a"
            ],
            [
             0.8888888888888888,
             "#fdca26"
            ],
            [
             1,
             "#f0f921"
            ]
           ],
           "sequentialminus": [
            [
             0,
             "#0d0887"
            ],
            [
             0.1111111111111111,
             "#46039f"
            ],
            [
             0.2222222222222222,
             "#7201a8"
            ],
            [
             0.3333333333333333,
             "#9c179e"
            ],
            [
             0.4444444444444444,
             "#bd3786"
            ],
            [
             0.5555555555555556,
             "#d8576b"
            ],
            [
             0.6666666666666666,
             "#ed7953"
            ],
            [
             0.7777777777777778,
             "#fb9f3a"
            ],
            [
             0.8888888888888888,
             "#fdca26"
            ],
            [
             1,
             "#f0f921"
            ]
           ]
          },
          "colorway": [
           "#636efa",
           "#EF553B",
           "#00cc96",
           "#ab63fa",
           "#FFA15A",
           "#19d3f3",
           "#FF6692",
           "#B6E880",
           "#FF97FF",
           "#FECB52"
          ],
          "font": {
           "color": "#2a3f5f"
          },
          "geo": {
           "bgcolor": "white",
           "lakecolor": "white",
           "landcolor": "#E5ECF6",
           "showlakes": true,
           "showland": true,
           "subunitcolor": "white"
          },
          "hoverlabel": {
           "align": "left"
          },
          "hovermode": "closest",
          "mapbox": {
           "style": "light"
          },
          "paper_bgcolor": "white",
          "plot_bgcolor": "#E5ECF6",
          "polar": {
           "angularaxis": {
            "gridcolor": "white",
            "linecolor": "white",
            "ticks": ""
           },
           "bgcolor": "#E5ECF6",
           "radialaxis": {
            "gridcolor": "white",
            "linecolor": "white",
            "ticks": ""
           }
          },
          "scene": {
           "xaxis": {
            "backgroundcolor": "#E5ECF6",
            "gridcolor": "white",
            "gridwidth": 2,
            "linecolor": "white",
            "showbackground": true,
            "ticks": "",
            "zerolinecolor": "white"
           },
           "yaxis": {
            "backgroundcolor": "#E5ECF6",
            "gridcolor": "white",
            "gridwidth": 2,
            "linecolor": "white",
            "showbackground": true,
            "ticks": "",
            "zerolinecolor": "white"
           },
           "zaxis": {
            "backgroundcolor": "#E5ECF6",
            "gridcolor": "white",
            "gridwidth": 2,
            "linecolor": "white",
            "showbackground": true,
            "ticks": "",
            "zerolinecolor": "white"
           }
          },
          "shapedefaults": {
           "line": {
            "color": "#2a3f5f"
           }
          },
          "ternary": {
           "aaxis": {
            "gridcolor": "white",
            "linecolor": "white",
            "ticks": ""
           },
           "baxis": {
            "gridcolor": "white",
            "linecolor": "white",
            "ticks": ""
           },
           "bgcolor": "#E5ECF6",
           "caxis": {
            "gridcolor": "white",
            "linecolor": "white",
            "ticks": ""
           }
          },
          "title": {
           "x": 0.05
          },
          "xaxis": {
           "automargin": true,
           "gridcolor": "white",
           "linecolor": "white",
           "ticks": "",
           "title": {
            "standoff": 15
           },
           "zerolinecolor": "white",
           "zerolinewidth": 2
          },
          "yaxis": {
           "automargin": true,
           "gridcolor": "white",
           "linecolor": "white",
           "ticks": "",
           "title": {
            "standoff": 15
           },
           "zerolinecolor": "white",
           "zerolinewidth": 2
          }
         }
        },
        "xaxis": {
         "anchor": "y",
         "domain": [
          0,
          1
         ],
         "title": {
          "text": "Employee Count"
         }
        },
        "yaxis": {
         "anchor": "x",
         "domain": [
          0,
          1
         ],
         "title": {
          "text": "Department"
         }
        }
       }
      }
     },
     "metadata": {},
     "output_type": "display_data"
    }
   ],
   "source": [
    "# px.bar\n",
    "plot_dept = px.bar(dept_gender_melt.sort_values(by='value'), \n",
    "                   x=\"value\", y=\"department_name\", \n",
    "                   color=\"gender\", \n",
    "                   barmode='group',\n",
    "                #    color_discrete_sequence=[\"red\", \"blue\"],\n",
    "                   labels = {'value' : 'Employee Count',\n",
    "                             'department_name' : 'Department',\n",
    "                             'gender': 'Gender'}\n",
    "                             )\n",
    "\n",
    "plot_dept"
   ]
  },
  {
   "cell_type": "markdown",
   "metadata": {},
   "source": [
    "### Map: Employee Count across Indonesia\n",
    "\n",
    "Selanjutnya kita ingin membuat plot peta yang menunjukkan jumlah pegawai dari tiap gender dari seluruh provinsi. Oleh karena itu, kita dapat menggunakan data `prov_gender`."
   ]
  },
  {
   "cell_type": "code",
   "execution_count": 88,
   "metadata": {},
   "outputs": [
    {
     "data": {
      "text/html": [
       "<div>\n",
       "<style scoped>\n",
       "    .dataframe tbody tr th:only-of-type {\n",
       "        vertical-align: middle;\n",
       "    }\n",
       "\n",
       "    .dataframe tbody tr th {\n",
       "        vertical-align: top;\n",
       "    }\n",
       "\n",
       "    .dataframe thead th {\n",
       "        text-align: right;\n",
       "    }\n",
       "</style>\n",
       "<table border=\"1\" class=\"dataframe\">\n",
       "  <thead>\n",
       "    <tr style=\"text-align: right;\">\n",
       "      <th></th>\n",
       "      <th>Female</th>\n",
       "      <th>Male</th>\n",
       "    </tr>\n",
       "    <tr>\n",
       "      <th>province</th>\n",
       "      <th></th>\n",
       "      <th></th>\n",
       "    </tr>\n",
       "  </thead>\n",
       "  <tbody>\n",
       "    <tr>\n",
       "      <th>ACEH</th>\n",
       "      <td>91</td>\n",
       "      <td>109</td>\n",
       "    </tr>\n",
       "    <tr>\n",
       "      <th>BALI</th>\n",
       "      <td>17</td>\n",
       "      <td>12</td>\n",
       "    </tr>\n",
       "    <tr>\n",
       "      <th>BANTEN</th>\n",
       "      <td>62</td>\n",
       "      <td>56</td>\n",
       "    </tr>\n",
       "    <tr>\n",
       "      <th>BENGKULU</th>\n",
       "      <td>37</td>\n",
       "      <td>42</td>\n",
       "    </tr>\n",
       "    <tr>\n",
       "      <th>DAERAH ISTIMEWA YOGYAKARTA</th>\n",
       "      <td>24</td>\n",
       "      <td>26</td>\n",
       "    </tr>\n",
       "  </tbody>\n",
       "</table>\n",
       "</div>"
      ],
      "text/plain": [
       "                            Female  Male\n",
       "province                                \n",
       "ACEH                            91   109\n",
       "BALI                            17    12\n",
       "BANTEN                          62    56\n",
       "BENGKULU                        37    42\n",
       "DAERAH ISTIMEWA YOGYAKARTA      24    26"
      ]
     },
     "execution_count": 88,
     "metadata": {},
     "output_type": "execute_result"
    }
   ],
   "source": [
    "# head\n",
    "prov_gender.head()"
   ]
  },
  {
   "cell_type": "markdown",
   "metadata": {},
   "source": [
    "Selain jumlah pegawai per gender, kita juga ingin mengetahui jumlah total pegawai per provinsi, oleh karena itu mari kita buat suatu kolom baru bernama `Total` yang berisi jumlah pegawai Female dan Male."
   ]
  },
  {
   "cell_type": "code",
   "execution_count": 93,
   "metadata": {},
   "outputs": [
    {
     "data": {
      "text/html": [
       "<div>\n",
       "<style scoped>\n",
       "    .dataframe tbody tr th:only-of-type {\n",
       "        vertical-align: middle;\n",
       "    }\n",
       "\n",
       "    .dataframe tbody tr th {\n",
       "        vertical-align: top;\n",
       "    }\n",
       "\n",
       "    .dataframe thead th {\n",
       "        text-align: right;\n",
       "    }\n",
       "</style>\n",
       "<table border=\"1\" class=\"dataframe\">\n",
       "  <thead>\n",
       "    <tr style=\"text-align: right;\">\n",
       "      <th></th>\n",
       "      <th>Female</th>\n",
       "      <th>Male</th>\n",
       "      <th>Total</th>\n",
       "    </tr>\n",
       "    <tr>\n",
       "      <th>province</th>\n",
       "      <th></th>\n",
       "      <th></th>\n",
       "      <th></th>\n",
       "    </tr>\n",
       "  </thead>\n",
       "  <tbody>\n",
       "    <tr>\n",
       "      <th>ACEH</th>\n",
       "      <td>91</td>\n",
       "      <td>109</td>\n",
       "      <td>200</td>\n",
       "    </tr>\n",
       "    <tr>\n",
       "      <th>BALI</th>\n",
       "      <td>17</td>\n",
       "      <td>12</td>\n",
       "      <td>29</td>\n",
       "    </tr>\n",
       "    <tr>\n",
       "      <th>BANTEN</th>\n",
       "      <td>62</td>\n",
       "      <td>56</td>\n",
       "      <td>118</td>\n",
       "    </tr>\n",
       "    <tr>\n",
       "      <th>BENGKULU</th>\n",
       "      <td>37</td>\n",
       "      <td>42</td>\n",
       "      <td>79</td>\n",
       "    </tr>\n",
       "    <tr>\n",
       "      <th>DAERAH ISTIMEWA YOGYAKARTA</th>\n",
       "      <td>24</td>\n",
       "      <td>26</td>\n",
       "      <td>50</td>\n",
       "    </tr>\n",
       "  </tbody>\n",
       "</table>\n",
       "</div>"
      ],
      "text/plain": [
       "                            Female  Male  Total\n",
       "province                                       \n",
       "ACEH                            91   109    200\n",
       "BALI                            17    12     29\n",
       "BANTEN                          62    56    118\n",
       "BENGKULU                        37    42     79\n",
       "DAERAH ISTIMEWA YOGYAKARTA      24    26     50"
      ]
     },
     "execution_count": 93,
     "metadata": {},
     "output_type": "execute_result"
    }
   ],
   "source": [
    "# Total = Female + Male\n",
    "prov_gender['Total'] = prov_gender['Female'] + prov_gender['Male']\n",
    "\n",
    "prov_gender.head()"
   ]
  },
  {
   "cell_type": "markdown",
   "metadata": {},
   "source": [
    "Untuk bisa membuat peta, tentunya kita memerlukan informasi koordinat wilayah. Mari kita baca data `coordinate.csv` dan simpan dalam variabel `coord`."
   ]
  },
  {
   "cell_type": "code",
   "execution_count": 89,
   "metadata": {},
   "outputs": [
    {
     "data": {
      "text/html": [
       "<div>\n",
       "<style scoped>\n",
       "    .dataframe tbody tr th:only-of-type {\n",
       "        vertical-align: middle;\n",
       "    }\n",
       "\n",
       "    .dataframe tbody tr th {\n",
       "        vertical-align: top;\n",
       "    }\n",
       "\n",
       "    .dataframe thead th {\n",
       "        text-align: right;\n",
       "    }\n",
       "</style>\n",
       "<table border=\"1\" class=\"dataframe\">\n",
       "  <thead>\n",
       "    <tr style=\"text-align: right;\">\n",
       "      <th></th>\n",
       "      <th>province</th>\n",
       "      <th>latitude</th>\n",
       "      <th>longitude</th>\n",
       "    </tr>\n",
       "  </thead>\n",
       "  <tbody>\n",
       "    <tr>\n",
       "      <th>0</th>\n",
       "      <td>ACEH</td>\n",
       "      <td>4.36855</td>\n",
       "      <td>97.02530</td>\n",
       "    </tr>\n",
       "    <tr>\n",
       "      <th>1</th>\n",
       "      <td>SUMATERA UTARA</td>\n",
       "      <td>2.19235</td>\n",
       "      <td>99.38122</td>\n",
       "    </tr>\n",
       "    <tr>\n",
       "      <th>2</th>\n",
       "      <td>SUMATERA BARAT</td>\n",
       "      <td>-1.34225</td>\n",
       "      <td>100.07610</td>\n",
       "    </tr>\n",
       "    <tr>\n",
       "      <th>3</th>\n",
       "      <td>RIAU</td>\n",
       "      <td>0.50041</td>\n",
       "      <td>101.54758</td>\n",
       "    </tr>\n",
       "    <tr>\n",
       "      <th>4</th>\n",
       "      <td>JAMBI</td>\n",
       "      <td>-1.61157</td>\n",
       "      <td>102.77970</td>\n",
       "    </tr>\n",
       "  </tbody>\n",
       "</table>\n",
       "</div>"
      ],
      "text/plain": [
       "         province  latitude  longitude\n",
       "0            ACEH   4.36855   97.02530\n",
       "1  SUMATERA UTARA   2.19235   99.38122\n",
       "2  SUMATERA BARAT  -1.34225  100.07610\n",
       "3            RIAU   0.50041  101.54758\n",
       "4           JAMBI  -1.61157  102.77970"
      ]
     },
     "execution_count": 89,
     "metadata": {},
     "output_type": "execute_result"
    }
   ],
   "source": [
    "# read data coordinate\n",
    "coord = pd.read_csv(\"data/coordinate.csv\")\n",
    "coord.head()"
   ]
  },
  {
   "cell_type": "markdown",
   "metadata": {},
   "source": [
    "❓ Mari kita gabungkan data `prov_gender` dengan data `coord` menggunakan method `.merge()`!"
   ]
  },
  {
   "cell_type": "code",
   "execution_count": 91,
   "metadata": {},
   "outputs": [
    {
     "data": {
      "text/html": [
       "<div>\n",
       "<style scoped>\n",
       "    .dataframe tbody tr th:only-of-type {\n",
       "        vertical-align: middle;\n",
       "    }\n",
       "\n",
       "    .dataframe tbody tr th {\n",
       "        vertical-align: top;\n",
       "    }\n",
       "\n",
       "    .dataframe thead th {\n",
       "        text-align: right;\n",
       "    }\n",
       "</style>\n",
       "<table border=\"1\" class=\"dataframe\">\n",
       "  <thead>\n",
       "    <tr style=\"text-align: right;\">\n",
       "      <th></th>\n",
       "      <th>province</th>\n",
       "      <th>Female</th>\n",
       "      <th>Male</th>\n",
       "      <th>Total</th>\n",
       "      <th>latitude</th>\n",
       "      <th>longitude</th>\n",
       "    </tr>\n",
       "  </thead>\n",
       "  <tbody>\n",
       "    <tr>\n",
       "      <th>0</th>\n",
       "      <td>ACEH</td>\n",
       "      <td>91</td>\n",
       "      <td>109</td>\n",
       "      <td>200</td>\n",
       "      <td>4.36855</td>\n",
       "      <td>97.02530</td>\n",
       "    </tr>\n",
       "    <tr>\n",
       "      <th>1</th>\n",
       "      <td>BALI</td>\n",
       "      <td>17</td>\n",
       "      <td>12</td>\n",
       "      <td>29</td>\n",
       "      <td>-8.23566</td>\n",
       "      <td>115.12239</td>\n",
       "    </tr>\n",
       "    <tr>\n",
       "      <th>2</th>\n",
       "      <td>BANTEN</td>\n",
       "      <td>62</td>\n",
       "      <td>56</td>\n",
       "      <td>118</td>\n",
       "      <td>-6.44538</td>\n",
       "      <td>106.13756</td>\n",
       "    </tr>\n",
       "    <tr>\n",
       "      <th>3</th>\n",
       "      <td>BENGKULU</td>\n",
       "      <td>37</td>\n",
       "      <td>42</td>\n",
       "      <td>79</td>\n",
       "      <td>-3.51868</td>\n",
       "      <td>102.53598</td>\n",
       "    </tr>\n",
       "    <tr>\n",
       "      <th>4</th>\n",
       "      <td>DAERAH ISTIMEWA YOGYAKARTA</td>\n",
       "      <td>24</td>\n",
       "      <td>26</td>\n",
       "      <td>50</td>\n",
       "      <td>-7.79560</td>\n",
       "      <td>110.36950</td>\n",
       "    </tr>\n",
       "  </tbody>\n",
       "</table>\n",
       "</div>"
      ],
      "text/plain": [
       "                     province  Female  Male  Total  latitude  longitude\n",
       "0                        ACEH      91   109    200   4.36855   97.02530\n",
       "1                        BALI      17    12     29  -8.23566  115.12239\n",
       "2                      BANTEN      62    56    118  -6.44538  106.13756\n",
       "3                    BENGKULU      37    42     79  -3.51868  102.53598\n",
       "4  DAERAH ISTIMEWA YOGYAKARTA      24    26     50  -7.79560  110.36950"
      ]
     },
     "execution_count": 91,
     "metadata": {},
     "output_type": "execute_result"
    }
   ],
   "source": [
    "df_map = prov_gender.merge(coord, on='province')\n",
    "\n",
    "df_map.head()"
   ]
  },
  {
   "cell_type": "markdown",
   "metadata": {},
   "source": [
    "Untuk membuat peta, kita dapat menggunakan fungsi `.scatter_mapbox()`, dengan parameter:\n",
    "- `data_frame`: dataframe yang digunakan\n",
    "- `lat`: kolom untuk latitude (lintang)\n",
    "- `lon`: kolom untuk longitude (bujur)\n",
    "- `zoom`: zoom peta (0 - 20, default 8)\n",
    "- `mapbox_style`: salah satu di antara\n",
    "    - `'open-street-map'`\n",
    "    - `'carto-positron'`\n",
    "    - `'carto-darkmatter'`\n",
    "\n",
    "Beberapa parameter tambahan yang dapat kita gunakan untuk menambahkan informasi dalam plot peta kita:\n",
    "- `size`: kolom untuk mengatur ukuran titik\n",
    "- `hover_name`: kolom yang ditampilkan sebagai judul tooltip\n",
    "- `hover_data`: kolom yang ditampilkan sebagai informasi pada tooltip"
   ]
  },
  {
   "cell_type": "code",
   "execution_count": 105,
   "metadata": {},
   "outputs": [
    {
     "data": {
      "application/vnd.plotly.v1+json": {
       "config": {
        "plotlyServerURL": "https://plot.ly"
       },
       "data": [
        {
         "customdata": [
          [
           4.36855,
           97.0253,
           109,
           91
          ],
          [
           -8.23566,
           115.12239,
           12,
           17
          ],
          [
           -6.44538,
           106.13756,
           56,
           62
          ],
          [
           -3.51868,
           102.53598,
           42,
           37
          ],
          [
           -7.7956,
           110.3695,
           26,
           24
          ],
          [
           -6.1745,
           106.8227,
           20,
           18
          ],
          [
           0.71862,
           122.45559,
           27,
           36
          ],
          [
           -1.61157,
           102.7797,
           40,
           39
          ],
          [
           -6.88917,
           107.64047,
           221,
           191
          ],
          [
           -7.30324,
           110.00441,
           193,
           166
          ],
          [
           -6.96851,
           113.98005,
           223,
           207
          ],
          [
           -0.13224,
           111.09689,
           58,
           68
          ],
          [
           -2.94348,
           115.37565,
           61,
           50
          ],
          [
           -1.49958,
           113.29033,
           36,
           56
          ],
          [
           0.78844,
           116.242,
           32,
           28
          ],
          [
           2.72594,
           116.911,
           21,
           19
          ],
          [
           -2.75775,
           107.58394,
           14,
           14
          ],
          [
           -0.15478,
           104.58037,
           27,
           22
          ],
          [
           -4.8555,
           105.0273,
           82,
           96
          ],
          [
           -3.11884,
           129.42078,
           40,
           43
          ],
          [
           0.63012,
           127.97202,
           37,
           42
          ],
          [
           -8.12179,
           117.63696,
           44,
           50
          ],
          [
           -8.56568,
           120.69786,
           112,
           87
          ],
          [
           -3.98857,
           138.34853,
           190,
           180
          ],
          [
           -1.38424,
           132.90253,
           69,
           64
          ],
          [
           0.50041,
           101.54758,
           43,
           45
          ],
          [
           -2.49745,
           119.3919,
           35,
           27
          ],
          [
           -3.64467,
           119.94719,
           98,
           100
          ],
          [
           -1.69378,
           120.80886,
           57,
           42
          ],
          [
           -3.54912,
           121.72796,
           73,
           85
          ],
          [
           0.65557,
           124.09015,
           69,
           67
          ],
          [
           -1.34225,
           100.0761,
           53,
           70
          ],
          [
           -3.12668,
           104.09306,
           73,
           76
          ],
          [
           2.19235,
           99.38122,
           143,
           144
          ]
         ],
         "hovertemplate": "<b>%{hovertext}</b><br><br>Total=%{marker.size}<br>Male=%{customdata[2]}<br>Female=%{customdata[3]}<extra></extra>",
         "hovertext": [
          "ACEH",
          "BALI",
          "BANTEN",
          "BENGKULU",
          "DAERAH ISTIMEWA YOGYAKARTA",
          "DKI JAKARTA",
          "GORONTALO",
          "JAMBI",
          "JAWA BARAT",
          "JAWA TENGAH",
          "JAWA TIMUR",
          "KALIMANTAN BARAT",
          "KALIMANTAN SELATAN",
          "KALIMANTAN TENGAH",
          "KALIMANTAN TIMUR",
          "KALIMANTAN UTARA",
          "KEPULAUAN BANGKA BELITUNG",
          "KEPULAUAN RIAU",
          "LAMPUNG",
          "MALUKU",
          "MALUKU UTARA",
          "NUSA TENGGARA BARAT",
          "NUSA TENGGARA TIMUR",
          "PAPUA",
          "PAPUA BARAT",
          "RIAU",
          "SULAWESI BARAT",
          "SULAWESI SELATAN",
          "SULAWESI TENGAH",
          "SULAWESI TENGGARA",
          "SULAWESI UTARA",
          "SUMATERA BARAT",
          "SUMATERA SELATAN",
          "SUMATERA UTARA"
         ],
         "lat": [
          4.36855,
          -8.23566,
          -6.44538,
          -3.51868,
          -7.7956,
          -6.1745,
          0.71862,
          -1.61157,
          -6.88917,
          -7.30324,
          -6.96851,
          -0.13224,
          -2.94348,
          -1.49958,
          0.78844,
          2.72594,
          -2.75775,
          -0.15478,
          -4.8555,
          -3.11884,
          0.63012,
          -8.12179,
          -8.56568,
          -3.98857,
          -1.38424,
          0.50041,
          -2.49745,
          -3.64467,
          -1.69378,
          -3.54912,
          0.65557,
          -1.34225,
          -3.12668,
          2.19235
         ],
         "legendgroup": "",
         "lon": [
          97.0253,
          115.12239,
          106.13756,
          102.53598,
          110.3695,
          106.8227,
          122.45559,
          102.7797,
          107.64047,
          110.00441,
          113.98005,
          111.09689,
          115.37565,
          113.29033,
          116.242,
          116.911,
          107.58394,
          104.58037,
          105.0273,
          129.42078,
          127.97202,
          117.63696,
          120.69786,
          138.34853,
          132.90253,
          101.54758,
          119.3919,
          119.94719,
          120.80886,
          121.72796,
          124.09015,
          100.0761,
          104.09306,
          99.38122
         ],
         "marker": {
          "color": "#636efa",
          "size": [
           200,
           29,
           118,
           79,
           50,
           38,
           63,
           79,
           412,
           359,
           430,
           126,
           111,
           92,
           60,
           40,
           28,
           49,
           178,
           83,
           79,
           94,
           199,
           370,
           133,
           88,
           62,
           198,
           99,
           158,
           136,
           123,
           149,
           287
          ],
          "sizemode": "area",
          "sizeref": 1.075
         },
         "mode": "markers",
         "name": "",
         "showlegend": false,
         "subplot": "mapbox",
         "type": "scattermapbox"
        }
       ],
       "layout": {
        "legend": {
         "itemsizing": "constant",
         "tracegroupgap": 0
        },
        "mapbox": {
         "center": {
          "lat": -2.8158444117647057,
          "lon": 113.61834794117647
         },
         "domain": {
          "x": [
           0,
           1
          ],
          "y": [
           0,
           1
          ]
         },
         "style": "carto-positron",
         "zoom": 3
        },
        "margin": {
         "t": 60
        },
        "template": {
         "data": {
          "bar": [
           {
            "error_x": {
             "color": "#2a3f5f"
            },
            "error_y": {
             "color": "#2a3f5f"
            },
            "marker": {
             "line": {
              "color": "#E5ECF6",
              "width": 0.5
             },
             "pattern": {
              "fillmode": "overlay",
              "size": 10,
              "solidity": 0.2
             }
            },
            "type": "bar"
           }
          ],
          "barpolar": [
           {
            "marker": {
             "line": {
              "color": "#E5ECF6",
              "width": 0.5
             },
             "pattern": {
              "fillmode": "overlay",
              "size": 10,
              "solidity": 0.2
             }
            },
            "type": "barpolar"
           }
          ],
          "carpet": [
           {
            "aaxis": {
             "endlinecolor": "#2a3f5f",
             "gridcolor": "white",
             "linecolor": "white",
             "minorgridcolor": "white",
             "startlinecolor": "#2a3f5f"
            },
            "baxis": {
             "endlinecolor": "#2a3f5f",
             "gridcolor": "white",
             "linecolor": "white",
             "minorgridcolor": "white",
             "startlinecolor": "#2a3f5f"
            },
            "type": "carpet"
           }
          ],
          "choropleth": [
           {
            "colorbar": {
             "outlinewidth": 0,
             "ticks": ""
            },
            "type": "choropleth"
           }
          ],
          "contour": [
           {
            "colorbar": {
             "outlinewidth": 0,
             "ticks": ""
            },
            "colorscale": [
             [
              0,
              "#0d0887"
             ],
             [
              0.1111111111111111,
              "#46039f"
             ],
             [
              0.2222222222222222,
              "#7201a8"
             ],
             [
              0.3333333333333333,
              "#9c179e"
             ],
             [
              0.4444444444444444,
              "#bd3786"
             ],
             [
              0.5555555555555556,
              "#d8576b"
             ],
             [
              0.6666666666666666,
              "#ed7953"
             ],
             [
              0.7777777777777778,
              "#fb9f3a"
             ],
             [
              0.8888888888888888,
              "#fdca26"
             ],
             [
              1,
              "#f0f921"
             ]
            ],
            "type": "contour"
           }
          ],
          "contourcarpet": [
           {
            "colorbar": {
             "outlinewidth": 0,
             "ticks": ""
            },
            "type": "contourcarpet"
           }
          ],
          "heatmap": [
           {
            "colorbar": {
             "outlinewidth": 0,
             "ticks": ""
            },
            "colorscale": [
             [
              0,
              "#0d0887"
             ],
             [
              0.1111111111111111,
              "#46039f"
             ],
             [
              0.2222222222222222,
              "#7201a8"
             ],
             [
              0.3333333333333333,
              "#9c179e"
             ],
             [
              0.4444444444444444,
              "#bd3786"
             ],
             [
              0.5555555555555556,
              "#d8576b"
             ],
             [
              0.6666666666666666,
              "#ed7953"
             ],
             [
              0.7777777777777778,
              "#fb9f3a"
             ],
             [
              0.8888888888888888,
              "#fdca26"
             ],
             [
              1,
              "#f0f921"
             ]
            ],
            "type": "heatmap"
           }
          ],
          "heatmapgl": [
           {
            "colorbar": {
             "outlinewidth": 0,
             "ticks": ""
            },
            "colorscale": [
             [
              0,
              "#0d0887"
             ],
             [
              0.1111111111111111,
              "#46039f"
             ],
             [
              0.2222222222222222,
              "#7201a8"
             ],
             [
              0.3333333333333333,
              "#9c179e"
             ],
             [
              0.4444444444444444,
              "#bd3786"
             ],
             [
              0.5555555555555556,
              "#d8576b"
             ],
             [
              0.6666666666666666,
              "#ed7953"
             ],
             [
              0.7777777777777778,
              "#fb9f3a"
             ],
             [
              0.8888888888888888,
              "#fdca26"
             ],
             [
              1,
              "#f0f921"
             ]
            ],
            "type": "heatmapgl"
           }
          ],
          "histogram": [
           {
            "marker": {
             "pattern": {
              "fillmode": "overlay",
              "size": 10,
              "solidity": 0.2
             }
            },
            "type": "histogram"
           }
          ],
          "histogram2d": [
           {
            "colorbar": {
             "outlinewidth": 0,
             "ticks": ""
            },
            "colorscale": [
             [
              0,
              "#0d0887"
             ],
             [
              0.1111111111111111,
              "#46039f"
             ],
             [
              0.2222222222222222,
              "#7201a8"
             ],
             [
              0.3333333333333333,
              "#9c179e"
             ],
             [
              0.4444444444444444,
              "#bd3786"
             ],
             [
              0.5555555555555556,
              "#d8576b"
             ],
             [
              0.6666666666666666,
              "#ed7953"
             ],
             [
              0.7777777777777778,
              "#fb9f3a"
             ],
             [
              0.8888888888888888,
              "#fdca26"
             ],
             [
              1,
              "#f0f921"
             ]
            ],
            "type": "histogram2d"
           }
          ],
          "histogram2dcontour": [
           {
            "colorbar": {
             "outlinewidth": 0,
             "ticks": ""
            },
            "colorscale": [
             [
              0,
              "#0d0887"
             ],
             [
              0.1111111111111111,
              "#46039f"
             ],
             [
              0.2222222222222222,
              "#7201a8"
             ],
             [
              0.3333333333333333,
              "#9c179e"
             ],
             [
              0.4444444444444444,
              "#bd3786"
             ],
             [
              0.5555555555555556,
              "#d8576b"
             ],
             [
              0.6666666666666666,
              "#ed7953"
             ],
             [
              0.7777777777777778,
              "#fb9f3a"
             ],
             [
              0.8888888888888888,
              "#fdca26"
             ],
             [
              1,
              "#f0f921"
             ]
            ],
            "type": "histogram2dcontour"
           }
          ],
          "mesh3d": [
           {
            "colorbar": {
             "outlinewidth": 0,
             "ticks": ""
            },
            "type": "mesh3d"
           }
          ],
          "parcoords": [
           {
            "line": {
             "colorbar": {
              "outlinewidth": 0,
              "ticks": ""
             }
            },
            "type": "parcoords"
           }
          ],
          "pie": [
           {
            "automargin": true,
            "type": "pie"
           }
          ],
          "scatter": [
           {
            "fillpattern": {
             "fillmode": "overlay",
             "size": 10,
             "solidity": 0.2
            },
            "type": "scatter"
           }
          ],
          "scatter3d": [
           {
            "line": {
             "colorbar": {
              "outlinewidth": 0,
              "ticks": ""
             }
            },
            "marker": {
             "colorbar": {
              "outlinewidth": 0,
              "ticks": ""
             }
            },
            "type": "scatter3d"
           }
          ],
          "scattercarpet": [
           {
            "marker": {
             "colorbar": {
              "outlinewidth": 0,
              "ticks": ""
             }
            },
            "type": "scattercarpet"
           }
          ],
          "scattergeo": [
           {
            "marker": {
             "colorbar": {
              "outlinewidth": 0,
              "ticks": ""
             }
            },
            "type": "scattergeo"
           }
          ],
          "scattergl": [
           {
            "marker": {
             "colorbar": {
              "outlinewidth": 0,
              "ticks": ""
             }
            },
            "type": "scattergl"
           }
          ],
          "scattermapbox": [
           {
            "marker": {
             "colorbar": {
              "outlinewidth": 0,
              "ticks": ""
             }
            },
            "type": "scattermapbox"
           }
          ],
          "scatterpolar": [
           {
            "marker": {
             "colorbar": {
              "outlinewidth": 0,
              "ticks": ""
             }
            },
            "type": "scatterpolar"
           }
          ],
          "scatterpolargl": [
           {
            "marker": {
             "colorbar": {
              "outlinewidth": 0,
              "ticks": ""
             }
            },
            "type": "scatterpolargl"
           }
          ],
          "scatterternary": [
           {
            "marker": {
             "colorbar": {
              "outlinewidth": 0,
              "ticks": ""
             }
            },
            "type": "scatterternary"
           }
          ],
          "surface": [
           {
            "colorbar": {
             "outlinewidth": 0,
             "ticks": ""
            },
            "colorscale": [
             [
              0,
              "#0d0887"
             ],
             [
              0.1111111111111111,
              "#46039f"
             ],
             [
              0.2222222222222222,
              "#7201a8"
             ],
             [
              0.3333333333333333,
              "#9c179e"
             ],
             [
              0.4444444444444444,
              "#bd3786"
             ],
             [
              0.5555555555555556,
              "#d8576b"
             ],
             [
              0.6666666666666666,
              "#ed7953"
             ],
             [
              0.7777777777777778,
              "#fb9f3a"
             ],
             [
              0.8888888888888888,
              "#fdca26"
             ],
             [
              1,
              "#f0f921"
             ]
            ],
            "type": "surface"
           }
          ],
          "table": [
           {
            "cells": {
             "fill": {
              "color": "#EBF0F8"
             },
             "line": {
              "color": "white"
             }
            },
            "header": {
             "fill": {
              "color": "#C8D4E3"
             },
             "line": {
              "color": "white"
             }
            },
            "type": "table"
           }
          ]
         },
         "layout": {
          "annotationdefaults": {
           "arrowcolor": "#2a3f5f",
           "arrowhead": 0,
           "arrowwidth": 1
          },
          "autotypenumbers": "strict",
          "coloraxis": {
           "colorbar": {
            "outlinewidth": 0,
            "ticks": ""
           }
          },
          "colorscale": {
           "diverging": [
            [
             0,
             "#8e0152"
            ],
            [
             0.1,
             "#c51b7d"
            ],
            [
             0.2,
             "#de77ae"
            ],
            [
             0.3,
             "#f1b6da"
            ],
            [
             0.4,
             "#fde0ef"
            ],
            [
             0.5,
             "#f7f7f7"
            ],
            [
             0.6,
             "#e6f5d0"
            ],
            [
             0.7,
             "#b8e186"
            ],
            [
             0.8,
             "#7fbc41"
            ],
            [
             0.9,
             "#4d9221"
            ],
            [
             1,
             "#276419"
            ]
           ],
           "sequential": [
            [
             0,
             "#0d0887"
            ],
            [
             0.1111111111111111,
             "#46039f"
            ],
            [
             0.2222222222222222,
             "#7201a8"
            ],
            [
             0.3333333333333333,
             "#9c179e"
            ],
            [
             0.4444444444444444,
             "#bd3786"
            ],
            [
             0.5555555555555556,
             "#d8576b"
            ],
            [
             0.6666666666666666,
             "#ed7953"
            ],
            [
             0.7777777777777778,
             "#fb9f3a"
            ],
            [
             0.8888888888888888,
             "#fdca26"
            ],
            [
             1,
             "#f0f921"
            ]
           ],
           "sequentialminus": [
            [
             0,
             "#0d0887"
            ],
            [
             0.1111111111111111,
             "#46039f"
            ],
            [
             0.2222222222222222,
             "#7201a8"
            ],
            [
             0.3333333333333333,
             "#9c179e"
            ],
            [
             0.4444444444444444,
             "#bd3786"
            ],
            [
             0.5555555555555556,
             "#d8576b"
            ],
            [
             0.6666666666666666,
             "#ed7953"
            ],
            [
             0.7777777777777778,
             "#fb9f3a"
            ],
            [
             0.8888888888888888,
             "#fdca26"
            ],
            [
             1,
             "#f0f921"
            ]
           ]
          },
          "colorway": [
           "#636efa",
           "#EF553B",
           "#00cc96",
           "#ab63fa",
           "#FFA15A",
           "#19d3f3",
           "#FF6692",
           "#B6E880",
           "#FF97FF",
           "#FECB52"
          ],
          "font": {
           "color": "#2a3f5f"
          },
          "geo": {
           "bgcolor": "white",
           "lakecolor": "white",
           "landcolor": "#E5ECF6",
           "showlakes": true,
           "showland": true,
           "subunitcolor": "white"
          },
          "hoverlabel": {
           "align": "left"
          },
          "hovermode": "closest",
          "mapbox": {
           "style": "light"
          },
          "paper_bgcolor": "white",
          "plot_bgcolor": "#E5ECF6",
          "polar": {
           "angularaxis": {
            "gridcolor": "white",
            "linecolor": "white",
            "ticks": ""
           },
           "bgcolor": "#E5ECF6",
           "radialaxis": {
            "gridcolor": "white",
            "linecolor": "white",
            "ticks": ""
           }
          },
          "scene": {
           "xaxis": {
            "backgroundcolor": "#E5ECF6",
            "gridcolor": "white",
            "gridwidth": 2,
            "linecolor": "white",
            "showbackground": true,
            "ticks": "",
            "zerolinecolor": "white"
           },
           "yaxis": {
            "backgroundcolor": "#E5ECF6",
            "gridcolor": "white",
            "gridwidth": 2,
            "linecolor": "white",
            "showbackground": true,
            "ticks": "",
            "zerolinecolor": "white"
           },
           "zaxis": {
            "backgroundcolor": "#E5ECF6",
            "gridcolor": "white",
            "gridwidth": 2,
            "linecolor": "white",
            "showbackground": true,
            "ticks": "",
            "zerolinecolor": "white"
           }
          },
          "shapedefaults": {
           "line": {
            "color": "#2a3f5f"
           }
          },
          "ternary": {
           "aaxis": {
            "gridcolor": "white",
            "linecolor": "white",
            "ticks": ""
           },
           "baxis": {
            "gridcolor": "white",
            "linecolor": "white",
            "ticks": ""
           },
           "bgcolor": "#E5ECF6",
           "caxis": {
            "gridcolor": "white",
            "linecolor": "white",
            "ticks": ""
           }
          },
          "title": {
           "x": 0.05
          },
          "xaxis": {
           "automargin": true,
           "gridcolor": "white",
           "linecolor": "white",
           "ticks": "",
           "title": {
            "standoff": 15
           },
           "zerolinecolor": "white",
           "zerolinewidth": 2
          },
          "yaxis": {
           "automargin": true,
           "gridcolor": "white",
           "linecolor": "white",
           "ticks": "",
           "title": {
            "standoff": 15
           },
           "zerolinecolor": "white",
           "zerolinewidth": 2
          }
         }
        }
       }
      }
     },
     "metadata": {},
     "output_type": "display_data"
    }
   ],
   "source": [
    "# scatter_mapbox\n",
    "plot_map = px.scatter_mapbox(df_map, lat=\"latitude\", lon=\"longitude\", size = \"Total\",\n",
    "                             mapbox_style=\"carto-positron\", zoom=3,\n",
    "                             hover_name=\"province\", \n",
    "                             hover_data={'latitude':False,\n",
    "                                         'longitude':False,\n",
    "                                         'Male':True,\n",
    "                                         'Female':True},\n",
    "                             )\n",
    "\n",
    "plot_map"
   ]
  },
  {
   "cell_type": "markdown",
   "metadata": {},
   "source": [
    "# Code for Dashboard"
   ]
  },
  {
   "cell_type": "markdown",
   "metadata": {},
   "source": [
    "## Line Plot: Joining Frequency over Time"
   ]
  },
  {
   "cell_type": "code",
   "execution_count": null,
   "metadata": {},
   "outputs": [],
   "source": [
    "# data: line plot\n",
    "df_join = pd.crosstab(index=employ_merge['join_year'],\n",
    "                       columns='join_count', \n",
    "                       colnames=[None])\n",
    "df_join = df_join.reset_index()\n",
    "\n",
    "# plot: line plot\n",
    "plot_join = px.line(df_join, x='join_year', y='join_count', markers=True,\n",
    "                     labels = {\n",
    "                         'join_year' : 'Year',\n",
    "                         'join_count' : 'Employee Joining'})"
   ]
  },
  {
   "cell_type": "markdown",
   "metadata": {},
   "source": [
    "## Map: Employee Count across Indonesia"
   ]
  },
  {
   "cell_type": "code",
   "execution_count": null,
   "metadata": {},
   "outputs": [],
   "source": [
    "# data: map\n",
    "prov_gender = pd.crosstab(index=employ_merge['province'],\n",
    "                        columns=employ_merge['gender'], colnames=[None])\n",
    "prov_gender['Total'] = prov_gender['Female'] + prov_gender['Male']\n",
    "df_map = prov_gender.merge(coord, on='province')\n",
    "\n",
    "# plot: map\n",
    "plot_map = px.scatter_mapbox(df_map, lat=\"latitude\", lon=\"longitude\", size = \"Total\",\n",
    "                             mapbox_style=\"carto-positron\", zoom=3,\n",
    "                             hover_name=\"province\", \n",
    "                             hover_data={'latitude':False,\n",
    "                                         'longitude':False,\n",
    "                                         'Male':True,\n",
    "                                         'Female':True},\n",
    "                             )"
   ]
  },
  {
   "cell_type": "markdown",
   "metadata": {},
   "source": [
    "## Barplot: Employee Count per Generation in Customer Service Dept."
   ]
  },
  {
   "cell_type": "code",
   "execution_count": null,
   "metadata": {},
   "outputs": [],
   "source": [
    "# data: barplot\n",
    "employ_cs = employ_merge[employ_merge['department_name'] == 'Customer Service']\n",
    "df_gen = pd.crosstab(index=employ_cs['generation'], columns='num_people', colnames=[None])\n",
    "df_gen = df_gen.reset_index()\n",
    "\n",
    "# plot: barplot\n",
    "plot_gen = px.bar(df_gen, x='generation', y='num_people', \n",
    "                   labels = {'generation' : 'Generation',\n",
    "                             'num_people' : 'Employee Count'})"
   ]
  },
  {
   "cell_type": "markdown",
   "metadata": {},
   "source": [
    "## Multivariate: Gender per Department, Age 20 to 50"
   ]
  },
  {
   "cell_type": "code",
   "execution_count": null,
   "metadata": {},
   "outputs": [],
   "source": [
    "# data: multivariate\n",
    "employ_age = employ_merge[employ_merge['age'].between(left=20, right=50)]\n",
    "dept_gender = pd.crosstab(index=employ_age['department_name'],\n",
    "                          columns=employ_age['gender'],\n",
    "                          colnames=[None])\n",
    "dept_gender_melt = dept_gender.melt(ignore_index=False, var_name='gender')\n",
    "dept_gender_melt = dept_gender_melt.reset_index()\n",
    "\n",
    "# data: multivariate\n",
    "plot_dept = px.bar(dept_gender_melt.sort_values(by='value'), \n",
    "                   x=\"value\", y=\"department_name\", \n",
    "                   color=\"gender\", \n",
    "                   barmode='group',\n",
    "                   labels = {'value' : 'Employee Count',\n",
    "                             'department_name' : 'Department',\n",
    "                             'gender': 'Gender'}\n",
    "                             )"
   ]
  },
  {
   "cell_type": "markdown",
   "metadata": {},
   "source": [
    "# References\n",
    "\n",
    "- [Wikipedia: Generations](https://en.wikipedia.org/wiki/Generation#List_of_social_generations)\n",
    "- [Pandas Documentation](https://pandas.pydata.org/docs/user_guide/index.html#user-guide)\n",
    "- [Nomiden Documentation](https://nomiden.readthedocs.io/en/latest/)\n",
    "- [Plotly Express Documentation](https://plotly.com/python-api-reference/plotly.express.html)\n",
    "- [Streamlit Documentation](https://docs.streamlit.io/)"
   ]
  }
 ],
 "metadata": {
  "kernelspec": {
   "display_name": "algoritma",
   "language": "python",
   "name": "python3"
  },
  "language_info": {
   "codemirror_mode": {
    "name": "ipython",
    "version": 3
   },
   "file_extension": ".py",
   "mimetype": "text/x-python",
   "name": "python",
   "nbconvert_exporter": "python",
   "pygments_lexer": "ipython3",
   "version": "3.10.13"
  },
  "toc": {
   "base_numbering": 1,
   "nav_menu": {},
   "number_sections": true,
   "sideBar": true,
   "skip_h1_title": false,
   "title_cell": "Table of Contents",
   "title_sidebar": "Contents",
   "toc_cell": false,
   "toc_position": {},
   "toc_section_display": true,
   "toc_window_display": true
  },
  "varInspector": {
   "cols": {
    "lenName": 16,
    "lenType": 16,
    "lenVar": 40
   },
   "kernels_config": {
    "python": {
     "delete_cmd_postfix": "",
     "delete_cmd_prefix": "del ",
     "library": "var_list.py",
     "varRefreshCmd": "print(var_dic_list())"
    },
    "r": {
     "delete_cmd_postfix": ") ",
     "delete_cmd_prefix": "rm(",
     "library": "var_list.r",
     "varRefreshCmd": "cat(var_dic_list()) "
    }
   },
   "types_to_exclude": [
    "module",
    "function",
    "builtin_function_or_method",
    "instance",
    "_Feature"
   ],
   "window_display": false
  }
 },
 "nbformat": 4,
 "nbformat_minor": 4
}
